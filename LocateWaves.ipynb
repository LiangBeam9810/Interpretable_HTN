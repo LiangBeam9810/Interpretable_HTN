{
 "cells": [
  {
   "cell_type": "code",
   "execution_count": 1,
   "metadata": {},
   "outputs": [],
   "source": [
    "import ECGDataset \n",
    "import Models \n",
    "import Net\n",
    "from train_test_validat import *\n",
    "from self_attention import *\n",
    "import matplotlib.pyplot as plt\n",
    "import ecg_plot\n",
    "import cam\n",
    "import ECGplot\n",
    "import ECGHandle\n",
    "import torch\n",
    "import torch.utils.data as Data\n",
    "from sklearn.metrics import confusion_matrix, ConfusionMatrixDisplay\n",
    "from sklearn.model_selection import StratifiedKFold\n",
    "import random\n",
    "import pandas as pd\n",
    "from tqdm import tqdm\n",
    "\n",
    "import time\n",
    "import math\n",
    "import os\n",
    "import gc\n",
    "from torch.utils.tensorboard import SummaryWriter\n",
    "\n",
    "\n",
    "def seed_torch(seed=2023):\n",
    "\trandom.seed(seed)\n",
    "\tos.environ['PYTHONHASHSEED'] = str(seed) # 为了禁止hash随机化，使得实验可复现\n",
    "\tnp.random.seed(seed)\n",
    "\ttorch.manual_seed(seed)\n",
    "\ttorch.cuda.manual_seed(seed)\n",
    "\ttorch.cuda.manual_seed_all(seed) # if you are using multi-GPU.\n",
    "\ttorch.backends.cudnn.benchmark = False \n",
    "\ttorch.backends.cudnn.deterministic = True\n",
    "    # torch.backends.cudnn.enabled = False"
   ]
  },
  {
   "cell_type": "code",
   "execution_count": 2,
   "metadata": {},
   "outputs": [],
   "source": [
    "EcgChannles_num = 12\n",
    "EcgLength_num = 5000\n",
    "DEVICE = \"cpu\"\n",
    "seed_torch(2023)"
   ]
  },
  {
   "cell_type": "code",
   "execution_count": 19,
   "metadata": {},
   "outputs": [
    {
     "name": "stdout",
     "output_type": "stream",
     "text": [
      "\n",
      "\n",
      "            orginal   removed diagnose NaN\n",
      "   nums      200082          199997       \n",
      "              HTN             NHTN        \n",
      "   nums       3273           196724       \n",
      "\n",
      "\n",
      "            orginal      removed ID NaN   \n",
      "   nums      199997          199995       \n",
      "              HTN             NHTN        \n",
      "   nums       3273           196722       \n",
      "\n",
      "\n",
      "     reset num:       33  \n",
      "  ERR labels num:    1270 \n",
      "            orginal      correct label    \n",
      "   nums      199995          199995       \n",
      "              HTN             NHTN        \n",
      "   nums       4575           195420       \n",
      "\n",
      "\n",
      "            orginal            QC         \n",
      "   nums      199995          72845        \n",
      "              HTN             NHTN        \n",
      "   nums       1992           70853        \n",
      "\n",
      "\n",
      "            orginal      filtered ages    \n",
      "   nums      72845           69819        \n",
      "              HTN             NHTN        \n",
      "   nums       1955           67864        \n",
      "\n",
      "\n",
      "            orginal   filtered department \n",
      "   nums      69819           15762        \n",
      "              HTN             NHTN        \n",
      "   nums       1955           13807        \n",
      "\n",
      "\n",
      "   ERR ages num:     1417 \n",
      "            orginal       correct age     \n",
      "   nums      15762           15762        \n",
      "              HTN             NHTN        \n",
      "   nums       1955           13807        \n",
      "\n",
      "\n",
      "            orginal    remove diagnose起搏  \n",
      "   nums      15762           15689        \n",
      "              HTN             NHTN        \n",
      "   nums       1929           13760        \n",
      "           remove HTN     remove NHTN     \n",
      "   nums        26              47         \n",
      "\n",
      "\n",
      "            orginal    remove diagnose房颤  \n",
      "   nums      15689           15095        \n",
      "              HTN             NHTN        \n",
      "   nums       1804           13291        \n",
      "           remove HTN     remove NHTN     \n",
      "   nums       125             469         \n",
      "\n",
      "\n",
      "            orginal   remove diagnose左束支传导阻滞\n",
      "   nums      15095           15095        \n",
      "              HTN             NHTN        \n",
      "   nums       1804           13291        \n",
      "           remove HTN     remove NHTN     \n",
      "   nums        0               0          \n",
      "\n",
      "\n",
      "            orginal   remove diagnose左前分支阻滞\n",
      "   nums      15095           14933        \n",
      "              HTN             NHTN        \n",
      "   nums       1778           13155        \n",
      "           remove HTN     remove NHTN     \n",
      "   nums        26             136         \n"
     ]
    }
   ],
   "source": [
    "data_root = '/workspace/data/Preprocess_HTN/datas_/'\n",
    "ALL_data = pd.read_csv(data_root+'/All_data_handled_ID_range_age_IDimputate.csv',low_memory=False)\n",
    "ALL_data = ECGHandle.change_label(ALL_data)\n",
    "ALL_data = ECGHandle.filter_ID(ALL_data)\n",
    "ALL_data = ECGHandle.correct_label(ALL_data)\n",
    "\n",
    "ALL_data = ECGHandle.filter_QC(ALL_data)\n",
    "ALL_data = ECGHandle.filter_ages(ALL_data,18)\n",
    "ALL_data = ECGHandle.filter_departmentORlabel(ALL_data,'外科')\n",
    "ALL_data = ECGHandle.correct_age(ALL_data)\n",
    "ALL_data = ECGHandle.filter_diagnose(ALL_data,'起搏')\n",
    "ALL_data = ECGHandle.filter_diagnose(ALL_data,'房颤')\n",
    "ALL_data = ECGHandle.filter_diagnose(ALL_data,'左束支传导阻滞')\n",
    "ALL_data = ECGHandle.filter_diagnose(ALL_data,'左前分支阻滞')\n",
    "# ALL_data = ECGHandle.filter_diagnose(ALL_data,'阻滞')\n",
    "# ALL_data = ECGHandle.remove_duplicated(ALL_data)\n",
    "ALL_data = ALL_data.rename(columns={'住院号':'ID','年龄':'age','性别':'gender','姓名':'name'}) \n",
    "ALL_data_buffer = ALL_data.copy()\n",
    "seed_torch(2023)\n",
    "ALL_data_buffer = ALL_data_buffer.sample(frac=1).reset_index(drop=True) #打乱顺序\n",
    "# all_dataset = ECGHandle.ECG_Dataset(data_root,ALL_data_buffer,preprocess = True)\n",
    "####################################################################随机选取test\n",
    "test_df,tv_df = Pair_ID(ALL_data_buffer,0.2,Range_max=15,pair_num=1)\n",
    "test_dataset = ECGHandle.ECG_Dataset(data_root,test_df,preprocess = True)"
   ]
  },
  {
   "cell_type": "code",
   "execution_count": null,
   "metadata": {},
   "outputs": [],
   "source": [
    "test_df.to_csv('test.csv')"
   ]
  },
  {
   "cell_type": "code",
   "execution_count": 20,
   "metadata": {},
   "outputs": [],
   "source": [
    "Models_path = '/workspace/data/Interpretable_HTN/model/20230317_164624/20230317_164624/BestF1_2.pt'\n",
    "save_root = Models_path[:-3]+'/'    \n",
    "layervalue_root = save_root+'/layervalue/'    \n",
    "NET = [Net.MLBFNet_GUR_o(True,True,True,2,Dropout_rate=0.3), ] # type: ignore    \n",
    "criterion = torch.nn.CrossEntropyLoss()    \n",
    "testmodel = NET[0].to(DEVICE)    \n",
    "testmodel.load_state_dict(torch.load(Models_path))    \n",
    "test_dataloader = Data.DataLoader(dataset=test_dataset, batch_size=1, shuffle=False)      \n",
    "y_true,y_pred,y_out,test_loss,test_acc = eval_model(test_dataloader,criterion,testmodel,DEVICE) # 验证模型\""
   ]
  },
  {
   "cell_type": "code",
   "execution_count": 21,
   "metadata": {},
   "outputs": [],
   "source": [
    "from sklearn.metrics import roc_curve, auc\n",
    "def Find_Optimal_Cutoff(TPR, FPR, threshold):    \n",
    "        y = TPR - FPR    \n",
    "        Youden_index = np.argmax(y)  # Only the first occurrence is returned.    \n",
    "        optimal_threshold = threshold[Youden_index]    \n",
    "        point = [FPR[Youden_index], TPR[Youden_index]]    \n",
    "        return optimal_threshold, point    \n",
    "def ROC(label, y_prob):    \n",
    "        fpr, tpr, thresholds = roc_curve(label, y_prob)    \n",
    "        roc_auc = auc(fpr, tpr)    \n",
    "        optimal_th, optimal_point = Find_Optimal_Cutoff(TPR=tpr, FPR=fpr, threshold=thresholds)    \n",
    "        return fpr, tpr, roc_auc, optimal_th, optimal_point"
   ]
  },
  {
   "cell_type": "code",
   "execution_count": 22,
   "metadata": {},
   "outputs": [
    {
     "name": "stdout",
     "output_type": "stream",
     "text": [
      "\n",
      " [216  73] \n",
      " [ 68 442] \n",
      " F1_score:  0.862439024390244 precision:  0.858252427184466 recall:  0.8666666666666667 AUC 0.9009362914716059\n"
     ]
    }
   ],
   "source": [
    "optimal_th = 0.5 #根据验证集得到的，不能在测试集上找,\n",
    "y_pred = ((np.array(y_out))[:,1])    \n",
    "y_pred[y_pred>optimal_th] =  int(1)    \n",
    "y_pred[y_pred<=optimal_th] =  int(0)    \n",
    "\n",
    "F1_score_valid =f1_score(y_true, y_pred, average='binary')#F1分数\n",
    "p_valid = precision_score(y_true, y_pred, average='binary')\n",
    "r_valid = recall_score(y_true, y_pred, average='binary')   \n",
    "auc_valid = roc_auc_score(y_true,y_score=((np.array(y_out))[:,1]))\n",
    "C1 = confusion_matrix(y_true,y_pred)\n",
    "print(   '\\n',C1[0],'\\n',C1[1],'\\n',\"F1_score: \",F1_score_valid,\"precision: \",p_valid,\"recall: \",r_valid,'AUC',auc_valid)"
   ]
  },
  {
   "cell_type": "code",
   "execution_count": 23,
   "metadata": {},
   "outputs": [],
   "source": [
    "# 定义获取梯度的函数\n",
    "fmap_block = list()\n",
    "grad_block = list()\n",
    "\n",
    "# 获取反向的传播图\n",
    "def backward_hook(module, grad_in, grad_out):\n",
    "    # print('backward_hook ',len(grad_out),grad_out[0].shape)\n",
    "    grad_block.append(grad_out[0].clone().cpu().detach())\n",
    "\n",
    "# 定义获取特征图的函数\n",
    "def farward_hook(module, input, output):\n",
    "    # print('farward_hook ',output.shape)\n",
    "    fmap_block.append(output.clone().cpu().detach())"
   ]
  },
  {
   "cell_type": "code",
   "execution_count": 24,
   "metadata": {},
   "outputs": [],
   "source": [
    "def scaled_layer_cam(x,gamma:float = 2.):\n",
    "    x_max = x.max()\n",
    "    x_scaled = np.tanh(((gamma*x)/x_max))\n",
    "    return x_scaled"
   ]
  },
  {
   "cell_type": "code",
   "execution_count": 25,
   "metadata": {},
   "outputs": [],
   "source": [
    "def scaled_layer_cam_max(cam):\n",
    "    (cam_min, cam_max) = (cam.min(), cam.max())\n",
    "    norm_cam = (cam - cam_min) / (((cam_max - cam_min) + 1e-08))\n",
    "    return norm_cam"
   ]
  },
  {
   "cell_type": "code",
   "execution_count": 26,
   "metadata": {},
   "outputs": [
    {
     "name": "stderr",
     "output_type": "stream",
     "text": [
      "100%|██████████| 799/799 [27:38<00:00,  2.08s/it]\n"
     ]
    }
   ],
   "source": [
    "save_root = Models_path[:-3]+'/'\n",
    "layervalue_root = save_root+'/layervalue/'\n",
    "if(not(os.path.exists(save_root))): os.mkdir(save_root)\n",
    "if(not(os.path.exists(layervalue_root))): os.mkdir(layervalue_root)\n",
    "lead_index = ['I', 'II', 'III', 'aVR', 'aVL', 'aVF', 'V1', 'V2', 'V3', 'V4', 'V5', 'V6']\n",
    "x_index = np.arange(0,12)\n",
    "# fig, axs = plt.subplots(nrows=4, ncols=3, sharex=True,sharey=True,figsize=(45,25), constrained_layout=True,dpi =100)\n",
    "for index in tqdm(range( test_dataset.__len__())):# test_dataset.__len__()\n",
    "    NET = [Net.MLBFNet_GUR_o(True,True,True,2,Dropout_rate=0.3), ] # type: ignore\n",
    "    testmodel = NET[0].to(DEVICE)\n",
    "    testmodel.load_state_dict(torch.load(Models_path))\n",
    "    testmodel.conv1.register_forward_hook(farward_hook)\t#正向传播\n",
    "    testmodel.conv1.register_full_backward_hook(backward_hook)#反向传播\n",
    "    testmodel.conv2.register_forward_hook(farward_hook)\t#正向传播\n",
    "    testmodel.conv2.register_full_backward_hook(backward_hook)#反向传播\n",
    "    testmodel.layers_list_2d[0].register_forward_hook(farward_hook)\t#正向传播\n",
    "    testmodel.layers_list_2d[0].register_full_backward_hook(backward_hook)#反向传播\n",
    "    testmodel.layers_list_2d[1].register_forward_hook(farward_hook)\t#正向传播\n",
    "    testmodel.layers_list_2d[1].register_full_backward_hook(backward_hook)#反向传播\n",
    "    testmodel.layers_list_2d[2].register_forward_hook(farward_hook)\t#正向传播\n",
    "    testmodel.layers_list_2d[2].register_full_backward_hook(backward_hook)#反向传播\n",
    "\n",
    "\n",
    "    inputs,labels = test_dataset.__getitem__(index)\n",
    "    info =test_dataset.infos.iloc[index]\n",
    "    ECGfile_name = info['ECGFilename']\n",
    "    testmodel.eval()\n",
    "    fmap_block = list()\n",
    "    grad_block = list()\n",
    "\n",
    "    labels = labels.unsqueeze(0) # 在首位添加1维作为batchsize\n",
    "    inputs = inputs.unsqueeze(0) # 在首位添加1维作为batchsize\n",
    "\n",
    "    inputs = inputs.to(DEVICE)\n",
    "    labels = labels.to(DEVICE)  \n",
    "\n",
    "    outputs = testmodel(inputs)\n",
    "    # print('outputs',outputs)\n",
    "    _,pred = outputs.max(1)     # 求概率最大值对应的标签\n",
    "    possibility = nn.functional.softmax(outputs,dim=-1)\n",
    "    # print(\"labels: {}\".format(labels))\n",
    "    # print(\"predict: {}\".format(pred))\n",
    "    # print(\"possibility: {}\".format(possibility))\n",
    "    loss = outputs[0,labels]      # 网络对应于pred的类别的输出即为loss\n",
    "    loss.backward(retain_graph=True)  #retain_graph=True，目的为是为保留该过程中计算的梯度，后续G网络更新时使用\n",
    "\n",
    "    fmap1 = (fmap_block[0][0]).to('cpu').detach().numpy()\n",
    "    gradmap1 = (grad_block[4][0]).to('cpu').detach().numpy()#G是从后往前的，conv1的在后面\n",
    "    layer2d_vlue1 = cam.caculate_layer_cam_vlue_2d(fmap1,gradmap1)\n",
    "\n",
    "    fmap2 = (fmap_block[1][0]).to('cpu').detach().numpy()\n",
    "    gradmap2 = (grad_block[3][0]).to('cpu').detach().numpy()\n",
    "    layer2d_vlue2 = cam.caculate_layer_cam_vlue_2d(fmap2,gradmap2)\n",
    "\n",
    "    fmap2d_1 = (fmap_block[2][0]).to('cpu').detach().numpy()\n",
    "    gradmap2d_1 = (grad_block[2][0]).to('cpu').detach().numpy()\n",
    "    layer2d_vlue2d_1 = cam.caculate_layer_cam_vlue_2d(fmap2d_1,gradmap2d_1)\n",
    "\n",
    "    fmap2d_2 = (fmap_block[3][0]).to('cpu').detach().numpy()\n",
    "    gradmap2d_2 = (grad_block[1][0]).to('cpu').detach().numpy()\n",
    "    layer2d_vlue2d_2 = cam.caculate_layer_cam_vlue_2d(fmap2d_2,gradmap2d_2)\n",
    "\n",
    "    fmap2d_3 = (fmap_block[4][0]).to('cpu').detach().numpy()\n",
    "    gradmap2d_3 = (grad_block[0][0]).to('cpu').detach().numpy()\n",
    "    layer2d_vlue2d_3 = cam.caculate_layer_cam_vlue_2d(fmap2d_3,gradmap2d_3)\n",
    "\n",
    "    layer_vlue_mean = (scaled_layer_cam_max(layer2d_vlue1)+scaled_layer_cam_max(layer2d_vlue2)+scaled_layer_cam_max(layer2d_vlue2d_1)+scaled_layer_cam_max(layer2d_vlue2d_2)+scaled_layer_cam_max(layer2d_vlue2d_3))/5\n",
    "    np.save(layervalue_root+ECGfile_name,layer_vlue_mean)\n",
    "    \n",
    "#     inputs,_ = test_dataset.__getitem__(index)\n",
    "#     cmap = 'OrRd' \n",
    "#     colors = ECGplot.color_map(layer_vlue_mean, cmap)#相当于归一化\n",
    "\n",
    "#     for i,ax in enumerate(axs.flat):  # type: ignore\n",
    "#         plot_y = np.array(inputs[i]*5000.)#缩放\n",
    "#         t = np.arange(0,5000)\n",
    "#         ECGplot.plot_ECG_line(fig,ax,x = t,y= plot_y,y_name = str(lead_index[i])+\" Voltage(mV)\",title = lead_index[i])\n",
    "#         for j in t:\n",
    "#             ax.axvline(x=j,alpha=0.1,color=colors[i,j]) #第i导联 第j个时间点的importance value\n",
    "#     plt.savefig(save_root+'/'+info['ECGFilename']+'_'+str(labels[0].tolist())+'_'+str(pred[0].tolist())+'.png', bbox_inches='tight',dpi = 200)  \n",
    "# plt.close()  "
   ]
  },
  {
   "cell_type": "code",
   "execution_count": 27,
   "metadata": {},
   "outputs": [],
   "source": [
    "def max_min(x):\n",
    "    max_ = x.max()\n",
    "    min_ = x.min()\n",
    "    x_ = (x-min_)/(max_-min_+1e-8)\n",
    "    return x_"
   ]
  },
  {
   "cell_type": "code",
   "execution_count": 28,
   "metadata": {},
   "outputs": [],
   "source": [
    "def layervalue_segement_count(start_index:int,end_index:int,layervalue:np.ndarray,segement_num:int = 10):\n",
    "    len_ = end_index-start_index\n",
    "    chanle_num = layervalue.shape[0]\n",
    "    if(len_<segement_num):\n",
    "        layervalue_sum = ((layervalue[:,start_index:end_index].sum())/(chanle_num*segement_num*1.0))\n",
    "        return layervalue_sum\n",
    "    step = len_//segement_num\n",
    "    layervalue_sum = np.zeros(segement_num)\n",
    "    for i in range(segement_num):\n",
    "        start = start_index+step*i\n",
    "        sum_sement = layervalue[:,start:(start+step)].sum()/(chanle_num*step*1.0)\n",
    "        layervalue_sum[i] = layervalue_sum[i]+sum_sement*1. #在这一段step里面，每个时间点的平均重要程度\n",
    "    return layervalue_sum"
   ]
  },
  {
   "cell_type": "code",
   "execution_count": 30,
   "metadata": {},
   "outputs": [
    {
     "name": "stderr",
     "output_type": "stream",
     "text": [
      "/opt/conda/lib/python3.7/site-packages/ipykernel_launcher.py:55: UserWarning: FixedFormatter should only be used together with FixedLocator\n"
     ]
    },
    {
     "data": {
      "text/plain": [
       "[Text(-10.0, 0, '0'),\n",
       " Text(0.0, 0, 'T'),\n",
       " Text(10.0, 0, 'P'),\n",
       " Text(20.0, 0, 'Q'),\n",
       " Text(30.0, 0, 'R'),\n",
       " Text(40.0, 0, 'S'),\n",
       " Text(50.0, 0, 'T'),\n",
       " Text(60.0, 0, 'P'),\n",
       " Text(70.0, 0, '')]"
      ]
     },
     "execution_count": 30,
     "metadata": {},
     "output_type": "execute_result"
    },
    {
     "data": {
      "image/png": "[encoded data removed]",
      "text/plain": [
       "<Figure size 432x288 with 1 Axes>"
      ]
     },
     "metadata": {
      "needs_background": "light"
     },
     "output_type": "display_data"
    }
   ],
   "source": [
    "\n",
    "index = 0\n",
    "segement_number = 10\n",
    "important_values = np.zeros([6,segement_number])\n",
    "\n",
    "\n",
    "for index in range(test_dataset.__len__()):#\n",
    "    important_value = np.zeros([6,segement_number])\n",
    "    inputs,labels = test_dataset.__getitem__(index)\n",
    "    if(labels == 0 or y_pred[index] == 0): continue\n",
    "    info =test_dataset.infos.iloc[index]\n",
    "    ECGfile_name = info['ECGFilename']\n",
    "    layervalue_file = layervalue_root  + ECGfile_name +'.npy'\n",
    "    waves_location_file_root = '/workspace/data/Preprocess_HTN/Waves_2023/'\n",
    "    try:\n",
    "        waves = pd.read_csv(waves_location_file_root+ECGfile_name+'.csv',index_col=0)\n",
    "    except:\n",
    "        continue\n",
    "    if(waves.isnull().any().any()):\n",
    "        continue\n",
    "    layervalue = np.load(layervalue_file)\n",
    "\n",
    "    for head_peak in range(1,len(waves.columns)-1):\n",
    "        if(waves.loc['P'][head_peak] == waves.iloc[:,head_peak].min()): #P波不是第一个识别出来的波形\n",
    "            p_index = int(waves.loc['P'][head_peak])\n",
    "            q_index = int(waves.loc['Q'][head_peak])\n",
    "            r_index = int(waves.loc['R'][head_peak])\n",
    "            s_index = int(waves.loc['S'][head_peak])\n",
    "            t_index = int(waves.loc['T'][head_peak])\n",
    "            t_index_befort = int(waves.loc['T'][head_peak-1])\n",
    "            if(((waves.loc['P'][head_peak+1]==None)) or((waves.loc['P'][head_peak+1] < t_index))):\n",
    "                break\n",
    "            else:\n",
    "                p_index_next = waves.loc['P'][head_peak+1] \n",
    "            important_value[0] = important_value[0]+ layervalue_segement_count(t_index_befort,p_index,layervalue,segement_number)\n",
    "            important_value[1] = important_value[1]+ layervalue_segement_count(p_index,q_index,layervalue,segement_number)   \n",
    "            important_value[2] = important_value[2]+ layervalue_segement_count(q_index,r_index,layervalue,segement_number) \n",
    "            important_value[3] = important_value[3]+layervalue_segement_count(r_index,s_index,layervalue,segement_number)\n",
    "            important_value[4] = important_value[4]+ layervalue_segement_count(s_index,t_index,layervalue,segement_number) \n",
    "            important_value[5] = important_value[5]+ layervalue_segement_count(t_index,p_index_next,layervalue,segement_number) \n",
    "        else:\n",
    "            break\n",
    "    important_value = max_min(important_value)\n",
    "    important_values = important_values + important_value\n",
    "X_lable = ['0','T','P','Q','R','S','T','P','']\n",
    "fig,ax = plt.subplots(1,1)\n",
    "ax.plot(np.arange(important_values.flatten().__len__()), max_min(important_values.flatten()), lw=1,color='k')\n",
    "ax.axvline(x=0,ls='dashed',lw=0.7,color='r')\n",
    "ax.axvline(x=10,ls='dashed',lw=0.7,color='g')\n",
    "ax.axvline(x=20,ls='dashed',lw=0.7,color='b')\n",
    "ax.axvline(x=30,ls='dashed',lw=0.7,color='c')\n",
    "ax.axvline(x=40,ls='dashed',lw=0.7,color='m')\n",
    "ax.axvline(x=50,ls='dashed',lw=0.7,color='r')\n",
    "ax.axvline(x=60,ls='dashed',lw=0.7,color='g')\n",
    "ax.set_xlim(-5,65)\n",
    "ax.set_xticklabels(X_lable)"
   ]
  },
  {
   "cell_type": "code",
   "execution_count": 31,
   "metadata": {},
   "outputs": [
    {
     "name": "stderr",
     "output_type": "stream",
     "text": [
      "/opt/conda/lib/python3.7/site-packages/ipykernel_launcher.py:55: UserWarning: FixedFormatter should only be used together with FixedLocator\n"
     ]
    },
    {
     "data": {
      "text/plain": [
       "[Text(-10.0, 0, '0'),\n",
       " Text(0.0, 0, 'T'),\n",
       " Text(10.0, 0, 'P'),\n",
       " Text(20.0, 0, 'Q'),\n",
       " Text(30.0, 0, 'R'),\n",
       " Text(40.0, 0, 'S'),\n",
       " Text(50.0, 0, 'T'),\n",
       " Text(60.0, 0, 'P'),\n",
       " Text(70.0, 0, '')]"
      ]
     },
     "execution_count": 31,
     "metadata": {},
     "output_type": "execute_result"
    },
    {
     "data": {
      "image/png": "[encoded data removed]",
      "text/plain": [
       "<Figure size 432x288 with 1 Axes>"
      ]
     },
     "metadata": {
      "needs_background": "light"
     },
     "output_type": "display_data"
    }
   ],
   "source": [
    "index = 0\n",
    "segement_number = 10\n",
    "important_values = np.zeros([6,segement_number])\n",
    "\n",
    "\n",
    "for index in range(test_dataset.__len__()):#\n",
    "    important_value = np.zeros([6,segement_number])\n",
    "    inputs,labels = test_dataset.__getitem__(index)\n",
    "    if(labels == 1 or y_pred[index] == 1): continue\n",
    "    info =test_dataset.infos.iloc[index]\n",
    "    ECGfile_name = info['ECGFilename']\n",
    "    layervalue_file = layervalue_root  + ECGfile_name +'.npy'\n",
    "    waves_location_file_root = '/workspace/data/Preprocess_HTN/Waves_2023/'\n",
    "    try:\n",
    "        waves = pd.read_csv(waves_location_file_root+ECGfile_name+'.csv',index_col=0)\n",
    "    except:\n",
    "        continue\n",
    "    if(waves.isnull().any().any()):\n",
    "        continue\n",
    "    layervalue = np.load(layervalue_file)\n",
    "\n",
    "    for head_peak in range(1,len(waves.columns)-1):\n",
    "        if(waves.loc['P'][head_peak] == waves.iloc[:,head_peak].min()): #P波不是第一个识别出来的波形\n",
    "            p_index = int(waves.loc['P'][head_peak])\n",
    "            q_index = int(waves.loc['Q'][head_peak])\n",
    "            r_index = int(waves.loc['R'][head_peak])\n",
    "            s_index = int(waves.loc['S'][head_peak])\n",
    "            t_index = int(waves.loc['T'][head_peak])\n",
    "            t_index_befort = int(waves.loc['T'][head_peak-1])\n",
    "            if(((waves.loc['P'][head_peak+1]==None)) or((waves.loc['P'][head_peak+1] < t_index))):\n",
    "                break\n",
    "            else:\n",
    "                p_index_next = waves.loc['P'][head_peak+1] \n",
    "            important_value[0] = important_value[0]+ layervalue_segement_count(t_index_befort,p_index,layervalue,segement_number)\n",
    "            important_value[1] = important_value[1]+ layervalue_segement_count(p_index,q_index,layervalue,segement_number)   \n",
    "            important_value[2] = important_value[2]+ layervalue_segement_count(q_index,r_index,layervalue,segement_number) \n",
    "            important_value[3] = important_value[3]+layervalue_segement_count(r_index,s_index,layervalue,segement_number)\n",
    "            important_value[4] = important_value[4]+ layervalue_segement_count(s_index,t_index,layervalue,segement_number) \n",
    "            important_value[5] = important_value[5]+ layervalue_segement_count(t_index,p_index_next,layervalue,segement_number) \n",
    "        else:\n",
    "            break\n",
    "    important_value = max_min(important_value)\n",
    "    important_values = important_values + important_value\n",
    "X_lable = ['0','T','P','Q','R','S','T','P','']\n",
    "fig,ax = plt.subplots(1,1)\n",
    "ax.plot(np.arange(important_values.flatten().__len__()), max_min(important_values.flatten()), lw=1,color='k')\n",
    "ax.axvline(x=0,ls='dashed',lw=0.7,color='r')\n",
    "ax.axvline(x=10,ls='dashed',lw=0.7,color='g')\n",
    "ax.axvline(x=20,ls='dashed',lw=0.7,color='b')\n",
    "ax.axvline(x=30,ls='dashed',lw=0.7,color='c')\n",
    "ax.axvline(x=40,ls='dashed',lw=0.7,color='m')\n",
    "ax.axvline(x=50,ls='dashed',lw=0.7,color='r')\n",
    "ax.axvline(x=60,ls='dashed',lw=0.7,color='g')\n",
    "ax.set_xlim(-5,65)\n",
    "ax.set_xticklabels(X_lable)"
   ]
  },
  {
   "cell_type": "code",
   "execution_count": 46,
   "metadata": {},
   "outputs": [
    {
     "name": "stderr",
     "output_type": "stream",
     "text": [
      "/opt/conda/lib/python3.7/site-packages/ipykernel_launcher.py:51: UserWarning: FixedFormatter should only be used together with FixedLocator\n"
     ]
    },
    {
     "data": {
      "text/plain": [
       "[Text(-10.0, 0, '0'),\n",
       " Text(0.0, 0, 'T'),\n",
       " Text(10.0, 0, 'P'),\n",
       " Text(20.0, 0, 'Q'),\n",
       " Text(30.0, 0, 'R'),\n",
       " Text(40.0, 0, 'S'),\n",
       " Text(50.0, 0, 'T'),\n",
       " Text(60.0, 0, 'P'),\n",
       " Text(70.0, 0, '')]"
      ]
     },
     "execution_count": 46,
     "metadata": {},
     "output_type": "execute_result"
    },
    {
     "data": {
      "image/png": "[encoded data removed]",
      "text/plain": [
       "<Figure size 432x288 with 1 Axes>"
      ]
     },
     "metadata": {
      "needs_background": "light"
     },
     "output_type": "display_data"
    },
    {
     "ename": "",
     "evalue": "",
     "output_type": "error",
     "traceback": [
      "\u001b[1;31mThe Kernel crashed while executing code in the the current cell or a previous cell. Please review the code in the cell(s) to identify a possible cause of the failure. Click <a href='https://aka.ms/vscodeJupyterKernelCrash'>here</a> for more info. View Jupyter <a href='command:jupyter.viewOutput'>log</a> for further details."
     ]
    }
   ],
   "source": [
    "index = 0\n",
    "segement_number = 10\n",
    "ECG_values = np.zeros([6,segement_number])\n",
    "\n",
    "\n",
    "for index in range(test_dataset.__len__()):#\n",
    "    ECG_value = np.zeros([6,segement_number])\n",
    "    inputs,labels = test_dataset.__getitem__(index)\n",
    "    info =test_dataset.infos.iloc[index]\n",
    "    ECGfile_name = info['ECGFilename']\n",
    "    layervalue_file = layervalue_root  + ECGfile_name +'.npy'\n",
    "    waves_location_file_root = '/workspace/data/Preprocess_HTN/Waves_2023/'\n",
    "    waves = pd.read_csv(waves_location_file_root+ECGfile_name+'.csv',index_col=0)\n",
    "    if(waves.isnull().any().any()):\n",
    "        continue\n",
    "    # layervalue = np.load(layervalue_file)\n",
    "    layervalue = np.array(inputs)\n",
    "    for head_peak in range(1,len(waves.columns)-1):\n",
    "        if(waves.loc['P'][head_peak] == waves.iloc[:,head_peak].min()): #P波不是第一个识别出来的波形\n",
    "            p_index = int(waves.loc['P'][head_peak])\n",
    "            q_index = int(waves.loc['Q'][head_peak])\n",
    "            r_index = int(waves.loc['R'][head_peak])\n",
    "            s_index = int(waves.loc['S'][head_peak])\n",
    "            t_index = int(waves.loc['T'][head_peak])\n",
    "            t_index_befort = int(waves.loc['T'][head_peak-1])\n",
    "            if(((waves.loc['P'][head_peak+1]==None)) or((waves.loc['P'][head_peak+1] < t_index))):\n",
    "                break\n",
    "            else:\n",
    "                p_index_next = waves.loc['P'][head_peak+1] \n",
    "            ECG_value[0] = ECG_value[0]+ layervalue_segement_count(t_index_befort,p_index,layervalue,segement_number)\n",
    "            ECG_value[1] = ECG_value[1]+ layervalue_segement_count(p_index,q_index,layervalue,segement_number)   \n",
    "            ECG_value[2] = ECG_value[2]+ layervalue_segement_count(q_index,r_index,layervalue,segement_number) \n",
    "            ECG_value[3] = ECG_value[3]+layervalue_segement_count(r_index,s_index,layervalue,segement_number)\n",
    "            ECG_value[4] = ECG_value[4]+ layervalue_segement_count(s_index,t_index,layervalue,segement_number) \n",
    "            ECG_value[5] = ECG_value[5]+ layervalue_segement_count(t_index,p_index_next,layervalue,segement_number) \n",
    "        else:\n",
    "            break\n",
    "    ECG_value = max_min(ECG_value)\n",
    "    ECG_values = ECG_value + ECG_value\n",
    "X_lable = ['0','T','P','Q','R','S','T','P','']\n",
    "fig,ax = plt.subplots(1,1)\n",
    "ax.plot(np.arange(ECG_values.flatten().__len__()), max_min(ECG_values.flatten()), lw=1,color='k')\n",
    "ax.axvline(x=0,ls='dashed',lw=0.7,color='r')\n",
    "ax.axvline(x=10,ls='dashed',lw=0.7,color='g')\n",
    "ax.axvline(x=20,ls='dashed',lw=0.7,color='b')\n",
    "ax.axvline(x=30,ls='dashed',lw=0.7,color='c')\n",
    "ax.axvline(x=40,ls='dashed',lw=0.7,color='m')\n",
    "ax.axvline(x=50,ls='dashed',lw=0.7,color='r')\n",
    "ax.axvline(x=60,ls='dashed',lw=0.7,color='g')\n",
    "ax.set_xlim(-5,65)\n",
    "ax.set_xticklabels(X_lable)"
   ]
  },
  {
   "cell_type": "code",
   "execution_count": 32,
   "metadata": {},
   "outputs": [
    {
     "name": "stdout",
     "output_type": "stream",
     "text": [
      "/workspace/data/Interpretable_HTN/model/20230216_132044/20230216_132044/parameter_EarlyStoping_0//Occlusion/20-43338.npy  not exit\n",
      "/workspace/data/Interpretable_HTN/model/20230216_132044/20230216_132044/parameter_EarlyStoping_0//Occlusion/21-10-3704.npy  not exit\n",
      "/workspace/data/Interpretable_HTN/model/20230216_132044/20230216_132044/parameter_EarlyStoping_0//Occlusion/00-1-629.npy  not exit\n",
      "/workspace/data/Interpretable_HTN/model/20230216_132044/20230216_132044/parameter_EarlyStoping_0//Occlusion/22-39707.npy  not exit\n",
      "/workspace/data/Interpretable_HTN/model/20230216_132044/20230216_132044/parameter_EarlyStoping_0//Occlusion/00-1-146.npy  not exit\n",
      "/workspace/data/Interpretable_HTN/model/20230216_132044/20230216_132044/parameter_EarlyStoping_0//Occlusion/00-1-145.npy  not exit\n",
      "/workspace/data/Interpretable_HTN/model/20230216_132044/20230216_132044/parameter_EarlyStoping_0//Occlusion/00-1-549.npy  not exit\n",
      "/workspace/data/Interpretable_HTN/model/20230216_132044/20230216_132044/parameter_EarlyStoping_0//Occlusion/00-1-660.npy  not exit\n",
      "/workspace/data/Interpretable_HTN/model/20230216_132044/20230216_132044/parameter_EarlyStoping_0//Occlusion/21-4-4425.npy  not exit\n",
      "/workspace/data/Interpretable_HTN/model/20230216_132044/20230216_132044/parameter_EarlyStoping_0//Occlusion/21-4-4422.npy  not exit\n",
      "/workspace/data/Interpretable_HTN/model/20230216_132044/20230216_132044/parameter_EarlyStoping_0//Occlusion/21-2-3311.npy  not exit\n",
      "/workspace/data/Interpretable_HTN/model/20230216_132044/20230216_132044/parameter_EarlyStoping_0//Occlusion/22-39509.npy  not exit\n",
      "/workspace/data/Interpretable_HTN/model/20230216_132044/20230216_132044/parameter_EarlyStoping_0//Occlusion/21-4-4418.npy  not exit\n",
      "/workspace/data/Interpretable_HTN/model/20230216_132044/20230216_132044/parameter_EarlyStoping_0//Occlusion/21-4-4417.npy  not exit\n",
      "/workspace/data/Interpretable_HTN/model/20230216_132044/20230216_132044/parameter_EarlyStoping_0//Occlusion/21-1-4325.npy  not exit\n",
      "/workspace/data/Interpretable_HTN/model/20230216_132044/20230216_132044/parameter_EarlyStoping_0//Occlusion/00-1-560.npy  not exit\n",
      "/workspace/data/Interpretable_HTN/model/20230216_132044/20230216_132044/parameter_EarlyStoping_0//Occlusion/21-1-4323.npy  not exit\n",
      "/workspace/data/Interpretable_HTN/model/20230216_132044/20230216_132044/parameter_EarlyStoping_0//Occlusion/21-1-4317.npy  not exit\n",
      "/workspace/data/Interpretable_HTN/model/20230216_132044/20230216_132044/parameter_EarlyStoping_0//Occlusion/20-42712.npy  not exit\n",
      "/workspace/data/Interpretable_HTN/model/20230216_132044/20230216_132044/parameter_EarlyStoping_0//Occlusion/21-3-4860.npy  not exit\n",
      "/workspace/data/Interpretable_HTN/model/20230216_132044/20230216_132044/parameter_EarlyStoping_0//Occlusion/00-1-568.npy  not exit\n",
      "/workspace/data/Interpretable_HTN/model/20230216_132044/20230216_132044/parameter_EarlyStoping_0//Occlusion/22-39401.npy  not exit\n",
      "/workspace/data/Interpretable_HTN/model/20230216_132044/20230216_132044/parameter_EarlyStoping_0//Occlusion/00-1-505.npy  not exit\n",
      "/workspace/data/Interpretable_HTN/model/20230216_132044/20230216_132044/parameter_EarlyStoping_0//Occlusion/21-4-4407.npy  not exit\n",
      "/workspace/data/Interpretable_HTN/model/20230216_132044/20230216_132044/parameter_EarlyStoping_0//Occlusion/00-1-513.npy  not exit\n",
      "/workspace/data/Interpretable_HTN/model/20230216_132044/20230216_132044/parameter_EarlyStoping_0//Occlusion/21-3-4846.npy  not exit\n",
      "/workspace/data/Interpretable_HTN/model/20230216_132044/20230216_132044/parameter_EarlyStoping_0//Occlusion/20-42568.npy  not exit\n",
      "/workspace/data/Interpretable_HTN/model/20230216_132044/20230216_132044/parameter_EarlyStoping_0//Occlusion/00-1-58.npy  not exit\n",
      "/workspace/data/Interpretable_HTN/model/20230216_132044/20230216_132044/parameter_EarlyStoping_0//Occlusion/00-1-9.npy  not exit\n",
      "/workspace/data/Interpretable_HTN/model/20230216_132044/20230216_132044/parameter_EarlyStoping_0//Occlusion/20-42516.npy  not exit\n",
      "/workspace/data/Interpretable_HTN/model/20230216_132044/20230216_132044/parameter_EarlyStoping_0//Occlusion/21-3-4833.npy  not exit\n",
      "/workspace/data/Interpretable_HTN/model/20230216_132044/20230216_132044/parameter_EarlyStoping_0//Occlusion/20-42397.npy  not exit\n",
      "/workspace/data/Interpretable_HTN/model/20230216_132044/20230216_132044/parameter_EarlyStoping_0//Occlusion/22-39034.npy  not exit\n",
      "/workspace/data/Interpretable_HTN/model/20230216_132044/20230216_132044/parameter_EarlyStoping_0//Occlusion/20-42343.npy  not exit\n",
      "/workspace/data/Interpretable_HTN/model/20230216_132044/20230216_132044/parameter_EarlyStoping_0//Occlusion/20-42303.npy  not exit\n",
      "/workspace/data/Interpretable_HTN/model/20230216_132044/20230216_132044/parameter_EarlyStoping_0//Occlusion/20-42304.npy  not exit\n",
      "/workspace/data/Interpretable_HTN/model/20230216_132044/20230216_132044/parameter_EarlyStoping_0//Occlusion/20-42306.npy  not exit\n",
      "/workspace/data/Interpretable_HTN/model/20230216_132044/20230216_132044/parameter_EarlyStoping_0//Occlusion/20-42294.npy  not exit\n",
      "/workspace/data/Interpretable_HTN/model/20230216_132044/20230216_132044/parameter_EarlyStoping_0//Occlusion/20-42160.npy  not exit\n",
      "/workspace/data/Interpretable_HTN/model/20230216_132044/20230216_132044/parameter_EarlyStoping_0//Occlusion/21-2-3279.npy  not exit\n",
      "/workspace/data/Interpretable_HTN/model/20230216_132044/20230216_132044/parameter_EarlyStoping_0//Occlusion/00-1-27.npy  not exit\n",
      "/workspace/data/Interpretable_HTN/model/20230216_132044/20230216_132044/parameter_EarlyStoping_0//Occlusion/20-42060.npy  not exit\n",
      "/workspace/data/Interpretable_HTN/model/20230216_132044/20230216_132044/parameter_EarlyStoping_0//Occlusion/21-4-4334.npy  not exit\n",
      "/workspace/data/Interpretable_HTN/model/20230216_132044/20230216_132044/parameter_EarlyStoping_0//Occlusion/20-42023.npy  not exit\n",
      "/workspace/data/Interpretable_HTN/model/20230216_132044/20230216_132044/parameter_EarlyStoping_0//Occlusion/20-41997.npy  not exit\n",
      "/workspace/data/Interpretable_HTN/model/20230216_132044/20230216_132044/parameter_EarlyStoping_0//Occlusion/00-1-5.npy  not exit\n",
      "/workspace/data/Interpretable_HTN/model/20230216_132044/20230216_132044/parameter_EarlyStoping_0//Occlusion/00-1-290.npy  not exit\n",
      "/workspace/data/Interpretable_HTN/model/20230216_132044/20230216_132044/parameter_EarlyStoping_0//Occlusion/00-1-242.npy  not exit\n",
      "/workspace/data/Interpretable_HTN/model/20230216_132044/20230216_132044/parameter_EarlyStoping_0//Occlusion/21-6-4126.npy  not exit\n",
      "/workspace/data/Interpretable_HTN/model/20230216_132044/20230216_132044/parameter_EarlyStoping_0//Occlusion/20-41889.npy  not exit\n",
      "/workspace/data/Interpretable_HTN/model/20230216_132044/20230216_132044/parameter_EarlyStoping_0//Occlusion/20-41893.npy  not exit\n",
      "/workspace/data/Interpretable_HTN/model/20230216_132044/20230216_132044/parameter_EarlyStoping_0//Occlusion/00-1-187.npy  not exit\n",
      "/workspace/data/Interpretable_HTN/model/20230216_132044/20230216_132044/parameter_EarlyStoping_0//Occlusion/00-1-7.npy  not exit\n",
      "/workspace/data/Interpretable_HTN/model/20230216_132044/20230216_132044/parameter_EarlyStoping_0//Occlusion/20-41834.npy  not exit\n",
      "/workspace/data/Interpretable_HTN/model/20230216_132044/20230216_132044/parameter_EarlyStoping_0//Occlusion/21-3-4767.npy  not exit\n",
      "/workspace/data/Interpretable_HTN/model/20230216_132044/20230216_132044/parameter_EarlyStoping_0//Occlusion/00-1-252.npy  not exit\n",
      "/workspace/data/Interpretable_HTN/model/20230216_132044/20230216_132044/parameter_EarlyStoping_0//Occlusion/00-1-240.npy  not exit\n",
      "/workspace/data/Interpretable_HTN/model/20230216_132044/20230216_132044/parameter_EarlyStoping_0//Occlusion/00-1-690.npy  not exit\n",
      "/workspace/data/Interpretable_HTN/model/20230216_132044/20230216_132044/parameter_EarlyStoping_0//Occlusion/21-6-4107.npy  not exit\n",
      "/workspace/data/Interpretable_HTN/model/20230216_132044/20230216_132044/parameter_EarlyStoping_0//Occlusion/21-2-3249.npy  not exit\n",
      "/workspace/data/Interpretable_HTN/model/20230216_132044/20230216_132044/parameter_EarlyStoping_0//Occlusion/00-1-489.npy  not exit\n",
      "/workspace/data/Interpretable_HTN/model/20230216_132044/20230216_132044/parameter_EarlyStoping_0//Occlusion/00-1-497.npy  not exit\n",
      "/workspace/data/Interpretable_HTN/model/20230216_132044/20230216_132044/parameter_EarlyStoping_0//Occlusion/00-1-37.npy  not exit\n",
      "/workspace/data/Interpretable_HTN/model/20230216_132044/20230216_132044/parameter_EarlyStoping_0//Occlusion/21-2-3242.npy  not exit\n",
      "/workspace/data/Interpretable_HTN/model/20230216_132044/20230216_132044/parameter_EarlyStoping_0//Occlusion/00-1-200.npy  not exit\n",
      "/workspace/data/Interpretable_HTN/model/20230216_132044/20230216_132044/parameter_EarlyStoping_0//Occlusion/20-41415.npy  not exit\n",
      "/workspace/data/Interpretable_HTN/model/20230216_132044/20230216_132044/parameter_EarlyStoping_0//Occlusion/21-2-3233.npy  not exit\n",
      "/workspace/data/Interpretable_HTN/model/20230216_132044/20230216_132044/parameter_EarlyStoping_0//Occlusion/21-4-4269.npy  not exit\n",
      "/workspace/data/Interpretable_HTN/model/20230216_132044/20230216_132044/parameter_EarlyStoping_0//Occlusion/20-41361.npy  not exit\n",
      "/workspace/data/Interpretable_HTN/model/20230216_132044/20230216_132044/parameter_EarlyStoping_0//Occlusion/20-41343.npy  not exit\n",
      "/workspace/data/Interpretable_HTN/model/20230216_132044/20230216_132044/parameter_EarlyStoping_0//Occlusion/00-1-43.npy  not exit\n",
      "/workspace/data/Interpretable_HTN/model/20230216_132044/20230216_132044/parameter_EarlyStoping_0//Occlusion/00-1-280.npy  not exit\n",
      "/workspace/data/Interpretable_HTN/model/20230216_132044/20230216_132044/parameter_EarlyStoping_0//Occlusion/00-1-407.npy  not exit\n",
      "/workspace/data/Interpretable_HTN/model/20230216_132044/20230216_132044/parameter_EarlyStoping_0//Occlusion/00-1-175.npy  not exit\n",
      "/workspace/data/Interpretable_HTN/model/20230216_132044/20230216_132044/parameter_EarlyStoping_0//Occlusion/00-1-265.npy  not exit\n",
      "/workspace/data/Interpretable_HTN/model/20230216_132044/20230216_132044/parameter_EarlyStoping_0//Occlusion/21-3-4675.npy  not exit\n",
      "/workspace/data/Interpretable_HTN/model/20230216_132044/20230216_132044/parameter_EarlyStoping_0//Occlusion/00-1-559.npy  not exit\n",
      "/workspace/data/Interpretable_HTN/model/20230216_132044/20230216_132044/parameter_EarlyStoping_0//Occlusion/19-2-23364.npy  not exit\n",
      "/workspace/data/Interpretable_HTN/model/20230216_132044/20230216_132044/parameter_EarlyStoping_0//Occlusion/19-2-23319.npy  not exit\n",
      "/workspace/data/Interpretable_HTN/model/20230216_132044/20230216_132044/parameter_EarlyStoping_0//Occlusion/00-1-493.npy  not exit\n",
      "/workspace/data/Interpretable_HTN/model/20230216_132044/20230216_132044/parameter_EarlyStoping_0//Occlusion/20-40748.npy  not exit\n",
      "/workspace/data/Interpretable_HTN/model/20230216_132044/20230216_132044/parameter_EarlyStoping_0//Occlusion/00-1-165.npy  not exit\n",
      "/workspace/data/Interpretable_HTN/model/20230216_132044/20230216_132044/parameter_EarlyStoping_0//Occlusion/21-12-4348.npy  not exit\n",
      "/workspace/data/Interpretable_HTN/model/20230216_132044/20230216_132044/parameter_EarlyStoping_0//Occlusion/19-2-23227.npy  not exit\n",
      "/workspace/data/Interpretable_HTN/model/20230216_132044/20230216_132044/parameter_EarlyStoping_0//Occlusion/00-1-354.npy  not exit\n",
      "/workspace/data/Interpretable_HTN/model/20230216_132044/20230216_132044/parameter_EarlyStoping_0//Occlusion/20-40625.npy  not exit\n",
      "/workspace/data/Interpretable_HTN/model/20230216_132044/20230216_132044/parameter_EarlyStoping_0//Occlusion/20-40428.npy  not exit\n",
      "/workspace/data/Interpretable_HTN/model/20230216_132044/20230216_132044/parameter_EarlyStoping_0//Occlusion/21-4-4179.npy  not exit\n",
      "/workspace/data/Interpretable_HTN/model/20230216_132044/20230216_132044/parameter_EarlyStoping_0//Occlusion/00-1-131.npy  not exit\n",
      "/workspace/data/Interpretable_HTN/model/20230216_132044/20230216_132044/parameter_EarlyStoping_0//Occlusion/21-2-3135.npy  not exit\n",
      "/workspace/data/Interpretable_HTN/model/20230216_132044/20230216_132044/parameter_EarlyStoping_0//Occlusion/00-1-601.npy  not exit\n",
      "/workspace/data/Interpretable_HTN/model/20230216_132044/20230216_132044/parameter_EarlyStoping_0//Occlusion/19-2-22996.npy  not exit\n",
      "/workspace/data/Interpretable_HTN/model/20230216_132044/20230216_132044/parameter_EarlyStoping_0//Occlusion/00-1-38.npy  not exit\n",
      "/workspace/data/Interpretable_HTN/model/20230216_132044/20230216_132044/parameter_EarlyStoping_0//Occlusion/00-1-35.npy  not exit\n",
      "/workspace/data/Interpretable_HTN/model/20230216_132044/20230216_132044/parameter_EarlyStoping_0//Occlusion/21-12-4270.npy  not exit\n",
      "/workspace/data/Interpretable_HTN/model/20230216_132044/20230216_132044/parameter_EarlyStoping_0//Occlusion/00-1-623.npy  not exit\n",
      "/workspace/data/Interpretable_HTN/model/20230216_132044/20230216_132044/parameter_EarlyStoping_0//Occlusion/19-2-22921.npy  not exit\n",
      "/workspace/data/Interpretable_HTN/model/20230216_132044/20230216_132044/parameter_EarlyStoping_0//Occlusion/20-40075.npy  not exit\n",
      "/workspace/data/Interpretable_HTN/model/20230216_132044/20230216_132044/parameter_EarlyStoping_0//Occlusion/20-39984.npy  not exit\n",
      "/workspace/data/Interpretable_HTN/model/20230216_132044/20230216_132044/parameter_EarlyStoping_0//Occlusion/00-1-325.npy  not exit\n",
      "/workspace/data/Interpretable_HTN/model/20230216_132044/20230216_132044/parameter_EarlyStoping_0//Occlusion/20-39884.npy  not exit\n",
      "/workspace/data/Interpretable_HTN/model/20230216_132044/20230216_132044/parameter_EarlyStoping_0//Occlusion/00-1-574.npy  not exit\n",
      "/workspace/data/Interpretable_HTN/model/20230216_132044/20230216_132044/parameter_EarlyStoping_0//Occlusion/20-39796.npy  not exit\n",
      "/workspace/data/Interpretable_HTN/model/20230216_132044/20230216_132044/parameter_EarlyStoping_0//Occlusion/21-1-3957.npy  not exit\n",
      "/workspace/data/Interpretable_HTN/model/20230216_132044/20230216_132044/parameter_EarlyStoping_0//Occlusion/20-39764.npy  not exit\n",
      "/workspace/data/Interpretable_HTN/model/20230216_132044/20230216_132044/parameter_EarlyStoping_0//Occlusion/00-1-679.npy  not exit\n",
      "/workspace/data/Interpretable_HTN/model/20230216_132044/20230216_132044/parameter_EarlyStoping_0//Occlusion/00-1-215.npy  not exit\n",
      "/workspace/data/Interpretable_HTN/model/20230216_132044/20230216_132044/parameter_EarlyStoping_0//Occlusion/00-1-39.npy  not exit\n",
      "/workspace/data/Interpretable_HTN/model/20230216_132044/20230216_132044/parameter_EarlyStoping_0//Occlusion/20-39662.npy  not exit\n",
      "/workspace/data/Interpretable_HTN/model/20230216_132044/20230216_132044/parameter_EarlyStoping_0//Occlusion/00-1-104.npy  not exit\n",
      "/workspace/data/Interpretable_HTN/model/20230216_132044/20230216_132044/parameter_EarlyStoping_0//Occlusion/20-39619.npy  not exit\n",
      "/workspace/data/Interpretable_HTN/model/20230216_132044/20230216_132044/parameter_EarlyStoping_0//Occlusion/21-1-3932.npy  not exit\n",
      "/workspace/data/Interpretable_HTN/model/20230216_132044/20230216_132044/parameter_EarlyStoping_0//Occlusion/21-6-3903.npy  not exit\n",
      "/workspace/data/Interpretable_HTN/model/20230216_132044/20230216_132044/parameter_EarlyStoping_0//Occlusion/21-1-3927.npy  not exit\n",
      "/workspace/data/Interpretable_HTN/model/20230216_132044/20230216_132044/parameter_EarlyStoping_0//Occlusion/00-1-189.npy  not exit\n",
      "/workspace/data/Interpretable_HTN/model/20230216_132044/20230216_132044/parameter_EarlyStoping_0//Occlusion/20-39482.npy  not exit\n",
      "/workspace/data/Interpretable_HTN/model/20230216_132044/20230216_132044/parameter_EarlyStoping_0//Occlusion/20-39419.npy  not exit\n",
      "/workspace/data/Interpretable_HTN/model/20230216_132044/20230216_132044/parameter_EarlyStoping_0//Occlusion/00-1-388.npy  not exit\n",
      "/workspace/data/Interpretable_HTN/model/20230216_132044/20230216_132044/parameter_EarlyStoping_0//Occlusion/00-1-157.npy  not exit\n",
      "/workspace/data/Interpretable_HTN/model/20230216_132044/20230216_132044/parameter_EarlyStoping_0//Occlusion/20-39245.npy  not exit\n",
      "/workspace/data/Interpretable_HTN/model/20230216_132044/20230216_132044/parameter_EarlyStoping_0//Occlusion/20-39244.npy  not exit\n",
      "/workspace/data/Interpretable_HTN/model/20230216_132044/20230216_132044/parameter_EarlyStoping_0//Occlusion/21-12-4151.npy  not exit\n",
      "/workspace/data/Interpretable_HTN/model/20230216_132044/20230216_132044/parameter_EarlyStoping_0//Occlusion/20-39100.npy  not exit\n",
      "/workspace/data/Interpretable_HTN/model/20230216_132044/20230216_132044/parameter_EarlyStoping_0//Occlusion/20-39070.npy  not exit\n",
      "/workspace/data/Interpretable_HTN/model/20230216_132044/20230216_132044/parameter_EarlyStoping_0//Occlusion/22-36137.npy  not exit\n",
      "/workspace/data/Interpretable_HTN/model/20230216_132044/20230216_132044/parameter_EarlyStoping_0//Occlusion/21-10-3350.npy  not exit\n",
      "/workspace/data/Interpretable_HTN/model/20230216_132044/20230216_132044/parameter_EarlyStoping_0//Occlusion/21-10-3351.npy  not exit\n",
      "/workspace/data/Interpretable_HTN/model/20230216_132044/20230216_132044/parameter_EarlyStoping_0//Occlusion/21-10-3352.npy  not exit\n",
      "/workspace/data/Interpretable_HTN/model/20230216_132044/20230216_132044/parameter_EarlyStoping_0//Occlusion/21-10-3349.npy  not exit\n",
      "/workspace/data/Interpretable_HTN/model/20230216_132044/20230216_132044/parameter_EarlyStoping_0//Occlusion/21-10-3355.npy  not exit\n",
      "/workspace/data/Interpretable_HTN/model/20230216_132044/20230216_132044/parameter_EarlyStoping_0//Occlusion/20-39004.npy  not exit\n",
      "/workspace/data/Interpretable_HTN/model/20230216_132044/20230216_132044/parameter_EarlyStoping_0//Occlusion/20-38978.npy  not exit\n",
      "/workspace/data/Interpretable_HTN/model/20230216_132044/20230216_132044/parameter_EarlyStoping_0//Occlusion/21-3-4430.npy  not exit\n",
      "/workspace/data/Interpretable_HTN/model/20230216_132044/20230216_132044/parameter_EarlyStoping_0//Occlusion/22-36033.npy  not exit\n",
      "/workspace/data/Interpretable_HTN/model/20230216_132044/20230216_132044/parameter_EarlyStoping_0//Occlusion/20-38885.npy  not exit\n",
      "/workspace/data/Interpretable_HTN/model/20230216_132044/20230216_132044/parameter_EarlyStoping_0//Occlusion/00-1-6.npy  not exit\n",
      "/workspace/data/Interpretable_HTN/model/20230216_132044/20230216_132044/parameter_EarlyStoping_0//Occlusion/21-2-3012.npy  not exit\n",
      "/workspace/data/Interpretable_HTN/model/20230216_132044/20230216_132044/parameter_EarlyStoping_0//Occlusion/22-35931.npy  not exit\n",
      "/workspace/data/Interpretable_HTN/model/20230216_132044/20230216_132044/parameter_EarlyStoping_0//Occlusion/00-1-550.npy  not exit\n",
      "/workspace/data/Interpretable_HTN/model/20230216_132044/20230216_132044/parameter_EarlyStoping_0//Occlusion/21-6-3829.npy  not exit\n",
      "/workspace/data/Interpretable_HTN/model/20230216_132044/20230216_132044/parameter_EarlyStoping_0//Occlusion/20-38732.npy  not exit\n",
      "/workspace/data/Interpretable_HTN/model/20230216_132044/20230216_132044/parameter_EarlyStoping_0//Occlusion/21-1-3840.npy  not exit\n",
      "/workspace/data/Interpretable_HTN/model/20230216_132044/20230216_132044/parameter_EarlyStoping_0//Occlusion/00-1-647.npy  not exit\n",
      "/workspace/data/Interpretable_HTN/model/20230216_132044/20230216_132044/parameter_EarlyStoping_0//Occlusion/20-38708.npy  not exit\n",
      "/workspace/data/Interpretable_HTN/model/20230216_132044/20230216_132044/parameter_EarlyStoping_0//Occlusion/22-35846.npy  not exit\n",
      "/workspace/data/Interpretable_HTN/model/20230216_132044/20230216_132044/parameter_EarlyStoping_0//Occlusion/21-6-3826.npy  not exit\n",
      "/workspace/data/Interpretable_HTN/model/20230216_132044/20230216_132044/parameter_EarlyStoping_0//Occlusion/00-1-504.npy  not exit\n",
      "/workspace/data/Interpretable_HTN/model/20230216_132044/20230216_132044/parameter_EarlyStoping_0//Occlusion/00-1-378.npy  not exit\n",
      "/workspace/data/Interpretable_HTN/model/20230216_132044/20230216_132044/parameter_EarlyStoping_0//Occlusion/00-1-375.npy  not exit\n",
      "/workspace/data/Interpretable_HTN/model/20230216_132044/20230216_132044/parameter_EarlyStoping_0//Occlusion/00-1-376.npy  not exit\n",
      "/workspace/data/Interpretable_HTN/model/20230216_132044/20230216_132044/parameter_EarlyStoping_0//Occlusion/00-1-377.npy  not exit\n",
      "/workspace/data/Interpretable_HTN/model/20230216_132044/20230216_132044/parameter_EarlyStoping_0//Occlusion/22-35817.npy  not exit\n",
      "/workspace/data/Interpretable_HTN/model/20230216_132044/20230216_132044/parameter_EarlyStoping_0//Occlusion/00-1-223.npy  not exit\n",
      "/workspace/data/Interpretable_HTN/model/20230216_132044/20230216_132044/parameter_EarlyStoping_0//Occlusion/21-10-3293.npy  not exit\n",
      "/workspace/data/Interpretable_HTN/model/20230216_132044/20230216_132044/parameter_EarlyStoping_0//Occlusion/21-6-3808.npy  not exit\n",
      "/workspace/data/Interpretable_HTN/model/20230216_132044/20230216_132044/parameter_EarlyStoping_0//Occlusion/00-1-24.npy  not exit\n",
      "/workspace/data/Interpretable_HTN/model/20230216_132044/20230216_132044/parameter_EarlyStoping_0//Occlusion/00-1-140.npy  not exit\n",
      "/workspace/data/Interpretable_HTN/model/20230216_132044/20230216_132044/parameter_EarlyStoping_0//Occlusion/00-1-402.npy  not exit\n",
      "/workspace/data/Interpretable_HTN/model/20230216_132044/20230216_132044/parameter_EarlyStoping_0//Occlusion/20-38317.npy  not exit\n",
      "/workspace/data/Interpretable_HTN/model/20230216_132044/20230216_132044/parameter_EarlyStoping_0//Occlusion/20-38316.npy  not exit\n",
      "/workspace/data/Interpretable_HTN/model/20230216_132044/20230216_132044/parameter_EarlyStoping_0//Occlusion/20-38315.npy  not exit\n",
      "/workspace/data/Interpretable_HTN/model/20230216_132044/20230216_132044/parameter_EarlyStoping_0//Occlusion/00-1-105.npy  not exit\n",
      "/workspace/data/Interpretable_HTN/model/20230216_132044/20230216_132044/parameter_EarlyStoping_0//Occlusion/00-1-11.npy  not exit\n",
      "/workspace/data/Interpretable_HTN/model/20230216_132044/20230216_132044/parameter_EarlyStoping_0//Occlusion/20-38296.npy  not exit\n",
      "/workspace/data/Interpretable_HTN/model/20230216_132044/20230216_132044/parameter_EarlyStoping_0//Occlusion/20-38297.npy  not exit\n",
      "/workspace/data/Interpretable_HTN/model/20230216_132044/20230216_132044/parameter_EarlyStoping_0//Occlusion/20-38295.npy  not exit\n",
      "/workspace/data/Interpretable_HTN/model/20230216_132044/20230216_132044/parameter_EarlyStoping_0//Occlusion/20-38252.npy  not exit\n",
      "/workspace/data/Interpretable_HTN/model/20230216_132044/20230216_132044/parameter_EarlyStoping_0//Occlusion/20-38244.npy  not exit\n",
      "/workspace/data/Interpretable_HTN/model/20230216_132044/20230216_132044/parameter_EarlyStoping_0//Occlusion/00-1-226.npy  not exit\n",
      "/workspace/data/Interpretable_HTN/model/20230216_132044/20230216_132044/parameter_EarlyStoping_0//Occlusion/00-1-450.npy  not exit\n",
      "/workspace/data/Interpretable_HTN/model/20230216_132044/20230216_132044/parameter_EarlyStoping_0//Occlusion/20-38137.npy  not exit\n",
      "/workspace/data/Interpretable_HTN/model/20230216_132044/20230216_132044/parameter_EarlyStoping_0//Occlusion/21-2-2964.npy  not exit\n",
      "/workspace/data/Interpretable_HTN/model/20230216_132044/20230216_132044/parameter_EarlyStoping_0//Occlusion/00-1-381.npy  not exit\n",
      "/workspace/data/Interpretable_HTN/model/20230216_132044/20230216_132044/parameter_EarlyStoping_0//Occlusion/00-1-355.npy  not exit\n",
      "/workspace/data/Interpretable_HTN/model/20230216_132044/20230216_132044/parameter_EarlyStoping_0//Occlusion/00-1-543.npy  not exit\n",
      "/workspace/data/Interpretable_HTN/model/20230216_132044/20230216_132044/parameter_EarlyStoping_0//Occlusion/00-1-160.npy  not exit\n",
      "/workspace/data/Interpretable_HTN/model/20230216_132044/20230216_132044/parameter_EarlyStoping_0//Occlusion/20-37860.npy  not exit\n",
      "/workspace/data/Interpretable_HTN/model/20230216_132044/20230216_132044/parameter_EarlyStoping_0//Occlusion/00-1-512.npy  not exit\n",
      "/workspace/data/Interpretable_HTN/model/20230216_132044/20230216_132044/parameter_EarlyStoping_0//Occlusion/00-1-545.npy  not exit\n",
      "/workspace/data/Interpretable_HTN/model/20230216_132044/20230216_132044/parameter_EarlyStoping_0//Occlusion/00-1-536.npy  not exit\n",
      "/workspace/data/Interpretable_HTN/model/20230216_132044/20230216_132044/parameter_EarlyStoping_0//Occlusion/00-1-421.npy  not exit\n",
      "/workspace/data/Interpretable_HTN/model/20230216_132044/20230216_132044/parameter_EarlyStoping_0//Occlusion/20-37689.npy  not exit\n",
      "/workspace/data/Interpretable_HTN/model/20230216_132044/20230216_132044/parameter_EarlyStoping_0//Occlusion/20-37636.npy  not exit\n",
      "/workspace/data/Interpretable_HTN/model/20230216_132044/20230216_132044/parameter_EarlyStoping_0//Occlusion/00-1-469.npy  not exit\n",
      "/workspace/data/Interpretable_HTN/model/20230216_132044/20230216_132044/parameter_EarlyStoping_0//Occlusion/20-37575.npy  not exit\n",
      "/workspace/data/Interpretable_HTN/model/20230216_132044/20230216_132044/parameter_EarlyStoping_0//Occlusion/20-37534.npy  not exit\n",
      "/workspace/data/Interpretable_HTN/model/20230216_132044/20230216_132044/parameter_EarlyStoping_0//Occlusion/20-37439.npy  not exit\n",
      "/workspace/data/Interpretable_HTN/model/20230216_132044/20230216_132044/parameter_EarlyStoping_0//Occlusion/00-1-502.npy  not exit\n",
      "/workspace/data/Interpretable_HTN/model/20230216_132044/20230216_132044/parameter_EarlyStoping_0//Occlusion/00-1-517.npy  not exit\n",
      "/workspace/data/Interpretable_HTN/model/20230216_132044/20230216_132044/parameter_EarlyStoping_0//Occlusion/20-37316.npy  not exit\n",
      "/workspace/data/Interpretable_HTN/model/20230216_132044/20230216_132044/parameter_EarlyStoping_0//Occlusion/00-1-675.npy  not exit\n",
      "/workspace/data/Interpretable_HTN/model/20230216_132044/20230216_132044/parameter_EarlyStoping_0//Occlusion/00-1-427.npy  not exit\n",
      "/workspace/data/Interpretable_HTN/model/20230216_132044/20230216_132044/parameter_EarlyStoping_0//Occlusion/00-1-577.npy  not exit\n",
      "/workspace/data/Interpretable_HTN/model/20230216_132044/20230216_132044/parameter_EarlyStoping_0//Occlusion/20-37207.npy  not exit\n",
      "/workspace/data/Interpretable_HTN/model/20230216_132044/20230216_132044/parameter_EarlyStoping_0//Occlusion/20-37206.npy  not exit\n",
      "/workspace/data/Interpretable_HTN/model/20230216_132044/20230216_132044/parameter_EarlyStoping_0//Occlusion/00-1-572.npy  not exit\n",
      "/workspace/data/Interpretable_HTN/model/20230216_132044/20230216_132044/parameter_EarlyStoping_0//Occlusion/21-10-3164.npy  not exit\n",
      "/workspace/data/Interpretable_HTN/model/20230216_132044/20230216_132044/parameter_EarlyStoping_0//Occlusion/00-1-391.npy  not exit\n",
      "/workspace/data/Interpretable_HTN/model/20230216_132044/20230216_132044/parameter_EarlyStoping_0//Occlusion/20-37076.npy  not exit\n",
      "/workspace/data/Interpretable_HTN/model/20230216_132044/20230216_132044/parameter_EarlyStoping_0//Occlusion/20-37077.npy  not exit\n",
      "/workspace/data/Interpretable_HTN/model/20230216_132044/20230216_132044/parameter_EarlyStoping_0//Occlusion/00-1-547.npy  not exit\n",
      "/workspace/data/Interpretable_HTN/model/20230216_132044/20230216_132044/parameter_EarlyStoping_0//Occlusion/20-36992.npy  not exit\n",
      "/workspace/data/Interpretable_HTN/model/20230216_132044/20230216_132044/parameter_EarlyStoping_0//Occlusion/20-36986.npy  not exit\n",
      "/workspace/data/Interpretable_HTN/model/20230216_132044/20230216_132044/parameter_EarlyStoping_0//Occlusion/20-36794.npy  not exit\n",
      "/workspace/data/Interpretable_HTN/model/20230216_132044/20230216_132044/parameter_EarlyStoping_0//Occlusion/00-1-329.npy  not exit\n",
      "/workspace/data/Interpretable_HTN/model/20230216_132044/20230216_132044/parameter_EarlyStoping_0//Occlusion/19-1-8977.npy  not exit\n",
      "/workspace/data/Interpretable_HTN/model/20230216_132044/20230216_132044/parameter_EarlyStoping_0//Occlusion/21-3-4166.npy  not exit\n",
      "/workspace/data/Interpretable_HTN/model/20230216_132044/20230216_132044/parameter_EarlyStoping_0//Occlusion/21-4-3810.npy  not exit\n",
      "/workspace/data/Interpretable_HTN/model/20230216_132044/20230216_132044/parameter_EarlyStoping_0//Occlusion/21-4-3811.npy  not exit\n",
      "/workspace/data/Interpretable_HTN/model/20230216_132044/20230216_132044/parameter_EarlyStoping_0//Occlusion/21-3-4154.npy  not exit\n",
      "/workspace/data/Interpretable_HTN/model/20230216_132044/20230216_132044/parameter_EarlyStoping_0//Occlusion/21-3-4153.npy  not exit\n",
      "/workspace/data/Interpretable_HTN/model/20230216_132044/20230216_132044/parameter_EarlyStoping_0//Occlusion/20-36627.npy  not exit\n",
      "/workspace/data/Interpretable_HTN/model/20230216_132044/20230216_132044/parameter_EarlyStoping_0//Occlusion/00-1-664.npy  not exit\n",
      "/workspace/data/Interpretable_HTN/model/20230216_132044/20230216_132044/parameter_EarlyStoping_0//Occlusion/21-12-3872.npy  not exit\n",
      "/workspace/data/Interpretable_HTN/model/20230216_132044/20230216_132044/parameter_EarlyStoping_0//Occlusion/20-36568.npy  not exit\n",
      "/workspace/data/Interpretable_HTN/model/20230216_132044/20230216_132044/parameter_EarlyStoping_0//Occlusion/20-36551.npy  not exit\n",
      "/workspace/data/Interpretable_HTN/model/20230216_132044/20230216_132044/parameter_EarlyStoping_0//Occlusion/20-36530.npy  not exit\n",
      "/workspace/data/Interpretable_HTN/model/20230216_132044/20230216_132044/parameter_EarlyStoping_0//Occlusion/21-6-3629.npy  not exit\n",
      "/workspace/data/Interpretable_HTN/model/20230216_132044/20230216_132044/parameter_EarlyStoping_0//Occlusion/20-36467.npy  not exit\n",
      "/workspace/data/Interpretable_HTN/model/20230216_132044/20230216_132044/parameter_EarlyStoping_0//Occlusion/00-1-474.npy  not exit\n",
      "/workspace/data/Interpretable_HTN/model/20230216_132044/20230216_132044/parameter_EarlyStoping_0//Occlusion/20-36342.npy  not exit\n",
      "/workspace/data/Interpretable_HTN/model/20230216_132044/20230216_132044/parameter_EarlyStoping_0//Occlusion/21-3-4096.npy  not exit\n",
      "/workspace/data/Interpretable_HTN/model/20230216_132044/20230216_132044/parameter_EarlyStoping_0//Occlusion/21-3-4094.npy  not exit\n",
      "/workspace/data/Interpretable_HTN/model/20230216_132044/20230216_132044/parameter_EarlyStoping_0//Occlusion/00-1-495.npy  not exit\n",
      "/workspace/data/Interpretable_HTN/model/20230216_132044/20230216_132044/parameter_EarlyStoping_0//Occlusion/00-1-111.npy  not exit\n",
      "/workspace/data/Interpretable_HTN/model/20230216_132044/20230216_132044/parameter_EarlyStoping_0//Occlusion/00-1-112.npy  not exit\n",
      "/workspace/data/Interpretable_HTN/model/20230216_132044/20230216_132044/parameter_EarlyStoping_0//Occlusion/21-4-3750.npy  not exit\n",
      "/workspace/data/Interpretable_HTN/model/20230216_132044/20230216_132044/parameter_EarlyStoping_0//Occlusion/21-10-3068.npy  not exit\n",
      "/workspace/data/Interpretable_HTN/model/20230216_132044/20230216_132044/parameter_EarlyStoping_0//Occlusion/20-35936.npy  not exit\n",
      "/workspace/data/Interpretable_HTN/model/20230216_132044/20230216_132044/parameter_EarlyStoping_0//Occlusion/00-1-32.npy  not exit\n",
      "/workspace/data/Interpretable_HTN/model/20230216_132044/20230216_132044/parameter_EarlyStoping_0//Occlusion/20-35901.npy  not exit\n",
      "/workspace/data/Interpretable_HTN/model/20230216_132044/20230216_132044/parameter_EarlyStoping_0//Occlusion/00-1-204.npy  not exit\n",
      "/workspace/data/Interpretable_HTN/model/20230216_132044/20230216_132044/parameter_EarlyStoping_0//Occlusion/19-1-8728.npy  not exit\n",
      "/workspace/data/Interpretable_HTN/model/20230216_132044/20230216_132044/parameter_EarlyStoping_0//Occlusion/20-35672.npy  not exit\n",
      "/workspace/data/Interpretable_HTN/model/20230216_132044/20230216_132044/parameter_EarlyStoping_0//Occlusion/22-33211.npy  not exit\n",
      "/workspace/data/Interpretable_HTN/model/20230216_132044/20230216_132044/parameter_EarlyStoping_0//Occlusion/22-33206.npy  not exit\n",
      "/workspace/data/Interpretable_HTN/model/20230216_132044/20230216_132044/parameter_EarlyStoping_0//Occlusion/00-1-464.npy  not exit\n",
      "/workspace/data/Interpretable_HTN/model/20230216_132044/20230216_132044/parameter_EarlyStoping_0//Occlusion/19-2-20290.npy  not exit\n",
      "/workspace/data/Interpretable_HTN/model/20230216_132044/20230216_132044/parameter_EarlyStoping_0//Occlusion/00-1-30.npy  not exit\n",
      "/workspace/data/Interpretable_HTN/model/20230216_132044/20230216_132044/parameter_EarlyStoping_0//Occlusion/21-3-4025.npy  not exit\n",
      "/workspace/data/Interpretable_HTN/model/20230216_132044/20230216_132044/parameter_EarlyStoping_0//Occlusion/21-3-4024.npy  not exit\n",
      "/workspace/data/Interpretable_HTN/model/20230216_132044/20230216_132044/parameter_EarlyStoping_0//Occlusion/00-1-294.npy  not exit\n",
      "/workspace/data/Interpretable_HTN/model/20230216_132044/20230216_132044/parameter_EarlyStoping_0//Occlusion/22-32999.npy  not exit\n",
      "/workspace/data/Interpretable_HTN/model/20230216_132044/20230216_132044/parameter_EarlyStoping_0//Occlusion/22-32971.npy  not exit\n",
      "/workspace/data/Interpretable_HTN/model/20230216_132044/20230216_132044/parameter_EarlyStoping_0//Occlusion/22-32961.npy  not exit\n",
      "/workspace/data/Interpretable_HTN/model/20230216_132044/20230216_132044/parameter_EarlyStoping_0//Occlusion/20-35373.npy  not exit\n",
      "/workspace/data/Interpretable_HTN/model/20230216_132044/20230216_132044/parameter_EarlyStoping_0//Occlusion/20-35374.npy  not exit\n",
      "/workspace/data/Interpretable_HTN/model/20230216_132044/20230216_132044/parameter_EarlyStoping_0//Occlusion/21-4-3654.npy  not exit\n",
      "/workspace/data/Interpretable_HTN/model/20230216_132044/20230216_132044/parameter_EarlyStoping_0//Occlusion/22-32877.npy  not exit\n",
      "/workspace/data/Interpretable_HTN/model/20230216_132044/20230216_132044/parameter_EarlyStoping_0//Occlusion/20-35263.npy  not exit\n",
      "/workspace/data/Interpretable_HTN/model/20230216_132044/20230216_132044/parameter_EarlyStoping_0//Occlusion/22-32813.npy  not exit\n",
      "/workspace/data/Interpretable_HTN/model/20230216_132044/20230216_132044/parameter_EarlyStoping_0//Occlusion/20-35183.npy  not exit\n",
      "/workspace/data/Interpretable_HTN/model/20230216_132044/20230216_132044/parameter_EarlyStoping_0//Occlusion/00-1-292.npy  not exit\n",
      "/workspace/data/Interpretable_HTN/model/20230216_132044/20230216_132044/parameter_EarlyStoping_0//Occlusion/21-3-3980.npy  not exit\n",
      "/workspace/data/Interpretable_HTN/model/20230216_132044/20230216_132044/parameter_EarlyStoping_0//Occlusion/20-35067.npy  not exit\n",
      "/workspace/data/Interpretable_HTN/model/20230216_132044/20230216_132044/parameter_EarlyStoping_0//Occlusion/20-35068.npy  not exit\n",
      "/workspace/data/Interpretable_HTN/model/20230216_132044/20230216_132044/parameter_EarlyStoping_0//Occlusion/20-35069.npy  not exit\n",
      "/workspace/data/Interpretable_HTN/model/20230216_132044/20230216_132044/parameter_EarlyStoping_0//Occlusion/00-1-694.npy  not exit\n",
      "/workspace/data/Interpretable_HTN/model/20230216_132044/20230216_132044/parameter_EarlyStoping_0//Occlusion/00-1-445.npy  not exit\n",
      "/workspace/data/Interpretable_HTN/model/20230216_132044/20230216_132044/parameter_EarlyStoping_0//Occlusion/20-35045.npy  not exit\n",
      "/workspace/data/Interpretable_HTN/model/20230216_132044/20230216_132044/parameter_EarlyStoping_0//Occlusion/20-34968.npy  not exit\n",
      "/workspace/data/Interpretable_HTN/model/20230216_132044/20230216_132044/parameter_EarlyStoping_0//Occlusion/00-1-362.npy  not exit\n",
      "/workspace/data/Interpretable_HTN/model/20230216_132044/20230216_132044/parameter_EarlyStoping_0//Occlusion/00-1-348.npy  not exit\n",
      "/workspace/data/Interpretable_HTN/model/20230216_132044/20230216_132044/parameter_EarlyStoping_0//Occlusion/00-1-420.npy  not exit\n",
      "/workspace/data/Interpretable_HTN/model/20230216_132044/20230216_132044/parameter_EarlyStoping_0//Occlusion/20-34943.npy  not exit\n",
      "/workspace/data/Interpretable_HTN/model/20230216_132044/20230216_132044/parameter_EarlyStoping_0//Occlusion/20-34927.npy  not exit\n",
      "/workspace/data/Interpretable_HTN/model/20230216_132044/20230216_132044/parameter_EarlyStoping_0//Occlusion/22-32573.npy  not exit\n",
      "/workspace/data/Interpretable_HTN/model/20230216_132044/20230216_132044/parameter_EarlyStoping_0//Occlusion/21-6-3463.npy  not exit\n",
      "/workspace/data/Interpretable_HTN/model/20230216_132044/20230216_132044/parameter_EarlyStoping_0//Occlusion/00-1-333.npy  not exit\n",
      "/workspace/data/Interpretable_HTN/model/20230216_132044/20230216_132044/parameter_EarlyStoping_0//Occlusion/21-3-3964.npy  not exit\n",
      "/workspace/data/Interpretable_HTN/model/20230216_132044/20230216_132044/parameter_EarlyStoping_0//Occlusion/22-32465.npy  not exit\n",
      "/workspace/data/Interpretable_HTN/model/20230216_132044/20230216_132044/parameter_EarlyStoping_0//Occlusion/21-3-3965.npy  not exit\n",
      "/workspace/data/Interpretable_HTN/model/20230216_132044/20230216_132044/parameter_EarlyStoping_0//Occlusion/21-3-3966.npy  not exit\n",
      "/workspace/data/Interpretable_HTN/model/20230216_132044/20230216_132044/parameter_EarlyStoping_0//Occlusion/00-1-614.npy  not exit\n"
     ]
    },
    {
     "name": "stderr",
     "output_type": "stream",
     "text": [
      "/opt/conda/lib/python3.7/site-packages/ipykernel_launcher.py:55: UserWarning: FixedFormatter should only be used together with FixedLocator\n"
     ]
    },
    {
     "data": {
      "text/plain": [
       "[Text(-10.0, 0, '0'),\n",
       " Text(0.0, 0, 'T'),\n",
       " Text(10.0, 0, 'P'),\n",
       " Text(20.0, 0, 'Q'),\n",
       " Text(30.0, 0, 'R'),\n",
       " Text(40.0, 0, 'S'),\n",
       " Text(50.0, 0, 'T'),\n",
       " Text(60.0, 0, 'P'),\n",
       " Text(70.0, 0, '')]"
      ]
     },
     "execution_count": 32,
     "metadata": {},
     "output_type": "execute_result"
    },
    {
     "data": {
      "image/png": "[encoded data removed]",
      "text/plain": [
       "<Figure size 432x288 with 1 Axes>"
      ]
     },
     "metadata": {
      "needs_background": "light"
     },
     "output_type": "display_data"
    }
   ],
   "source": [
    "index = 0\n",
    "segement_number = 10\n",
    "important_values = np.zeros([6,segement_number])\n",
    "Occlusion_root = save_root+'/Occlusion/'\n",
    "\n",
    "for index in range(test_dataset.__len__()):#\n",
    "    important_value = np.zeros([6,segement_number])\n",
    "    inputs,labels = test_dataset.__getitem__(index)\n",
    "    if(labels == 0) :continue\n",
    "    info =test_dataset.infos.iloc[index]\n",
    "    ECGfile_name = info['ECGFilename']\n",
    "    layervalue_file = Occlusion_root  + ECGfile_name +'.npy'\n",
    "    waves_location_file_root = '/workspace/data/Preprocess_HTN/Waves_2023/'\n",
    "    if(not os.path.exists(layervalue_file)):\n",
    "        print(layervalue_file,\" not exit\")\n",
    "        continue\n",
    "    waves = pd.read_csv(waves_location_file_root+ECGfile_name+'.csv',index_col=0)\n",
    "    if(waves.isnull().any().any()):\n",
    "        continue\n",
    "    layervalue = np.load(layervalue_file)\n",
    "\n",
    "    for head_peak in range(1,len(waves.columns)-1):\n",
    "        if(waves.loc['P'][head_peak] == waves.iloc[:,head_peak].min()): #P波不是第一个识别出来的波形\n",
    "            p_index = int(waves.loc['P'][head_peak])\n",
    "            q_index = int(waves.loc['Q'][head_peak])\n",
    "            r_index = int(waves.loc['R'][head_peak])\n",
    "            s_index = int(waves.loc['S'][head_peak])\n",
    "            t_index = int(waves.loc['T'][head_peak])\n",
    "            t_index_befort = int(waves.loc['T'][head_peak-1])\n",
    "            if(((waves.loc['P'][head_peak+1]==None)) or((waves.loc['P'][head_peak+1] < t_index))):\n",
    "                break\n",
    "            else:\n",
    "                p_index_next = waves.loc['P'][head_peak+1] \n",
    "            important_value[0] = important_value[0]+ layervalue_segement_count(t_index_befort,p_index,layervalue,segement_number)\n",
    "            important_value[1] = important_value[1]+ layervalue_segement_count(p_index,q_index,layervalue,segement_number)   \n",
    "            important_value[2] = important_value[2]+ layervalue_segement_count(q_index,r_index,layervalue,segement_number) \n",
    "            important_value[3] = important_value[3]+layervalue_segement_count(r_index,s_index,layervalue,segement_number)\n",
    "            important_value[4] = important_value[4]+ layervalue_segement_count(s_index,t_index,layervalue,segement_number) \n",
    "            important_value[5] = important_value[5]+ layervalue_segement_count(t_index,p_index_next,layervalue,segement_number) \n",
    "        else:\n",
    "            break\n",
    "    important_value = max_min(important_value)\n",
    "    important_values = important_values + important_value\n",
    "X_lable = ['0','T','P','Q','R','S','T','P','']\n",
    "fig,ax = plt.subplots(1,1)\n",
    "ax.plot(np.arange(important_values.flatten().__len__()), max_min(important_values.flatten()), lw=1,color='k')\n",
    "ax.axvline(x=0,ls='dashed',lw=0.7,color='r')\n",
    "ax.axvline(x=10,ls='dashed',lw=0.7,color='g')\n",
    "ax.axvline(x=20,ls='dashed',lw=0.7,color='b')\n",
    "ax.axvline(x=30,ls='dashed',lw=0.7,color='c')\n",
    "ax.axvline(x=40,ls='dashed',lw=0.7,color='m')\n",
    "ax.axvline(x=50,ls='dashed',lw=0.7,color='r')\n",
    "ax.axvline(x=60,ls='dashed',lw=0.7,color='g')\n",
    "ax.set_xlim(-5,65)\n",
    "ax.set_xticklabels(X_lable)"
   ]
  },
  {
   "cell_type": "code",
   "execution_count": 12,
   "metadata": {},
   "outputs": [
    {
     "name": "stderr",
     "output_type": "stream",
     "text": [
      "/opt/conda/lib/python3.7/site-packages/ipykernel_launcher.py:55: UserWarning: FixedFormatter should only be used together with FixedLocator\n"
     ]
    },
    {
     "data": {
      "text/plain": [
       "[Text(-10.0, 0, '0'),\n",
       " Text(0.0, 0, 'T'),\n",
       " Text(10.0, 0, 'P'),\n",
       " Text(20.0, 0, 'Q'),\n",
       " Text(30.0, 0, 'R'),\n",
       " Text(40.0, 0, 'S'),\n",
       " Text(50.0, 0, 'T'),\n",
       " Text(60.0, 0, 'P'),\n",
       " Text(70.0, 0, '')]"
      ]
     },
     "execution_count": 12,
     "metadata": {},
     "output_type": "execute_result"
    },
    {
     "data": {
      "image/png": "[encoded data removed]",
      "text/plain": [
       "<Figure size 432x288 with 1 Axes>"
      ]
     },
     "metadata": {
      "needs_background": "light"
     },
     "output_type": "display_data"
    }
   ],
   "source": [
    "index = 0\n",
    "segement_number = 10\n",
    "important_values = np.zeros([6,segement_number])\n",
    "Occlusion_root = save_root+'/Occlusion/'\n",
    "\n",
    "for index in range(test_dataset.__len__()):#\n",
    "    important_value = np.zeros([6,segement_number])\n",
    "    inputs,labels = test_dataset.__getitem__(index)\n",
    "    if(labels == 1) :continue\n",
    "    info =test_dataset.infos.iloc[index]\n",
    "    ECGfile_name = info['ECGFilename']\n",
    "    layervalue_file = Occlusion_root  + ECGfile_name +'.npy'\n",
    "    waves_location_file_root = '/workspace/data/Preprocess_HTN/Waves_2023/'\n",
    "    if(not os.path.exists(layervalue_file)):\n",
    "        print(layervalue_file,\" not exit\")\n",
    "        continue\n",
    "    waves = pd.read_csv(waves_location_file_root+ECGfile_name+'.csv',index_col=0)\n",
    "    if(waves.isnull().any().any()):\n",
    "        continue\n",
    "    layervalue = np.load(layervalue_file)\n",
    "\n",
    "    for head_peak in range(1,len(waves.columns)-1):\n",
    "        if(waves.loc['P'][head_peak] == waves.iloc[:,head_peak].min()): #P波不是第一个识别出来的波形\n",
    "            p_index = int(waves.loc['P'][head_peak])\n",
    "            q_index = int(waves.loc['Q'][head_peak])\n",
    "            r_index = int(waves.loc['R'][head_peak])\n",
    "            s_index = int(waves.loc['S'][head_peak])\n",
    "            t_index = int(waves.loc['T'][head_peak])\n",
    "            t_index_befort = int(waves.loc['T'][head_peak-1])\n",
    "            if(((waves.loc['P'][head_peak+1]==None)) or((waves.loc['P'][head_peak+1] < t_index))):\n",
    "                break\n",
    "            else:\n",
    "                p_index_next = waves.loc['P'][head_peak+1] \n",
    "            important_value[0] = important_value[0]+ layervalue_segement_count(t_index_befort,p_index,layervalue,segement_number)\n",
    "            important_value[1] = important_value[1]+ layervalue_segement_count(p_index,q_index,layervalue,segement_number)   \n",
    "            important_value[2] = important_value[2]+ layervalue_segement_count(q_index,r_index,layervalue,segement_number) \n",
    "            important_value[3] = important_value[3]+layervalue_segement_count(r_index,s_index,layervalue,segement_number)\n",
    "            important_value[4] = important_value[4]+ layervalue_segement_count(s_index,t_index,layervalue,segement_number) \n",
    "            important_value[5] = important_value[5]+ layervalue_segement_count(t_index,p_index_next,layervalue,segement_number) \n",
    "        else:\n",
    "            break\n",
    "    important_value = max_min(important_value)\n",
    "    important_values = important_values + important_value\n",
    "X_lable = ['0','T','P','Q','R','S','T','P','']\n",
    "fig,ax = plt.subplots(1,1)\n",
    "ax.plot(np.arange(important_values.flatten().__len__()), max_min(important_values.flatten()), lw=1,color='k')\n",
    "ax.axvline(x=0,ls='dashed',lw=0.7,color='r')\n",
    "ax.axvline(x=10,ls='dashed',lw=0.7,color='g')\n",
    "ax.axvline(x=20,ls='dashed',lw=0.7,color='b')\n",
    "ax.axvline(x=30,ls='dashed',lw=0.7,color='c')\n",
    "ax.axvline(x=40,ls='dashed',lw=0.7,color='m')\n",
    "ax.axvline(x=50,ls='dashed',lw=0.7,color='r')\n",
    "ax.axvline(x=60,ls='dashed',lw=0.7,color='g')\n",
    "ax.set_xlim(-5,65)\n",
    "ax.set_xticklabels(X_lable)"
   ]
  },
  {
   "attachments": {},
   "cell_type": "markdown",
   "metadata": {},
   "source": [
    "----------------------------"
   ]
  },
  {
   "attachments": {},
   "cell_type": "markdown",
   "metadata": {},
   "source": [
    "GRU：2 ATT  batchsize：64"
   ]
  },
  {
   "cell_type": "code",
   "execution_count": null,
   "metadata": {},
   "outputs": [],
   "source": [
    "np.array([0.3512900727135794, 0.3734808053289141, 0.3555836294378553, 0.3445756807923317, 0.34377362579107285]).mean() #logs/20230212_134040/log.log"
   ]
  },
  {
   "cell_type": "code",
   "execution_count": null,
   "metadata": {},
   "outputs": [],
   "source": [
    "np.array([0.8434311224489796, 0.8252060439560439, 0.852782392026578, 0.861328125, 0.864453125] ).mean() "
   ]
  },
  {
   "attachments": {},
   "cell_type": "markdown",
   "metadata": {},
   "source": [
    "-----------------"
   ]
  },
  {
   "attachments": {},
   "cell_type": "markdown",
   "metadata": {},
   "source": [
    "3 layer GRU  batchsize = 64"
   ]
  },
  {
   "cell_type": "code",
   "execution_count": null,
   "metadata": {},
   "outputs": [],
   "source": [
    "np.array([0.34137497203690664, 0.419583329132625, 0.2343021673815591, 0.3741154298186302, 0.2929470892995596]).mean()  #/logs/20230211_171822/log.log    3 layer GRU  batchsize = 64"
   ]
  },
  {
   "cell_type": "code",
   "execution_count": null,
   "metadata": {},
   "outputs": [],
   "source": [
    "np.array([0.8499453352769679, 0.823489010989011, 0.9052637043189369, 0.8460582386363636, 0.88359375]).mean()  "
   ]
  },
  {
   "cell_type": "code",
   "execution_count": null,
   "metadata": {},
   "outputs": [],
   "source": [
    "np.array([0.9523809523809523,0.8523809523809524,0.9790575916230366,0.8393574297188755,0.8310344827586207]).mean()  #precision"
   ]
  },
  {
   "cell_type": "code",
   "execution_count": null,
   "metadata": {},
   "outputs": [],
   "source": [
    "np.array([0.7339449541284404,0.7955555555555556,0.8385650224215246, 0.8565573770491803,0.8763636363636363]).mean()  #recall"
   ]
  },
  {
   "attachments": {},
   "cell_type": "markdown",
   "metadata": {},
   "source": [
    "------------"
   ]
  },
  {
   "attachments": {},
   "cell_type": "markdown",
   "metadata": {},
   "source": [
    "2 layer GRU  batchsize = 128"
   ]
  },
  {
   "cell_type": "code",
   "execution_count": null,
   "metadata": {},
   "outputs": [],
   "source": [
    "np.array([0.32283543795347214, 0.44184040278196335, 0.29647157341241837, 0.4000786542892456, 0.342408150434494]).mean() # vlogs/20230211_072050/log.log   2 layer GRU  batchsize = 128"
   ]
  },
  {
   "cell_type": "code",
   "execution_count": null,
   "metadata": {},
   "outputs": [],
   "source": [
    "np.array([0.8651147959183674, 0.794921875, 0.8811319040697674, 0.8361458333333334, 0.8776041666666666] ).mean() "
   ]
  },
  {
   "attachments": {},
   "cell_type": "markdown",
   "metadata": {},
   "source": [
    "----------"
   ]
  },
  {
   "attachments": {},
   "cell_type": "markdown",
   "metadata": {},
   "source": [
    " 2 layer GRU  batchsize = 64"
   ]
  },
  {
   "cell_type": "code",
   "execution_count": null,
   "metadata": {},
   "outputs": [],
   "source": [
    "np.array( [0.3219981959887913, 0.3934356187071119, 0.28491889366081785, 0.33339295722544193, 0.3012485932558775]).mean()  # logs/20230212_031236/log.log"
   ]
  },
  {
   "cell_type": "code",
   "execution_count": null,
   "metadata": {},
   "outputs": [],
   "source": [
    "np.array([0.8693513119533528, 0.835679945054945, 0.8918708471760797, 0.869140625, 0.88828125] ).mean() "
   ]
  },
  {
   "cell_type": "code",
   "execution_count": null,
   "metadata": {},
   "outputs": [],
   "source": [
    "np.array([0.9497206703910615, 0.8768472906403941,0.9538461538461539,0.9447236180904522,0.8988326848249028]).mean()  #precision"
   ]
  },
  {
   "cell_type": "code",
   "execution_count": null,
   "metadata": {},
   "outputs": [],
   "source": [
    "np.array( [0.7798165137614679,0.7911111111111111, 0.8340807174887892, 0.7704918032786885,0.8884615384615384]).mean()  #recall"
   ]
  },
  {
   "attachments": {},
   "cell_type": "markdown",
   "metadata": {},
   "source": [
    "GradientShap"
   ]
  },
  {
   "cell_type": "code",
   "execution_count": null,
   "metadata": {},
   "outputs": [],
   "source": [
    "NET = [Net.MLBFNet_GUR_o(True,True,True,2,Dropout_rate=0.3) ] # type: ignore\n",
    "testmodel = NET[0].to(DEVICE)\n",
    "Models_path = '/workspace/data/Interpretable_HTN/model/20230212_031236/20230212_031236/parameter_EarlyStoping_4.pt'\n",
    "save_root = Models_path[:-3]+'/'\n",
    "layervalue_root = save_root+'/layervalue/'\n",
    "testmodel.load_state_dict(torch.load(Models_path))"
   ]
  },
  {
   "cell_type": "code",
   "execution_count": null,
   "metadata": {},
   "outputs": [],
   "source": [
    "def predict(data,testmodel):\n",
    "    testmodel.eval()\n",
    "    output = testmodel(data)\n",
    "    porbs = torch.nn.functional.softmax(output)\n",
    "    return porbs"
   ]
  },
  {
   "cell_type": "code",
   "execution_count": null,
   "metadata": {},
   "outputs": [],
   "source": [
    "inputs,labels = test_dataset.__getitem__(index)\n",
    "info =test_dataset.infos.iloc[index]\n",
    "ECGfile_name = info['ECGFilename']\n",
    "testmodel.eval()\n",
    "inputs = inputs.unsqueeze(0)\n",
    "inputs = inputs.to(DEVICE)\n",
    "labels = labels.to(DEVICE)  \n",
    "predict(inputs,testmodel)"
   ]
  },
  {
   "cell_type": "code",
   "execution_count": null,
   "metadata": {},
   "outputs": [],
   "source": [
    "labels"
   ]
  },
  {
   "cell_type": "code",
   "execution_count": null,
   "metadata": {},
   "outputs": [],
   "source": [
    "from captum.attr import GradientShap\n",
    "from captum.attr import visualization as viz"
   ]
  },
  {
   "cell_type": "code",
   "execution_count": null,
   "metadata": {},
   "outputs": [],
   "source": [
    "gradient_shap = GradientShap(testmodel)"
   ]
  },
  {
   "cell_type": "code",
   "execution_count": null,
   "metadata": {},
   "outputs": [],
   "source": [
    "rand_img_dist = torch.cat([inputs * 0, inputs * 1])"
   ]
  },
  {
   "cell_type": "code",
   "execution_count": null,
   "metadata": {},
   "outputs": [],
   "source": [
    "rand_img_dist.shape"
   ]
  },
  {
   "cell_type": "code",
   "execution_count": null,
   "metadata": {},
   "outputs": [],
   "source": [
    "attributions_gs = gradient_shap.attribute(inputs,\n",
    "                                          n_samples=50,\n",
    "                                          stdevs=0.0001,\n",
    "                                          baselines=rand_img_dist,\n",
    "                                          target=labels)\n"
   ]
  },
  {
   "cell_type": "code",
   "execution_count": null,
   "metadata": {},
   "outputs": [],
   "source": [
    "attributions_gs.shape"
   ]
  },
  {
   "attachments": {},
   "cell_type": "markdown",
   "metadata": {},
   "source": [
    "遮挡可解释性分析"
   ]
  },
  {
   "cell_type": "code",
   "execution_count": null,
   "metadata": {},
   "outputs": [],
   "source": [
    "from captum.attr import Occlusion\n",
    "from captum.attr import visualization as viz"
   ]
  },
  {
   "cell_type": "code",
   "execution_count": null,
   "metadata": {},
   "outputs": [],
   "source": [
    "occlusion = Occlusion(testmodel)"
   ]
  },
  {
   "cell_type": "code",
   "execution_count": null,
   "metadata": {},
   "outputs": [],
   "source": [
    "save_root = Models_path[:-3]+'/'\n",
    "Occlusion_root = save_root+'/Occlusion/'\n",
    "if(not(os.path.exists(save_root))): os.mkdir(save_root)\n",
    "if(not(os.path.exists(Occlusion_root))): os.mkdir(Occlusion_root)\n",
    "lead_index = ['I', 'II', 'III', 'aVR', 'aVL', 'aVF', 'V1', 'V2', 'V3', 'V4', 'V5', 'V6']\n",
    "x_index = np.arange(0,12)\n",
    "# fig, axs = plt.subplots(nrows=4, ncols=3, sharex=True,sharey=True,figsize=(45,25), constrained_layout=True,dpi =100)\n",
    "for index in tqdm(range(test_dataset.__len__())):#test_dataset.__len__()\n",
    "    \n",
    "    inputs,labels = test_dataset.__getitem__(index)\n",
    "    info =test_dataset.infos.iloc[index]\n",
    "    inputs = inputs.unsqueeze(0)\n",
    "    ECGfile_name = info['ECGFilename']\n",
    "    attributions_occ = occlusion.attribute(inputs,\n",
    "                                        strides = (1, 10), # 遮挡滑动移动步长\n",
    "                                        target=labels, # 目标类别\n",
    "                                        sliding_window_shapes=(12, 20), # 遮挡滑块尺寸\n",
    "                                        baselines=0)\n",
    "    Occlusion_vlue = attributions_occ.squeeze(0).numpy()\n",
    "    np.save(Occlusion_root+ECGfile_name,Occlusion_vlue)"
   ]
  },
  {
   "cell_type": "code",
   "execution_count": null,
   "metadata": {},
   "outputs": [],
   "source": [
    "layer2d_vlue = attributions_occ.squeeze(0).numpy()\n",
    "lead_index = ['I', 'II', 'III', 'aVR', 'aVL', 'aVF', 'V1', 'V2', 'V3', 'V4', 'V5', 'V6']\n",
    "x_index = np.arange(0,12)\n",
    "fig, axs = plt.subplots(nrows=4, ncols=3, sharex=True,sharey=True,figsize=(45,25), constrained_layout=True,dpi =100)\n",
    "ecg_data,_ = test_dataset.__getitem__(index)\n",
    "\n",
    "cmap = 'OrRd' \n",
    "colors = ECGplot.color_map(layer2d_vlue, cmap)#相当于归一化\n",
    "\n",
    "for i,ax in enumerate(axs.flat):  # type: ignore\n",
    "    plot_y = np.array(ecg_data[i]*5000.)#缩放\n",
    "    t = np.arange(0,5000)\n",
    "    ECGplot.plot_ECG_line(fig,ax,x = t,y= plot_y,y_name = str(lead_index[i])+\" Voltage(mV)\",title = lead_index[i])\n",
    "    for j in t:\n",
    "        ax.axvline(x=j,alpha=0.1,color=colors[i,j]) #第i导联 第j个时间点的importance value"
   ]
  },
  {
   "cell_type": "code",
   "execution_count": null,
   "metadata": {},
   "outputs": [],
   "source": []
  }
 ],
 "metadata": {
  "kernelspec": {
   "display_name": "base",
   "language": "python",
   "name": "python3"
  },
  "language_info": {
   "codemirror_mode": {
    "name": "ipython",
    "version": 3
   },
   "file_extension": ".py",
   "mimetype": "text/x-python",
   "name": "python",
   "nbconvert_exporter": "python",
   "pygments_lexer": "ipython3",
   "version": "3.7.13"
  },
  "orig_nbformat": 4,
  "vscode": {
   "interpreter": {
    "hash": "d4d1e4263499bec80672ea0156c357c1ee493ec2b1c70f0acce89fc37c4a6abe"
   }
  }
 },
 "nbformat": 4,
 "nbformat_minor": 2
}
