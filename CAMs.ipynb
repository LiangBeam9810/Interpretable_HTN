{
 "cells": [
  {
   "cell_type": "code",
   "execution_count": 6,
   "metadata": {},
   "outputs": [
    {
     "name": "stdout",
     "output_type": "stream",
     "text": [
      "The autoreload extension is already loaded. To reload it, use:\n",
      "  %reload_ext autoreload\n",
      "cuda:0\n"
     ]
    }
   ],
   "source": [
    "%load_ext autoreload\n",
    "%autoreload 1\n",
    "%aimport ecg_get_data\n",
    "%aimport Models\n",
    "%aimport train_test_validat\n",
    "%aimport self_attention\n",
    "%aimport ECGplot\n",
    "%aimport cam\n",
    "%aimport Net\n",
    "%aimport select_dataset\n",
    "import select_dataset\n",
    "import Net\n",
    "import random\n",
    "import Models \n",
    "from train_test_validat import *\n",
    "import  ecg_get_data \n",
    "import ECGplot\n",
    "import cam \n",
    "\n",
    "import torch\n",
    "import torch.utils.data as Data\n",
    "import matplotlib.pyplot as plt\n",
    "\n",
    "random_seed = 2\n",
    "torch.manual_seed(random_seed)    # reproducible\n",
    "torch.cuda.manual_seed_all(random_seed)\n",
    "random.seed(random_seed)\n",
    "np.random.seed(random_seed)\n",
    "\n",
    "test_npy_path =  './data/test/' #路径\n",
    "xml_path = './xml/xml/'\n",
    "lead_index = ['I', 'II', 'III', 'aVR', 'aVL', 'aVF', 'V1', 'V2', 'V3', 'V4', 'V5', 'V6']\n",
    "EcgChannles_num = 12\n",
    "EcgLength_num = 5000\n",
    "DEVICE = torch.device(\"cuda:0\" if torch.cuda.is_available() else \"cpu\")\n",
    "print(DEVICE)"
   ]
  },
  {
   "cell_type": "code",
   "execution_count": 4,
   "metadata": {},
   "outputs": [],
   "source": [
    "DEVICE = 'cpu'"
   ]
  },
  {
   "cell_type": "code",
   "execution_count": 8,
   "metadata": {},
   "outputs": [
    {
     "name": "stdout",
     "output_type": "stream",
     "text": [
      "\t\n",
      " orginal   fliter department&age\n",
      "  33342       8479   \n",
      "\t\n",
      " orginal   fliter duplicated\n",
      "   509        423    \n",
      "\t\n",
      " orginal   fliter duplicated\n",
      "   8479       7043   \n",
      "\t\n",
      "       HTN  NHTN \n",
      "test   423   423 \n",
      "\t\n",
      " orginal   fliter department&age\n",
      "  65933      11329   \n",
      "\t\n",
      " orginal   fliter duplicated\n",
      "   1354       1111   \n",
      "\t\n",
      " orginal   fliter duplicated\n",
      "  11329       9216   \n",
      "lack sample like : Pandas(Index=1068, num=3257, name='史元昌', years=98, gender='男', department='干部保健二科三区', diagnose='高血压', ID='271758', date='2020-11-20 16:04:58', ECG_path='20-3257_HTN.npy')\n",
      "\t\n",
      "       HTN  NHTN \n",
      "train  333   333 \n",
      "valid  778   778 \n",
      " add    0   8105 \n"
     ]
    }
   ],
   "source": [
    "data = select_dataset.splite_dataset('/workspace/data/Preprocess_HTN/data/',True)\n",
    "test_list = data.__get_test_file_list__(True,'外科')\n",
    "valid_list,train_list,addition_train_list = data.__get_VT_file_list__(0.3,True,'外科') # type: ignore"
   ]
  },
  {
   "cell_type": "code",
   "execution_count": 9,
   "metadata": {},
   "outputs": [
    {
     "name": "stdout",
     "output_type": "stream",
     "text": [
      "npys:{%d} 846\n"
     ]
    }
   ],
   "source": [
    "test_Dataset = ecg_get_data.ECG_Dataset('/workspace/data/Preprocess_HTN/data/ECG',test_list,EcgChannles_num,EcgLength_num)"
   ]
  },
  {
   "cell_type": "code",
   "execution_count": 12,
   "metadata": {},
   "outputs": [
    {
     "data": {
      "text/plain": [
       "<All keys matched successfully>"
      ]
     },
     "execution_count": 12,
     "metadata": {},
     "output_type": "execute_result"
    }
   ],
   "source": [
    "testmodel = (Net.MLBFNet(True,res = True,se = True,Dropout_rate = 0.3)).to(DEVICE)  # type: ignore\n",
    "# testmodel = (Models.resnet18(12,64,2)).to(DEVICE)\n",
    "testmodel.load_state_dict(torch.load(\"./model/20221103_073318/parameter_best_test_0.pt\"))"
   ]
  },
  {
   "cell_type": "code",
   "execution_count": 13,
   "metadata": {},
   "outputs": [
    {
     "name": "stdout",
     "output_type": "stream",
     "text": [
      "loss = 0.5424540399914053 acc = 0.7990928419560597\n",
      "f1_macro = 0.7989633655394526\n"
     ]
    }
   ],
   "source": [
    "# TEST_BATCH_SIZE = test_Dataset.npys.__len__()\n",
    "test_dataloader = Data.DataLoader(dataset=test_Dataset, batch_size=170)\n",
    "test_acc = []   \n",
    "criterion = torch.nn.CrossEntropyLoss() \n",
    "y_true,y_pred,test_loss,test_acc = eval_model(test_dataloader,criterion,testmodel,DEVICE) # 测试模型\n",
    "print('loss =',test_loss,'acc =',test_acc)\n",
    "print('f1_macro =',f1_score(y_true, y_pred, average='macro')) "
   ]
  },
  {
   "cell_type": "code",
   "execution_count": 14,
   "metadata": {},
   "outputs": [
    {
     "name": "stdout",
     "output_type": "stream",
     "text": [
      "f1_micro = 0.7990543735224587\n"
     ]
    }
   ],
   "source": [
    "print('f1_micro =',f1_score(y_true, y_pred, average='micro')) "
   ]
  },
  {
   "cell_type": "code",
   "execution_count": 15,
   "metadata": {},
   "outputs": [
    {
     "name": "stdout",
     "output_type": "stream",
     "text": [
      "Confusion Matrix: \n",
      "[[347  76]\n",
      " [ 94 329]]\n"
     ]
    }
   ],
   "source": [
    "from sklearn.metrics import confusion_matrix, ConfusionMatrixDisplay\n",
    "cm = confusion_matrix(y_true=y_true, y_pred=y_pred)\n",
    "print(\"Confusion Matrix: \")\n",
    "print(cm)"
   ]
  },
  {
   "cell_type": "code",
   "execution_count": 16,
   "metadata": {},
   "outputs": [],
   "source": [
    "testmodel.eval()\n",
    "# 定义获取梯度的函数\n",
    "fmap_block = list()\n",
    "grad_block = list()\n",
    "\n",
    "def backward_hook(module, grad_in, grad_out):\n",
    "    grad_block.append(grad_out[0].detach())\n",
    "\n",
    "# 定义获取特征图的函数\n",
    "def farward_hook(module, input, output):\n",
    "    fmap_block.append(output)"
   ]
  },
  {
   "cell_type": "code",
   "execution_count": 17,
   "metadata": {},
   "outputs": [
    {
     "data": {
      "text/plain": [
       "<torch.utils.hooks.RemovableHandle at 0x7fc7dc6dae90>"
      ]
     },
     "execution_count": 17,
     "metadata": {},
     "output_type": "execute_result"
    }
   ],
   "source": [
    "testmodel.layers0.register_forward_hook(farward_hook)\t#正向传播\n",
    "testmodel.layers1.register_forward_hook(farward_hook) \n",
    "testmodel.layers2.register_forward_hook(farward_hook)\t#正向传播\n",
    "testmodel.layers3.register_forward_hook(farward_hook) \n",
    "testmodel.layers4.register_forward_hook(farward_hook)\t#正向传播\n",
    "testmodel.layers5.register_forward_hook(farward_hook) \n",
    "testmodel.layers6.register_forward_hook(farward_hook)\t#正向传播\n",
    "testmodel.layers7.register_forward_hook(farward_hook) \n",
    "testmodel.layers8.register_forward_hook(farward_hook)\t#正向传播\n",
    "testmodel.layers9.register_forward_hook(farward_hook) \n",
    "testmodel.layers10.register_forward_hook(farward_hook)\t#正向传播\n",
    "testmodel.layers11.register_forward_hook(farward_hook) \n",
    "testmodel.conv3.register_forward_hook(farward_hook) \n",
    "testmodel.layers_list_2d[0].register_forward_hook(farward_hook) \n",
    "testmodel.layers_list_2d[1].register_forward_hook(farward_hook) \n",
    "testmodel.layers_list_2d[2].register_forward_hook(farward_hook) "
   ]
  },
  {
   "cell_type": "code",
   "execution_count": 18,
   "metadata": {},
   "outputs": [
    {
     "data": {
      "text/plain": [
       "0"
      ]
     },
     "execution_count": 18,
     "metadata": {},
     "output_type": "execute_result"
    }
   ],
   "source": [
    "fmap_block.__len__()"
   ]
  },
  {
   "cell_type": "code",
   "execution_count": 31,
   "metadata": {},
   "outputs": [],
   "source": [
    "branch_fmap_sum_HTN = np.zeros(27)\n",
    "branch_fmap_sum_NHTN = np.zeros(27)\n",
    "for itme in (range(845)):\n",
    "    # testmodel.layer4.register_forward_hook(farward_hook)\t#正向传播\n",
    "    # testmodel.layer4.register_full_backward_hook(backward_hook)#反向传播\n",
    "    fmap_block = list()\n",
    "    grad_block = list()\n",
    "    inputs,labels = test_Dataset.__getitem__(itme)\n",
    "    labels = torch.tensor(labels)\n",
    "    labels = labels.unsqueeze(0) # 在首位添加1维作为batchsize\n",
    "    inputs = inputs.unsqueeze(0) # 在首位添加1维作为batchsize\n",
    "\n",
    "    inputs = inputs.to(DEVICE)\n",
    "    labels = labels.to(DEVICE)  \n",
    "    testmodel.eval()\n",
    "    outputs = testmodel(inputs)\n",
    "    _,pred = outputs.max(1)     # 求概率最大值对应的标签\n",
    "    # print(\"labels: {}\".format(labels))\n",
    "    # print(\"predict: {}\".format(pred))\n",
    "    # loss = outputs[0,pred]      # 网络对应于pred的类别的输出即为loss\n",
    "    # # loss = (testmodel.last_out)[0,pred]\n",
    "    # loss.backward(retain_graph=True)  #retain_graph=True，目的为是为保留该过程中计算的梯度，后续G网络更新时使用\n",
    "    if(((labels.tolist())[0]) == [0,1]):\n",
    "        for i in range(12):\n",
    "            branch_fmap_sum_HTN[i]= branch_fmap_sum_HTN[i] + fmap_block[i].to('cpu').sum().detach().numpy()\n",
    "            # print(fmap_block[i].size())\n",
    "        for i in range(12,24):\n",
    "            branch_fmap_sum_HTN[i]= branch_fmap_sum_HTN[i] + fmap_block[12][0,:,i-12].to('cpu').sum().detach().numpy()\n",
    "        branch_fmap_sum_HTN[24] = fmap_block[13].to('cpu').sum().detach().numpy()\n",
    "        branch_fmap_sum_HTN[25] = fmap_block[14].to('cpu').sum().detach().numpy()\n",
    "        branch_fmap_sum_HTN[26] = fmap_block[15].to('cpu').sum().detach().numpy()\n",
    "    else:\n",
    "        for i in range(12):\n",
    "            branch_fmap_sum_NHTN[i]= branch_fmap_sum_NHTN[i] + fmap_block[i].to('cpu').sum().detach().numpy()\n",
    "            # print(fmap_block[i].size())\n",
    "        for i in range(12,24):\n",
    "            branch_fmap_sum_NHTN[i]= branch_fmap_sum_NHTN[i] + fmap_block[12][0,:,i-12].to('cpu').sum().detach().numpy()\n",
    "        branch_fmap_sum_NHTN[24] = fmap_block[13].to('cpu').sum().detach().numpy()\n",
    "        branch_fmap_sum_NHTN[25] = fmap_block[14].to('cpu').sum().detach().numpy()\n",
    "        branch_fmap_sum_NHTN[26] = fmap_block[15].to('cpu').sum().detach().numpy()"
   ]
  },
  {
   "cell_type": "code",
   "execution_count": 32,
   "metadata": {},
   "outputs": [
    {
     "name": "stdout",
     "output_type": "stream",
     "text": [
      "[803853.94213867 619561.98197937 218683.99194336 940153.54003906\n",
      " 282171.42381287 356810.5633316  668820.39718628 690020.26507568\n",
      " 897546.95458984 603129.33398438 718098.68597412 656004.16296387\n",
      " 619434.21508789 621014.01228333 608216.99613953 593380.84344482\n",
      " 616789.78155518 608520.06338882 643557.96582794 650928.26068115\n",
      " 651998.64599609 673756.60046387 673318.63279724 651164.52834702\n",
      "  24494.83984375  35451.1640625   54429.0390625 ] [739122.64575195 646820.54092407 168487.6521759  682469.28875732\n",
      " 267589.71606445 325037.09875488 697212.71496582 620256.40612793\n",
      " 798667.97332764 927481.85629272 764906.52362061 752357.1105957\n",
      " 590087.85015869 595658.38610077 582418.82794189 572049.9642334\n",
      " 606556.94589233 585936.08862305 623092.71688843 623394.85664368\n",
      " 617019.61886597 645258.71496582 646165.34522247 623432.20307922\n",
      "  23446.5234375   74770.359375    70477.734375  ]\n"
     ]
    }
   ],
   "source": [
    "print(branch_fmap_sum_HTN,branch_fmap_sum_NHTN)"
   ]
  },
  {
   "cell_type": "code",
   "execution_count": 33,
   "metadata": {},
   "outputs": [
    {
     "data": {
      "image/png": "[encoded data removed]",
      "text/plain": [
       "<Figure size 864x720 with 2 Axes>"
      ]
     },
     "metadata": {
      "needs_background": "light"
     },
     "output_type": "display_data"
    }
   ],
   "source": [
    "import matplotlib.pyplot as plt\n",
    "\n",
    "fig, (ax0, ax1) = plt.subplots(nrows = 2,ncols = 1,figsize=(12,10) ,sharex=True)  # type: ignore\n",
    "\n",
    "leads = ['I', 'II', 'III', 'aVR', 'aVL', 'aVF', 'V1', 'V2', 'V3', 'V4', 'V5', 'V6','I1', 'II1', 'III1', 'aVR1', 'aVL1', 'aVF1', 'V11', 'V21', 'V31', 'V41', 'V51', 'V61',]\n",
    "counts = branch_fmap_sum_HTN[:24].tolist()\n",
    "ax0.bar(leads, counts)\n",
    "ax0.set_ylabel('fmap_sum_HTN')\n",
    "\n",
    "counts = branch_fmap_sum_NHTN[:24].tolist()\n",
    "ax1.bar(leads, counts)\n",
    "ax1.set_ylabel('fmap_sum_NHTN')\n",
    "plt.show()"
   ]
  },
  {
   "cell_type": "code",
   "execution_count": 35,
   "metadata": {},
   "outputs": [
    {
     "data": {
      "image/png": "[encoded data removed]",
      "text/plain": [
       "<Figure size 864x720 with 2 Axes>"
      ]
     },
     "metadata": {
      "needs_background": "light"
     },
     "output_type": "display_data"
    }
   ],
   "source": [
    "fig, (ax0, ax1) = plt.subplots(nrows = 2,ncols = 1,figsize=(12,10) ,sharex=True)  # type: ignore\n",
    "\n",
    "leads = ['3', '5', '7']\n",
    "counts = branch_fmap_sum_HTN[24:].tolist()\n",
    "ax0.bar(leads, counts)\n",
    "ax0.set_ylabel('fmap_sum_HTN')\n",
    "\n",
    "counts = branch_fmap_sum_NHTN[24:].tolist()\n",
    "ax1.bar(leads, counts)\n",
    "ax1.set_ylabel('fmap_sum_NHTN')\n",
    "plt.show()"
   ]
  },
  {
   "cell_type": "code",
   "execution_count": null,
   "metadata": {},
   "outputs": [],
   "source": []
  },
  {
   "cell_type": "code",
   "execution_count": null,
   "metadata": {},
   "outputs": [],
   "source": [
    "fmap = (fmap_block[0][0]).to('cpu').detach().numpy()\n",
    "gradmap = (grad_block[0][0]).to('cpu').detach().numpy()"
   ]
  },
  {
   "cell_type": "code",
   "execution_count": null,
   "metadata": {},
   "outputs": [],
   "source": [
    "fmap.shape"
   ]
  },
  {
   "cell_type": "code",
   "execution_count": null,
   "metadata": {},
   "outputs": [],
   "source": [
    "gradmap.shape"
   ]
  },
  {
   "cell_type": "code",
   "execution_count": null,
   "metadata": {},
   "outputs": [],
   "source": [
    "\n",
    "grad_cam_pp_vlue = cam.caculate_grad_cam_pp_vlue(fmap,gradmap)\n",
    "grad_cam_vlue = cam.caculate_grad_cam_vlue(fmap,gradmap)\n",
    "layer_cam_vlue = cam.caculate_layer_cam_vlue(fmap,gradmap)\n"
   ]
  },
  {
   "cell_type": "code",
   "execution_count": null,
   "metadata": {},
   "outputs": [],
   "source": [
    "fc_weight_0 = (testmodel.fc.weight[1,0:384].detach().numpy())\n",
    "fc_weight_0 = np.expand_dims(fc_weight_0,axis=1)\n",
    "cam_value = cam.caculate_cam_vlue(fmap,fc_weight_0)"
   ]
  },
  {
   "cell_type": "code",
   "execution_count": null,
   "metadata": {},
   "outputs": [],
   "source": [
    "x = np.arange(0,5000)\n",
    "#y = cam_value\n",
    "y1 = grad_cam_vlue\n",
    "y2 = grad_cam_pp_vlue\n",
    "y3 = layer_cam_vlue\n",
    "fig, ax = plt.subplots(figsize=(16,9))\n",
    "\n",
    "#l1, = ax.plot(x,y,label='CAM')\n",
    "l2, =ax.plot(x,y1,label='Grad CAM')\n",
    "l3, =ax.plot(x,y2,label='Grad CAM++')\n",
    "l4, =ax.plot(x,y3,label='Layer')\n",
    "\n",
    "plt.legend([l2,l3,l4],['Grad CAM','Grad CAM++','Layer'])\n"
   ]
  },
  {
   "cell_type": "code",
   "execution_count": null,
   "metadata": {},
   "outputs": [],
   "source": [
    "x_index = np.arange(0,EcgLength_num)\n",
    "fig, axs = plt.subplots(nrows=6, ncols=2, sharex=True,sharey=True,figsize=(50,60), constrained_layout=True)\n",
    "ecg_data = (inputs[0]).to('cpu')\n",
    "for i,ax in enumerate(axs.flat):  # type: ignore\n",
    "    attention_value_each_timestep = layer_cam_vlue\n",
    "    #plot_y = x[1,i,:]*(4.88)\n",
    "    \n",
    "    plot_y = np.array(ecg_data[i]*3500.)\n",
    "    ECGplot.plot_multicolored_line(fig,ax,x = x_index,y= plot_y,color_depend=attention_value_each_timestep,cmap=\"jet\",y_name = str(lead_index[i])+\" Voltage(mV)\",title = lead_index[i])\n",
    "    plot_top_attention_points(fig,ax,x = x_index,y= plot_y,color_depend=attention_value_each_timestep,cmap=\"jet\",y_name = str(lead_index[i])+\" Voltage(mV)\",title = lead_index[i],top_num=500)"
   ]
  },
  {
   "cell_type": "code",
   "execution_count": null,
   "metadata": {},
   "outputs": [],
   "source": []
  },
  {
   "cell_type": "code",
   "execution_count": null,
   "metadata": {
    "notebookRunGroups": {
     "groupValue": "1"
    }
   },
   "outputs": [],
   "source": [
    "testmodel.eval()\n",
    "# 定义获取梯度的函数\n",
    "fmap_block = list()\n",
    "grad_block = list()\n",
    "\n",
    "def backward_hook(module, grad_in, grad_out):\n",
    "    grad_block.append(grad_out[0].detach())\n",
    "\n",
    "# 定义获取特征图的函数\n",
    "def farward_hook(module, input, output):\n",
    "    fmap_block.append(output)\n",
    "\n",
    "\n",
    "# 存放梯度和特征图\n",
    "# testmodel.layers2_list[0].register_forward_hook(farward_hook)\t#正向传播\n",
    "# testmodel.layers2_list[0].register_full_backward_hook(backward_hook)#反向传播\n",
    "testmodel.layer4.register_forward_hook(farward_hook)\t#正向传播\n",
    "testmodel.layer4.register_full_backward_hook(backward_hook)#反向传播\n",
    "\n",
    "\n",
    "itme = 12\n",
    "inputs,labels = test_Dataset.__getitem__(itme)\n",
    "\n",
    "labels = labels.unsqueeze(0) # 在首位添加1维作为batchsize\n",
    "inputs = inputs.unsqueeze(0) # 在首位添加1维作为batchsize\n",
    "\n",
    "inputs = inputs.to(DEVICE)\n",
    "labels = labels.to(DEVICE)  \n",
    "\n",
    "outputs = testmodel(inputs)\n",
    "_,pred = outputs.max(1)     # 求概率最大值对应的标签\n",
    "print(\"labels: {}\".format(labels))\n",
    "print(\"predict: {}\".format(pred))\n",
    "loss = outputs[0,pred]      # 网络对应于pred的类别的输出即为loss\n",
    "# loss = (testmodel.last_out)[0,pred]\n",
    "loss.backward(retain_graph=True)  #retain_graph=True，目的为是为保留该过程中计算的梯度，后续G网络更新时使用"
   ]
  },
  {
   "cell_type": "code",
   "execution_count": null,
   "metadata": {
    "notebookRunGroups": {
     "groupValue": "1"
    }
   },
   "outputs": [],
   "source": [
    "fmap = (fmap_block[0][0]).to('cpu').detach().numpy()\n",
    "gradmap = (grad_block[0][0]).to('cpu').detach().numpy()\n"
   ]
  },
  {
   "cell_type": "code",
   "execution_count": null,
   "metadata": {
    "notebookRunGroups": {
     "groupValue": "1"
    }
   },
   "outputs": [],
   "source": [
    "layer2d_vlue = cam.caculate_layer_cam_vlue_2d(fmap,gradmap)"
   ]
  },
  {
   "cell_type": "code",
   "execution_count": null,
   "metadata": {
    "notebookRunGroups": {
     "groupValue": "1"
    }
   },
   "outputs": [],
   "source": [
    "layer2d_vlue.shape"
   ]
  },
  {
   "cell_type": "code",
   "execution_count": null,
   "metadata": {},
   "outputs": [],
   "source": [
    "def plot_top_attention_points(fig,axs,x,y,color_depend,cmap = \"jet\",y_name = \"Voltage(mV)\",title=\"\",top_num = 100):\n",
    "    ax.plot(x,y, color='black',linewidth=0.5)\n",
    "    \n",
    "    top_idx=color_depend.argsort()[::-1][0:top_num]\n",
    "    ax.scatter(top_idx, y[top_idx],s=2,c='r')\n",
    "    #fig.colorbar(line, ax=axs)\n",
    "    axs.set_xlim(x.min(), x.max())\n",
    "    axs.set_ylim(-3500, +3500)\n",
    "\n",
    "    axs.set_aspect(0.2)#用于设置轴缩放的方面，即y-unit与x-unit的比率\n",
    "    axs.xaxis.set_major_locator(plt.MultipleLocator(100))# type: ignore # 100*0.002s=0.2s = 5格\n",
    "    axs.xaxis.set_minor_locator(plt.MultipleLocator(20)) # type: ignore # 20*0.002=0.004S = 1格\n",
    "    axs.yaxis.set_major_locator(plt.MultipleLocator(500))# type: ignore # 0.1uv*500 = 0.5ms = 5格\n",
    "    axs.yaxis.set_minor_locator(plt.MultipleLocator(100))# type: ignore # 0.1uv*100 =0.1ms = 1格 \n",
    "\n",
    "    #axs.xaxis.set_major_formatter(plt.NullFormatter()) #x轴不显示刻度值/lable per 0.2s\n",
    "    axs.xaxis.set_major_formatter(lambda x, pos: str(round(0.2*(x/100.0),2))) #x轴 lable per 0.2s\n",
    "    axs.yaxis.set_major_formatter(lambda x, pos: str(x/1000.0)) # label per '0.5 mv'，turn uV to mv\n",
    "\n",
    "    axs.grid(which='major', axis='x', linewidth=0.3, linestyle='-', color='b')\n",
    "    axs.grid(which='minor', axis='x', linewidth=0.1, linestyle='-', color='b')\n",
    "    axs.grid(which='major', axis='y', linewidth=0.3, linestyle='-', color='b')\n",
    "    axs.grid(which='minor', axis='y', linewidth=0.1, linestyle='-', color='b')\n",
    "    axs.set_ylabel(y_name)\n",
    "    axs.set_title(title)\n",
    "    axs.grid(True, which='both')"
   ]
  },
  {
   "cell_type": "code",
   "execution_count": null,
   "metadata": {
    "notebookRunGroups": {
     "groupValue": "1"
    }
   },
   "outputs": [],
   "source": [
    "channel_cam = layer2d_vlue.sum(axis=1)\n",
    "timestep_cam = layer2d_vlue.sum(axis=0)"
   ]
  },
  {
   "cell_type": "code",
   "execution_count": null,
   "metadata": {
    "notebookRunGroups": {
     "groupValue": "1"
    }
   },
   "outputs": [],
   "source": [
    "fig, ax = plt.subplots()\n",
    "ax.bar(lead_index, channel_cam)\n",
    "plt.show()"
   ]
  },
  {
   "cell_type": "code",
   "execution_count": null,
   "metadata": {},
   "outputs": [],
   "source": [
    "x_index = np.arange(0,EcgLength_num)\n",
    "fig, axs = plt.subplots(nrows=6, ncols=2, sharex=True,sharey=True,figsize=(50,60), constrained_layout=True)\n",
    "ecg_data = (inputs[0]).to('cpu')\n",
    "for i,ax in enumerate(axs.flat):  # type: ignore\n",
    "    attention_value_each_timestep = layer2d_vlue[i]\n",
    "    #plot_y = x[1,i,:]*(4.88)\n",
    "    \n",
    "    plot_y = np.array(ecg_data[i]*3500.)\n",
    "    ECGplot.plot_multicolored_line(fig,ax,x = x_index,y= plot_y,color_depend=attention_value_each_timestep,cmap=\"jet\",y_name = str(lead_index[i])+\" Voltage(mV)\",title = lead_index[i])\n",
    "    plot_top_attention_points(fig,ax,x = x_index,y= plot_y,color_depend=attention_value_each_timestep,cmap=\"jet\",y_name = str(lead_index[i])+\" Voltage(mV)\",title = lead_index[i],top_num=500)"
   ]
  },
  {
   "cell_type": "code",
   "execution_count": null,
   "metadata": {},
   "outputs": [],
   "source": []
  }
 ],
 "metadata": {
  "kernelspec": {
   "display_name": "Python 3.7.13 ('base')",
   "language": "python",
   "name": "python3"
  },
  "language_info": {
   "codemirror_mode": {
    "name": "ipython",
    "version": 3
   },
   "file_extension": ".py",
   "mimetype": "text/x-python",
   "name": "python",
   "nbconvert_exporter": "python",
   "pygments_lexer": "ipython3",
   "version": "3.7.13"
  },
  "orig_nbformat": 4,
  "vscode": {
   "interpreter": {
    "hash": "d4d1e4263499bec80672ea0156c357c1ee493ec2b1c70f0acce89fc37c4a6abe"
   }
  }
 },
 "nbformat": 4,
 "nbformat_minor": 2
}
