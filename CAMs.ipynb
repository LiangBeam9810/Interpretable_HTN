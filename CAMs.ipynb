{
 "cells": [
  {
   "cell_type": "code",
   "execution_count": 1,
   "metadata": {},
   "outputs": [],
   "source": [
    "import ECGDataset \n",
    "import Models \n",
    "import Net\n",
    "from train_test_validat import *\n",
    "from self_attention import *\n",
    "import matplotlib.pyplot as plt\n",
    "import ecg_plot\n",
    "import cam\n",
    "import ECGplot\n",
    "\n",
    "import torch\n",
    "import torch.utils.data as Data\n",
    "from sklearn.metrics import confusion_matrix, ConfusionMatrixDisplay\n",
    "from sklearn.model_selection import StratifiedKFold\n",
    "import random\n",
    "import pandas as pd\n",
    "from tqdm import tqdm\n",
    "\n",
    "import time\n",
    "import math\n",
    "import os\n",
    "import gc\n",
    "from torch.utils.tensorboard import SummaryWriter\n",
    "\n",
    "import sys\n",
    "import logger\n",
    "\n",
    "def seed_torch(seed=2023):\n",
    "\trandom.seed(seed)\n",
    "\tos.environ['PYTHONHASHSEED'] = str(seed) # 为了禁止hash随机化，使得实验可复现\n",
    "\tnp.random.seed(seed)\n",
    "\ttorch.manual_seed(seed)\n",
    "\ttorch.cuda.manual_seed(seed)\n",
    "\ttorch.cuda.manual_seed_all(seed) # if you are using multi-GPU.\n",
    "\ttorch.backends.cudnn.benchmark = False \n",
    "\ttorch.backends.cudnn.deterministic = True\n",
    "    # torch.backends.cudnn.enabled = False"
   ]
  },
  {
   "cell_type": "code",
   "execution_count": 2,
   "metadata": {},
   "outputs": [
    {
     "name": "stdout",
     "output_type": "stream",
     "text": [
      "cuda:0\n"
     ]
    }
   ],
   "source": [
    "EcgChannles_num = 12\n",
    "EcgLength_num = 5000\n",
    "DEVICE = torch.device(\"cuda:0\" if torch.cuda.is_available() else \"cpu\")\n",
    "print(DEVICE)\n",
    "DEVICE = \"cpu\"\n",
    "seed_torch(2023)"
   ]
  },
  {
   "cell_type": "code",
   "execution_count": 3,
   "metadata": {},
   "outputs": [
    {
     "name": "stdout",
     "output_type": "stream",
     "text": [
      "105375\n",
      "              HTN        NHTN   \n",
      "   nums       1871      103504  \n",
      "\n",
      "\n",
      "            orginal            QC         \n",
      "   nums      105375          66163        \n",
      "reset size 15\n",
      "delete size 99\n",
      "              HTN        NHTN   \n",
      "   nums       1289      64775   \n",
      "\n",
      "\n",
      "            orginal   filtered department \n",
      "   nums      66064           13896        \n",
      "              HTN        NHTN   \n",
      "   nums       1289      12607   \n",
      "\n",
      "\n",
      "            orginal     removed ages NaN  \n",
      "   nums      13896           13896        \n",
      "              HTN        NHTN   \n",
      "   nums       1289      12607   \n",
      "\n",
      "\n",
      "            orginal      filtered ages    \n",
      "   nums      13896           13520        \n",
      "              HTN        NHTN   \n",
      "   nums       1273      12247   \n",
      "\n",
      "\n",
      "            orginal   removed diagnose NaN\n",
      "   nums      13520           13517        \n",
      "              HTN        NHTN   \n",
      "   nums       1282      12235   \n",
      "\n",
      "\n",
      "ERR labels num: 17\n",
      "\n",
      "\n",
      "            orginal    removed duplicated \n",
      "   nums      13517           11410        \n",
      "              HTN        NHTN   \n",
      "   nums       1124       1124   \n",
      "\n",
      "\n",
      "              HTN        NHTN   \n",
      "   ALL        1124      10286   \n",
      " testset      272        4200   \n",
      " T&V set      852        6086   \n",
      "              HTN        NHTN   \n",
      " TestSet      272        4200   \n",
      "  TVSet       852        6086   \n",
      "   ALL        1124      10286   \n"
     ]
    }
   ],
   "source": [
    "ALLDataset = ECGDataset.ECG_Dataset_Init('/workspace/data/Preprocess_HTN/data_like_pxl//',filter_age= 18,filter_department='外科',rebuild_flage=False)    \n",
    "ALLDataset.report()  # type: ignore\n",
    "torch.cuda.empty_cache()# 清空显卡cuda\n",
    "test_dataset = ECGDataset.ECG_Dataset('/workspace/data/Preprocess_HTN/data_like_pxl//',ALLDataset.testDf)  # type: ignore  \n",
    "all_dataset = ALLDataset.INFOsDf.copy()\n",
    "all_dataset = all_dataset.sample(frac=1).reset_index(drop=True) \n",
    "# test_dataset = ECGDataset.ECG_Dataset('/workspace/data/Preprocess_HTN/data_like_pxl//',ALLDataset.testDf)  # type: ignore  \n",
    "test_size = len(all_dataset[(all_dataset['diagnose']==1)])//5\n",
    "test_pair_Df = pair_HTN(all_dataset[(all_dataset['diagnose']==1)].iloc[:test_size],all_dataset[(all_dataset['diagnose']==0)],Range_max = 15,shuffle=True)\n",
    "test_dataset = ECGDataset.ECG_Dataset('/workspace/data/Preprocess_HTN/data_like_pxl//',test_pair_Df)"
   ]
  },
  {
   "cell_type": "code",
   "execution_count": 4,
   "metadata": {},
   "outputs": [],
   "source": [
    "NET = [Net.MLBFNet(num_class = 2,mark = True,res = True,se = True,Dropout_rate = 0.3) ] # type: ignore\n",
    "testmodel = NET[0].to(DEVICE)"
   ]
  },
  {
   "cell_type": "code",
   "execution_count": 5,
   "metadata": {},
   "outputs": [],
   "source": [
    "Models_path = \"/workspace/data/Interpretable_HTN/model/20230125_083423/20230125_083423/BestF1_2.pt\""
   ]
  },
  {
   "cell_type": "code",
   "execution_count": 6,
   "metadata": {},
   "outputs": [
    {
     "name": "stdout",
     "output_type": "stream",
     "text": [
      "loss = 0.3709450997412205 acc = 0.845703125\n",
      "f1_macro = 0.8370527595501811\n",
      "f1_micro = 0.8370535714285714\n",
      "f1_binary = 0.8366890380313199\n",
      "Confusion Matrix: \n",
      "[[188  36]\n",
      " [ 37 187]]\n"
     ]
    }
   ],
   "source": [
    "testmodel.load_state_dict(torch.load(Models_path))\n",
    "test_dataloader = Data.DataLoader(dataset=test_dataset, shuffle= False,batch_size=128)\n",
    "test_acc = []   \n",
    "criterion = torch.nn.CrossEntropyLoss() \n",
    "y_true,y_pred,test_loss,test_acc = eval_model(test_dataloader,criterion,testmodel,DEVICE) # 测试模型\n",
    "print('loss =',test_loss,'acc =',test_acc)\n",
    "print('f1_macro =',f1_score(y_true, y_pred, average='macro')) \n",
    "print('f1_micro =',f1_score(y_true, y_pred, average='micro')) \n",
    "print('f1_binary =',f1_score(y_true, y_pred, average='binary')) \n",
    "cm = confusion_matrix(y_true=y_true, y_pred=y_pred)\n",
    "print(\"Confusion Matrix: \")\n",
    "print(cm)"
   ]
  },
  {
   "cell_type": "markdown",
   "metadata": {},
   "source": [
    "GET CAM Value"
   ]
  },
  {
   "cell_type": "code",
   "execution_count": 7,
   "metadata": {},
   "outputs": [],
   "source": [
    "testmodel.eval()\n",
    "# 定义获取梯度的函数\n",
    "fmap_block = list()\n",
    "grad_block = list()\n",
    "\n",
    "# 获取反向的传播图\n",
    "def backward_hook(module, grad_in, grad_out):\n",
    "    grad_block.append(grad_out[0].detach())\n",
    "\n",
    "# 定义获取特征图的函数\n",
    "def farward_hook(module, input, output):\n",
    "    fmap_block.append(output)"
   ]
  },
  {
   "cell_type": "code",
   "execution_count": 8,
   "metadata": {},
   "outputs": [
    {
     "data": {
      "text/plain": [
       "<All keys matched successfully>"
      ]
     },
     "execution_count": 8,
     "metadata": {},
     "output_type": "execute_result"
    }
   ],
   "source": [
    "testmodel.load_state_dict(torch.load(Models_path))"
   ]
  },
  {
   "cell_type": "code",
   "execution_count": 9,
   "metadata": {},
   "outputs": [
    {
     "data": {
      "text/plain": [
       "<torch.utils.hooks.RemovableHandle at 0x7f487fd9e550>"
      ]
     },
     "execution_count": 9,
     "metadata": {},
     "output_type": "execute_result"
    }
   ],
   "source": [
    "testmodel.layers0.register_forward_hook(farward_hook)\t#正向传播\n",
    "testmodel.layers1.register_forward_hook(farward_hook) \n",
    "testmodel.layers2.register_forward_hook(farward_hook)\t#正向传播\n",
    "testmodel.layers3.register_forward_hook(farward_hook) \n",
    "testmodel.layers4.register_forward_hook(farward_hook)\t#正向传播\n",
    "testmodel.layers5.register_forward_hook(farward_hook) \n",
    "testmodel.layers6.register_forward_hook(farward_hook)\t#正向传播\n",
    "testmodel.layers7.register_forward_hook(farward_hook) \n",
    "testmodel.layers8.register_forward_hook(farward_hook)\t#正向传播\n",
    "testmodel.layers9.register_forward_hook(farward_hook) \n",
    "testmodel.layers10.register_forward_hook(farward_hook)\t#正向传播\n",
    "testmodel.layers11.register_forward_hook(farward_hook) \n",
    "testmodel.conv3.register_forward_hook(farward_hook) \n",
    "testmodel.layers_list_2d[0].register_forward_hook(farward_hook) \n",
    "testmodel.layers_list_2d[1].register_forward_hook(farward_hook) \n",
    "testmodel.layers_list_2d[2].register_forward_hook(farward_hook)  "
   ]
  },
  {
   "cell_type": "code",
   "execution_count": 10,
   "metadata": {},
   "outputs": [
    {
     "data": {
      "text/plain": [
       "<torch.utils.hooks.RemovableHandle at 0x7f487fd9f810>"
      ]
     },
     "execution_count": 10,
     "metadata": {},
     "output_type": "execute_result"
    }
   ],
   "source": [
    "testmodel.layers0.register_full_backward_hook(backward_hook)#反向传播\n",
    "testmodel.layers1.register_full_backward_hook(backward_hook)#反向传播\n",
    "testmodel.layers2.register_full_backward_hook(backward_hook)#反向传播\n",
    "testmodel.layers3.register_full_backward_hook(backward_hook)#反向传播 \n",
    "testmodel.layers4.register_full_backward_hook(backward_hook)#反向传播\n",
    "testmodel.layers5.register_full_backward_hook(backward_hook)#反向传播\n",
    "testmodel.layers6.register_full_backward_hook(backward_hook)#反向传播\n",
    "testmodel.layers7.register_full_backward_hook(backward_hook)#反向传播 \n",
    "testmodel.layers8.register_full_backward_hook(backward_hook)#反向传播\n",
    "testmodel.layers9.register_full_backward_hook(backward_hook)#反向传播\n",
    "testmodel.layers10.register_full_backward_hook(backward_hook)#反向传播\n",
    "testmodel.layers11.register_full_backward_hook(backward_hook)#反向传播\n",
    "testmodel.conv3.register_full_backward_hook(backward_hook)#反向传播\n",
    "testmodel.layers_list_2d[0].register_full_backward_hook(backward_hook)#反向传播\n",
    "testmodel.layers_list_2d[1].register_full_backward_hook(backward_hook)#反向传播\n",
    "testmodel.layers_list_2d[2].register_full_backward_hook(backward_hook)#反向传播"
   ]
  },
  {
   "cell_type": "code",
   "execution_count": 11,
   "metadata": {},
   "outputs": [
    {
     "name": "stderr",
     "output_type": "stream",
     "text": [
      "/opt/conda/lib/python3.7/site-packages/ipykernel_launcher.py:11: UserWarning: To copy construct from a tensor, it is recommended to use sourceTensor.clone().detach() or sourceTensor.clone().detach().requires_grad_(True), rather than torch.tensor(sourceTensor).\n",
      "  # This is added back by InteractiveShellApp.init_path()\n"
     ]
    }
   ],
   "source": [
    "branch_fmap_sum_HTN = np.zeros(27)\n",
    "branch_fmap_sum_NHTN = np.zeros(27)\n",
    "\n",
    "for itme in (range(448)):\n",
    "    layer2d_vlue_list = list()\n",
    "    # testmodel.layer4.register_forward_hook(farward_hook)\t#正向传播\n",
    "    # testmodel.layer4.register_full_backward_hook(backward_hook)#反向传播\n",
    "    fmap_block = list()\n",
    "    grad_block = list()\n",
    "    inputs,labels = test_dataset.__getitem__(itme)\n",
    "    labels = torch.tensor(labels)\n",
    "    labels = labels.unsqueeze(0) # 在首位添加1维作为batchsize\n",
    "    inputs = inputs.unsqueeze(0) # 在首位添加1维作为batchsize\n",
    "\n",
    "    inputs = inputs.to(DEVICE)\n",
    "    labels = labels.to(DEVICE)  \n",
    "    testmodel.eval()\n",
    "    outputs = testmodel(inputs)\n",
    "    _,pred = outputs.max(1)     # 求概率最大值对应的标签\n",
    "    loss = outputs[0,pred]      # 网络对应于pred的类别的输出即为loss\n",
    "    loss.backward(retain_graph=True)  #retain_graph=True，目的为是为保留该过程中计算的梯度，后续G网络更新时使用\n",
    "    for i in range(12):\n",
    "        layer2d_vlue = cam.caculate_layer_cam_vlue(fmap_block[i][0].clone().detach().cpu().numpy(),grad_block[15-i][0].clone().detach().cpu().numpy()) #input(C,W) output(original_seq_lenth,)\n",
    "        layer2d_vlue_list.append(layer2d_vlue)\n",
    "    for i in range(12,16):\n",
    "        layer2d_vlue = cam.caculate_layer_cam_vlue_2d(fmap_block[i][0].clone().detach().cpu().numpy(),grad_block[15-i][0].clone().detach().cpu().numpy()) #input(C,H,W) output(lead,original_seq_lenth)\n",
    "        layer2d_vlue_list.append(layer2d_vlue)\n",
    "    if(((labels.tolist())[0]) == torch.tensor(1)):\n",
    "        for i in range(12):\n",
    "            branch_fmap_sum_HTN[i] += layer2d_vlue_list[i].sum()\n",
    "        for i in range(12,24):\n",
    "            branch_fmap_sum_HTN[i] += layer2d_vlue_list[12][i-12,:].sum()\n",
    "    else:\n",
    "        for i in range(12):\n",
    "            branch_fmap_sum_NHTN[i] += layer2d_vlue_list[i].sum()\n",
    "        for i in range(12,24):\n",
    "            branch_fmap_sum_NHTN[i] += layer2d_vlue_list[12][i-12,:].sum()\n",
    "    # # print(\"labels: {}\".format(labels))\n",
    "    # # print(\"predict: {}\".format(pred))\n",
    "    # # loss = outputs[0,pred]      # 网络对应于pred的类别的输出即为loss\n",
    "    # # # loss = (testmodel.last_out)[0,pred]\n",
    "    # # loss.backward(retain_graph=True)  #retain_graph=True，目的为是为保留该过程中计算的梯度，后续G网络更新时使用\n",
    "    # if(((labels.tolist())[0]) == torch.tensor(1)):\n",
    "    #     for i in range(12):\n",
    "    #         branch_fmap_sum_HTN[i]= branch_fmap_sum_HTN[i] + fmap_block[i].to('cpu').sum().detach().numpy()\n",
    "    #         # print(fmap_block[i].size())\n",
    "    #     for i in range(12,24):\n",
    "    #         branch_fmap_sum_HTN[i]= branch_fmap_sum_HTN[i] + fmap_block[12][0,:,i-12].to('cpu').sum().detach().numpy()\n",
    "    #     branch_fmap_sum_HTN[24] = fmap_block[13].to('cpu').sum().detach().numpy()\n",
    "    #     branch_fmap_sum_HTN[25] = fmap_block[14].to('cpu').sum().detach().numpy()\n",
    "    #     branch_fmap_sum_HTN[26] = fmap_block[15].to('cpu').sum().detach().numpy()\n",
    "    # else:\n",
    "    #     for i in range(12):\n",
    "    #         branch_fmap_sum_NHTN[i]= branch_fmap_sum_NHTN[i] + fmap_block[i].to('cpu').sum().detach().numpy()\n",
    "    #         # print(fmap_block[i].size())\n",
    "    #     for i in range(12,24):\n",
    "    #         branch_fmap_sum_NHTN[i]= branch_fmap_sum_NHTN[i] + fmap_block[12][0,:,i-12].to('cpu').sum().detach().numpy()\n",
    "    #     branch_fmap_sum_NHTN[24] = fmap_block[13].to('cpu').sum().detach().numpy()\n",
    "    #     branch_fmap_sum_NHTN[25] = fmap_block[14].to('cpu').sum().detach().numpy()\n",
    "    #     branch_fmap_sum_NHTN[26] = fmap_block[15].to('cpu').sum().detach().numpy()"
   ]
  },
  {
   "cell_type": "code",
   "execution_count": 12,
   "metadata": {},
   "outputs": [
    {
     "data": {
      "image/png": "[encoded data removed]",
      "text/plain": [
       "<Figure size 864x720 with 2 Axes>"
      ]
     },
     "metadata": {
      "needs_background": "light"
     },
     "output_type": "display_data"
    }
   ],
   "source": [
    "import matplotlib.pyplot as plt\n",
    "\n",
    "fig, (ax0, ax1) = plt.subplots(nrows = 2,ncols = 1,figsize=(12,10) ,sharex=True)  # type: ignore\n",
    "\n",
    "leads = ['I', 'II', 'III', 'aVR', 'aVL', 'aVF', 'V1', 'V2', 'V3', 'V4', 'V5', 'V6','I1', 'II1', 'III1', 'aVR1', 'aVL1', 'aVF1', 'V11', 'V21', 'V31', 'V41', 'V51', 'V61',]\n",
    "counts = branch_fmap_sum_HTN[:24].tolist()\n",
    "ax0.bar(leads, counts)\n",
    "ax0.set_ylabel('fmap_sum_HTN')\n",
    "\n",
    "counts = branch_fmap_sum_NHTN[:24].tolist()\n",
    "ax1.bar(leads, counts)\n",
    "ax1.set_ylabel('fmap_sum_NHTN')\n",
    "plt.show()"
   ]
  },
  {
   "cell_type": "code",
   "execution_count": 13,
   "metadata": {},
   "outputs": [
    {
     "data": {
      "image/png": "[encoded data removed]",
      "text/plain": [
       "<Figure size 864x720 with 2 Axes>"
      ]
     },
     "metadata": {
      "needs_background": "light"
     },
     "output_type": "display_data"
    }
   ],
   "source": [
    "fig, (ax0, ax1) = plt.subplots(nrows = 2,ncols = 1,figsize=(12,10) ,sharex=True)  # type: ignore\n",
    "\n",
    "leads = ['3', '5', '7']\n",
    "counts = branch_fmap_sum_HTN[24:].tolist()\n",
    "ax0.bar(leads, counts)\n",
    "ax0.set_ylabel('fmap_sum_HTN')\n",
    "\n",
    "counts = branch_fmap_sum_NHTN[24:].tolist()\n",
    "ax1.bar(leads, counts)\n",
    "ax1.set_ylabel('fmap_sum_NHTN')\n",
    "plt.show()"
   ]
  },
  {
   "cell_type": "markdown",
   "metadata": {},
   "source": [
    "layer cam"
   ]
  },
  {
   "cell_type": "code",
   "execution_count": null,
   "metadata": {},
   "outputs": [],
   "source": [
    "NET = [Net.MLBFNet(num_class= 2,mark=True,res = True,se = True,Dropout_rate = 0.25) ] # type: ignore\n",
    "testmodel = NET[0].to(DEVICE)\n",
    "testmodel.load_state_dict(torch.load(Models_path+\"/parameter_EarlyStoping_\"+str(0)+\".pt\"))"
   ]
  },
  {
   "cell_type": "code",
   "execution_count": null,
   "metadata": {},
   "outputs": [],
   "source": [
    "testmodel.eval()\n",
    "# 定义获取梯度的函数\n",
    "fmap_block = list()\n",
    "grad_block = list()\n",
    "\n",
    "# 获取反向的传播图\n",
    "def backward_hook(module, grad_in, grad_out):\n",
    "    grad_block.append(grad_out[0].detach())\n",
    "\n",
    "# 定义获取特征图的函数\n",
    "def farward_hook(module, input, output):\n",
    "    fmap_block.append(output)"
   ]
  },
  {
   "cell_type": "code",
   "execution_count": null,
   "metadata": {},
   "outputs": [],
   "source": [
    "testmodel.conv3.register_forward_hook(farward_hook)\t#正向传播\n",
    "testmodel.conv3.register_full_backward_hook(backward_hook)#反向传播"
   ]
  },
  {
   "cell_type": "code",
   "execution_count": null,
   "metadata": {},
   "outputs": [],
   "source": [
    "def plot_top_attention_points(fig,axs,x,y,color_depend,cmap = \"jet\",y_name = \"Voltage(mV)\",title=\"\",top_num = 100):\n",
    "    axs.plot(x,y, color='black',linewidth=0.5)\n",
    "    \n",
    "    top_idx=color_depend.argsort()[::-1][0:top_num]\n",
    "    axs.scatter(top_idx, y[top_idx],s=2,c='r')\n",
    "    #fig.colorbar(line, ax=axs)\n",
    "    axs.set_xlim(x.min(), x.max())\n",
    "    axs.set_ylim(-3500, +3500)\n",
    "\n",
    "    axs.set_aspect(0.2)#用于设置轴缩放的方面，即y-unit与x-unit的比率\n",
    "    axs.xaxis.set_major_locator(plt.MultipleLocator(100))# type: ignore # 100*0.002s=0.2s = 5格\n",
    "    axs.xaxis.set_minor_locator(plt.MultipleLocator(20)) # type: ignore # 20*0.002=0.004S = 1格\n",
    "    axs.yaxis.set_major_locator(plt.MultipleLocator(500))# type: ignore # 0.1uv*500 = 0.5ms = 5格\n",
    "    axs.yaxis.set_minor_locator(plt.MultipleLocator(100))# type: ignore # 0.1uv*100 =0.1ms = 1格 \n",
    "\n",
    "    #axs.xaxis.set_major_formatter(plt.NullFormatter()) #x轴不显示刻度值/lable per 0.2s\n",
    "    axs.xaxis.set_major_formatter(lambda x, pos: str(round(0.2*(x/100.0),2))) #x轴 lable per 0.2s\n",
    "    axs.yaxis.set_major_formatter(lambda x, pos: str(x/1000.0)) # label per '0.5 mv'，turn uV to mv\n",
    "\n",
    "    axs.grid(which='major', axis='x', linewidth=0.3, linestyle='-', color='b')\n",
    "    axs.grid(which='minor', axis='x', linewidth=0.1, linestyle='-', color='b')\n",
    "    axs.grid(which='major', axis='y', linewidth=0.3, linestyle='-', color='b')\n",
    "    axs.grid(which='minor', axis='y', linewidth=0.1, linestyle='-', color='b')\n",
    "    axs.set_ylabel(y_name)\n",
    "    axs.set_title(title)\n",
    "    axs.grid(True, which='both')"
   ]
  },
  {
   "cell_type": "code",
   "execution_count": null,
   "metadata": {},
   "outputs": [],
   "source": [
    "for itme in tqdm(range(10)):\n",
    "    fmap_block = list()\n",
    "    grad_block = list()\n",
    "    inputs,labels = test_dataset.__getitem__(itme)\n",
    "\n",
    "    labels = labels.unsqueeze(0) # 在首位添加1维作为batchsize\n",
    "    inputs = inputs.unsqueeze(0) # 在首位添加1维作为batchsize\n",
    "\n",
    "    inputs = inputs.to(DEVICE)\n",
    "    labels = labels.to(DEVICE)  \n",
    "\n",
    "    outputs = testmodel(inputs)\n",
    "    _,pred = outputs.max(1)     # 求概率最大值对应的标签\n",
    "    # print(\"labels: {}\".format(labels))\n",
    "    # print(\"predict: {}\".format(pred))\n",
    "    loss = outputs[0,pred]      # 网络对应于pred的类别的输出即为loss\n",
    "    # loss = (testmodel.last_out)[0,pred]\n",
    "    loss.backward(retain_graph=True)  #retain_graph=True，目的为是为保留该过程中计算的梯度，后续G网络更新时使用\n",
    "    fmap = (fmap_block[0][0]).to('cpu').detach().numpy()\n",
    "    gradmap = (grad_block[0][0]).to('cpu').detach().numpy()\n",
    "    layer2d_vlue = cam.caculate_layer_cam_vlue_2d(fmap,gradmap)\n",
    "    lead_index = ['I', 'II', 'III', 'aVR', 'aVL', 'aVF', 'V1', 'V2', 'V3', 'V4', 'V5', 'V6']\n",
    "    x_index = np.arange(0,EcgLength_num)\n",
    "    fig, axs = plt.subplots(nrows=6, ncols=2, sharex=True,sharey=True,figsize=(50,60), constrained_layout=True)\n",
    "    ecg_data = (inputs[0]).to('cpu')\n",
    "    for i,ax in enumerate(axs.flat):  # type: ignore\n",
    "        attention_value_each_timestep = layer2d_vlue[i]\n",
    "        #plot_y = x[1,i,:]*(4.88)\n",
    "        plot_y = np.array(ecg_data[i]*3500.)\n",
    "        ECGplot.plot_multicolored_line(fig,ax,x = x_index,y= plot_y,color_depend=attention_value_each_timestep,cmap=\"jet\",y_name = str(lead_index[i])+\" Voltage(mV)\",title = lead_index[i])\n",
    "        plot_top_attention_points(fig,ax,x = x_index,y= plot_y,color_depend=attention_value_each_timestep,cmap=\"jet\",y_name = str(lead_index[i])+\" Voltage(mV)\",title = lead_index[i],top_num=500)\n",
    "    plt.savefig(Models_path+'/layer_cam//'+str(itme)+'_'+str(labels[0].tolist())+'_'+str(pred[0].tolist())+'_''.jpg', bbox_inches='tight',dpi = 100)"
   ]
  },
  {
   "cell_type": "markdown",
   "metadata": {},
   "source": [
    "# single sampel"
   ]
  },
  {
   "cell_type": "code",
   "execution_count": null,
   "metadata": {},
   "outputs": [],
   "source": [
    "def amplitude_limiting(ecg_data,max_bas = 3500):\n",
    "    ecg_data = ecg_data*4.88\n",
    "    ecg_data[ecg_data > max_bas] = max_bas\n",
    "    ecg_data[ecg_data < (-1*max_bas)] = -1*max_bas\n",
    "    return ecg_data/max_bas"
   ]
  },
  {
   "cell_type": "code",
   "execution_count": null,
   "metadata": {},
   "outputs": [],
   "source": [
    "NET = [Net.MLBFNet(num_class=2,mark=True,res = True,se = True,Dropout_rate = 0.25) ] # type: ignore\n",
    "testmodel = NET[0].to(DEVICE)\n",
    "Models_path = \"./model/20221206_095840/\"\n",
    "testmodel.load_state_dict(torch.load(Models_path+\"/parameter_EarlyStoping_\"+str(0)+\".pt\"))"
   ]
  },
  {
   "cell_type": "code",
   "execution_count": null,
   "metadata": {},
   "outputs": [],
   "source": [
    "testmodel.conv3.register_forward_hook(farward_hook)\t#正向传播\n",
    "testmodel.conv3.register_full_backward_hook(backward_hook)#反向传播"
   ]
  },
  {
   "cell_type": "code",
   "execution_count": null,
   "metadata": {},
   "outputs": [],
   "source": [
    "# 定义获取梯度的函数\n",
    "fmap_block = list()\n",
    "grad_block = list()\n",
    "\n",
    "# 获取反向的传播图\n",
    "def backward_hook(module, grad_in, grad_out):\n",
    "    grad_block.append(grad_out[0].detach())\n",
    "\n",
    "# 定义获取特征图的函数\n",
    "def farward_hook(module, input, output):\n",
    "    fmap_block.append(output)"
   ]
  },
  {
   "cell_type": "code",
   "execution_count": null,
   "metadata": {},
   "outputs": [],
   "source": [
    "patients_list = ['21-1-1489_35-0_HTN',\n",
    "'21-1-2739_94-0_HTN',\n",
    "'21-1-2895_40-1_HTN',\n",
    "'21-1-306_59-0_HTN',\n",
    "'21-1-3118_35-1_HTN',\n",
    "'21-1-3131_48-1_HTN',\n",
    "'21-1-3932_47-1_HTN',\n",
    "'21-1-4325_51-0_HTN',\n",
    "'21-1-99_48-1_HTN',\n",
    "'21-10-190_53-0_HTN',\n",
    "'21-10-3164_71-0_HTN',\n",
    "'21-10-3349_78-1_HTN',\n",
    "'21-10-3350_78-1_HTN',\n",
    "'21-10-752_50-1_HTN',\n",
    "'21-11-3157_47-1_HTN',\n",
    "'21-12-2247_74-0_HTN',\n",
    "'21-12-2956_41-0_HTN',\n",
    "'21-12-4151_38-0_HTN',\n",
    "'21-12-624_77-1_HTN',\n",
    "'21-3-1003_61-1_HTN',\n",
    "'21-3-1580_53-0_HTN',\n",
    "'21-3-3226_50-1_HTN',\n",
    "'21-3-727_72-0_HTN',\n",
    "'21-3-821_30-1_HTN',\n",
    "'21-4-1029_38-1_HTN',\n",
    "'21-4-1388_69-0_HTN',\n",
    "'21-4-2463_49-0_HTN',\n",
    "'21-4-2951_48-0_HTN',\n",
    "'21-4-3683_6-1_HTN',\n",
    "'21-4-3684_6-1_HTN',\n",
    "'21-5-152_58-1_HTN',\n",
    "'21-5-3171_41-1_HTN',\n",
    "'21-5-6_65-0_HTN',\n",
    "'21-6-4126_29-1_HTN',\n",
    "'21-7-3375_70-1_HTN',]\n"
   ]
  },
  {
   "cell_type": "code",
   "execution_count": null,
   "metadata": {},
   "outputs": [],
   "source": [
    "for patient in patients_list:\n",
    "    inputs = np.load('/workspace/data/Preprocess_HTN/data_like_pxl/ECG/'+patient+'.npy')\n",
    "    labels = torch.from_numpy(np.array(1)).long()\n",
    "    infos =pd.read_pickle('/workspace/data/Preprocess_HTN/data_like_pxl/INFO/'+patient+'.pkl')\n",
    "    print(inputs,infos)\n",
    "    inputs = amplitude_limiting(inputs)\n",
    "    inputs = torch.FloatTensor(inputs)\n",
    "    testmodel.eval()\n",
    "    fmap_block = list()\n",
    "    grad_block = list()\n",
    "\n",
    "\n",
    "    labels = labels.unsqueeze(0) # 在首位添加1维作为batchsize\n",
    "    inputs = inputs.unsqueeze(0) # 在首位添加1维作为batchsize\n",
    "\n",
    "    inputs = inputs.to(DEVICE)\n",
    "    labels = labels.to(DEVICE)  \n",
    "\n",
    "    outputs = testmodel(inputs)\n",
    "    print('outputs',outputs)\n",
    "    _,pred = outputs.max(1)     # 求概率最大值对应的标签\n",
    "    # print(\"labels: {}\".format(labels))\n",
    "    # print(\"predict: {}\".format(pred))\n",
    "    loss = outputs[0,pred]      # 网络对应于pred的类别的输出即为loss\n",
    "    # loss = (testmodel.last_out)[0,pred]\n",
    "    loss.backward(retain_graph=True)  #retain_graph=True，目的为是为保留该过程中计算的梯度，后续G网络更新时使用\n",
    "    fmap = (fmap_block[0][0]).to('cpu').detach().numpy()\n",
    "    gradmap = (grad_block[0][0]).to('cpu').detach().numpy()\n",
    "    layer2d_vlue = cam.caculate_layer_cam_vlue_2d(fmap,gradmap)\n",
    "    lead_index = ['I', 'II', 'III', 'aVR', 'aVL', 'aVF', 'V1', 'V2', 'V3', 'V4', 'V5', 'V6']\n",
    "    x_index = np.arange(0,EcgLength_num)\n",
    "    fig, axs = plt.subplots(nrows=6, ncols=2, sharex=True,sharey=True,figsize=(50,60), constrained_layout=True)\n",
    "    ecg_data = (inputs[0]).to('cpu')\n",
    "    for i,ax in enumerate(axs.flat):  # type: ignore\n",
    "        attention_value_each_timestep = layer2d_vlue[i]\n",
    "        #plot_y = x[1,i,:]*(4.88)\n",
    "        plot_y = np.array(ecg_data[i]*3500.)\n",
    "        ECGplot.plot_multicolored_line(fig,ax,x = x_index,y= plot_y,color_depend=attention_value_each_timestep,cmap=\"jet\",y_name = str(lead_index[i])+\" Voltage(mV)\",title = lead_index[i])\n",
    "        plot_top_attention_points(fig,ax,x = x_index,y= plot_y,color_depend=attention_value_each_timestep,cmap=\"jet\",y_name = str(lead_index[i])+\" Voltage(mV)\",title = lead_index[i],top_num=500)\n",
    "    plt.savefig(Models_path+'/'+patient+'_'+str(labels[0].tolist())+'_'+str(pred[0].tolist())+'_''.jpg', bbox_inches='tight',dpi = 100)\n",
    "    "
   ]
  },
  {
   "cell_type": "code",
   "execution_count": null,
   "metadata": {},
   "outputs": [],
   "source": []
  }
 ],
 "metadata": {
  "kernelspec": {
   "display_name": "Python 3.7.13 ('base')",
   "language": "python",
   "name": "python3"
  },
  "language_info": {
   "codemirror_mode": {
    "name": "ipython",
    "version": 3
   },
   "file_extension": ".py",
   "mimetype": "text/x-python",
   "name": "python",
   "nbconvert_exporter": "python",
   "pygments_lexer": "ipython3",
   "version": "3.7.13 (default, Mar 29 2022, 02:18:16) \n[GCC 7.5.0]"
  },
  "orig_nbformat": 4,
  "vscode": {
   "interpreter": {
    "hash": "d4d1e4263499bec80672ea0156c357c1ee493ec2b1c70f0acce89fc37c4a6abe"
   }
  }
 },
 "nbformat": 4,
 "nbformat_minor": 2
}
