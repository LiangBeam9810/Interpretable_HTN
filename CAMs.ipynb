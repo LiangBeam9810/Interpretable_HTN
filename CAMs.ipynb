{
 "cells": [
  {
   "cell_type": "code",
   "execution_count": 1,
   "metadata": {},
   "outputs": [],
   "source": [
    "%load_ext autoreload\n",
    "%autoreload 1\n",
    "%aimport ecg_get_data\n",
    "%aimport Models\n",
    "%aimport train_test_validat\n",
    "%aimport self_attention\n",
    "%aimport ECGplot\n",
    "%aimport Net\n",
    "%aimport select_dataset\n",
    "import select_dataset\n",
    "import Models \n",
    "import Net\n",
    "from train_test_validat import *\n",
    "from self_attention import *\n",
    "import  ecg_get_data \n",
    "import matplotlib.pyplot as plt\n",
    "import ecg_plot\n",
    "\n",
    "import torch\n",
    "import torch.utils.data as Data\n",
    "from sklearn.metrics import confusion_matrix, ConfusionMatrixDisplay\n",
    "import random\n",
    "\n",
    "import time\n",
    "import os\n",
    "import gc\n",
    "\n",
    "# random_seed = 2\n",
    "# torch.manual_seed(random_seed)    # reproducible\n",
    "# torch.cuda.manual_seed_all(random_seed)\n",
    "# random.seed(random_seed)\n",
    "# np.random.seed(random_seed)\n",
    "\n",
    "time_str = time.strftime(\"%Y%m%d_%H%M%S\", time.localtime()) "
   ]
  },
  {
   "cell_type": "code",
   "execution_count": 2,
   "metadata": {},
   "outputs": [],
   "source": [
    "DEVICE = 'cpu'"
   ]
  },
  {
   "cell_type": "code",
   "execution_count": 3,
   "metadata": {},
   "outputs": [
    {
     "name": "stdout",
     "output_type": "stream",
     "text": [
      "\t\n",
      " orginal   fliter department&age\n",
      "  33342       8479   \n",
      "\t\n",
      " orginal   fliter duplicated\n",
      "   509        423    \n",
      "\t\n",
      " orginal   fliter duplicated\n",
      "   8479       7043   \n",
      "lack sample like : Pandas(Index=28, num=2269, name='潘茂元', years=102, gender='男', department='干部保健二科一区', diagnose='高血压3级', ID='354834', date='2021-01-22 16:19:10', ECG_path='21-1-2269_HTN.npy')\n",
      "\t\n",
      "       HTN  NHTN \n",
      "test   423   423 \n",
      "npys:{%d} 846\n"
     ]
    }
   ],
   "source": [
    "data = select_dataset.splite_dataset('/workspace/data/Preprocess_HTN/data/',True)\n",
    "test_list = data.__get_test_file_list__(True,'外科')\n",
    "ECG_root = '/workspace/data/Preprocess_HTN/data/ECG'\n",
    "EcgChannles_num = 12\n",
    "EcgLength_num = 5000\n",
    "test_Dataset = ecg_get_data.ECG_Dataset(ECG_root,test_list,EcgChannles_num,EcgLength_num,position_encode=False)"
   ]
  },
  {
   "cell_type": "code",
   "execution_count": 4,
   "metadata": {},
   "outputs": [
    {
     "data": {
      "text/plain": [
       "<All keys matched successfully>"
      ]
     },
     "execution_count": 4,
     "metadata": {},
     "output_type": "execute_result"
    }
   ],
   "source": [
    "testmodel = (Net.MLBFNet(True,res = True,se = True,Dropout_rate = 0.25)).to(DEVICE)  # type: ignore\n",
    "# testmodel = (Models.resnet18(12,64,2)).to(DEVICE)\n",
    "testmodel.load_state_dict(torch.load(\"./model/20221111_034149/parameter_best_test_0.pt\"))"
   ]
  },
  {
   "cell_type": "code",
   "execution_count": 5,
   "metadata": {},
   "outputs": [
    {
     "name": "stdout",
     "output_type": "stream",
     "text": [
      "loss = 0.4952645389472737 acc = 0.8060358056265986\n",
      "f1_macro = 0.8048860063114196\n"
     ]
    }
   ],
   "source": [
    "# TEST_BATCH_SIZE = test_Dataset.npys.__len__()\n",
    "test_dataloader = Data.DataLoader(dataset=test_Dataset, shuffle= False,batch_size=50)\n",
    "test_acc = []   \n",
    "criterion = torch.nn.CrossEntropyLoss() \n",
    "y_true,y_pred,test_loss,test_acc = eval_model(test_dataloader,criterion,testmodel,DEVICE) # 测试模型\n",
    "print('loss =',test_loss,'acc =',test_acc)\n",
    "print('f1_macro =',f1_score(y_true, y_pred, average='macro')) "
   ]
  },
  {
   "cell_type": "code",
   "execution_count": 6,
   "metadata": {},
   "outputs": [
    {
     "name": "stdout",
     "output_type": "stream",
     "text": [
      "f1_micro = 0.806146572104019\n"
     ]
    }
   ],
   "source": [
    "print('f1_micro =',f1_score(y_true, y_pred, average='micro')) "
   ]
  },
  {
   "cell_type": "code",
   "execution_count": 8,
   "metadata": {},
   "outputs": [
    {
     "name": "stdout",
     "output_type": "stream",
     "text": [
      "Confusion Matrix: \n",
      "[[375  48]\n",
      " [116 307]]\n"
     ]
    }
   ],
   "source": [
    "from sklearn.metrics import confusion_matrix, ConfusionMatrixDisplay\n",
    "cm = confusion_matrix(y_true=y_true, y_pred=y_pred)\n",
    "print(\"Confusion Matrix: \")\n",
    "print(cm)"
   ]
  },
  {
   "cell_type": "code",
   "execution_count": null,
   "metadata": {},
   "outputs": [],
   "source": [
    "testmodel.eval()\n",
    "# 定义获取梯度的函数\n",
    "fmap_block = list()\n",
    "grad_block = list()\n",
    "\n",
    "def backward_hook(module, grad_in, grad_out):\n",
    "    grad_block.append(grad_out[0].detach())\n",
    "\n",
    "# 定义获取特征图的函数\n",
    "def farward_hook(module, input, output):\n",
    "    fmap_block.append(output)\n",
    "\n",
    "\n",
    "# 存放梯度和特征图\n",
    "testmodel.conv1.register_forward_hook(farward_hook)\t#正向传播\n",
    "testmodel.conv1.register_full_backward_hook(backward_hook)#反向传播\n",
    "# testmodel.layer4.register_forward_hook(farward_hook)\t#正向传播\n",
    "# testmodel.layer4.register_full_backward_hook(backward_hook)#反向传播\n",
    "\n",
    "\n",
    "itme = 220\n",
    "inputs,labels = test_Dataset.__getitem__(itme)\n",
    "\n",
    "labels = labels.unsqueeze(0) # 在首位添加1维作为batchsize\n",
    "inputs = inputs.unsqueeze(0) # 在首位添加1维作为batchsize\n",
    "\n",
    "inputs = inputs.to(DEVICE)\n",
    "labels = labels.to(DEVICE)  \n",
    "\n",
    "outputs = testmodel(inputs)\n",
    "_,pred = outputs.max(1)     # 求概率最大值对应的标签\n",
    "print(\"labels: {}\".format(labels))\n",
    "print(\"predict: {}\".format(pred))\n",
    "loss = outputs[0,pred]      # 网络对应于pred的类别的输出即为loss\n",
    "# loss = (testmodel.last_out)[0,pred]\n",
    "loss.backward(retain_graph=True)  #retain_graph=True，目的为是为保留该过程中计算的梯度，后续G网络更新时使用"
   ]
  },
  {
   "cell_type": "code",
   "execution_count": null,
   "metadata": {},
   "outputs": [],
   "source": [
    "fmap = (fmap_block[0][0]).to('cpu').detach().numpy()\n",
    "gradmap = (grad_block[0][0]).to('cpu').detach().numpy()"
   ]
  },
  {
   "cell_type": "code",
   "execution_count": null,
   "metadata": {},
   "outputs": [],
   "source": [
    "fmap.shape"
   ]
  },
  {
   "cell_type": "code",
   "execution_count": null,
   "metadata": {},
   "outputs": [],
   "source": [
    "gradmap.shape"
   ]
  },
  {
   "cell_type": "code",
   "execution_count": null,
   "metadata": {},
   "outputs": [],
   "source": [
    "\n",
    "grad_cam_pp_vlue = cam.caculate_grad_cam_pp_vlue(fmap,gradmap)\n",
    "grad_cam_vlue = cam.caculate_grad_cam_vlue(fmap,gradmap)\n",
    "layer_cam_vlue = cam.caculate_layer_cam_vlue(fmap,gradmap)\n"
   ]
  },
  {
   "cell_type": "code",
   "execution_count": null,
   "metadata": {},
   "outputs": [],
   "source": [
    "fc_weight_0 = (testmodel.fc.weight[1,0:384].detach().numpy())\n",
    "fc_weight_0 = np.expand_dims(fc_weight_0,axis=1)\n",
    "cam_value = cam.caculate_cam_vlue(fmap,fc_weight_0)"
   ]
  },
  {
   "cell_type": "code",
   "execution_count": null,
   "metadata": {},
   "outputs": [],
   "source": [
    "x = np.arange(0,5000)\n",
    "#y = cam_value\n",
    "y1 = grad_cam_vlue\n",
    "y2 = grad_cam_pp_vlue\n",
    "y3 = layer_cam_vlue\n",
    "fig, ax = plt.subplots(figsize=(16,9))\n",
    "\n",
    "#l1, = ax.plot(x,y,label='CAM')\n",
    "l2, =ax.plot(x,y1,label='Grad CAM')\n",
    "l3, =ax.plot(x,y2,label='Grad CAM++')\n",
    "l4, =ax.plot(x,y3,label='Layer')\n",
    "\n",
    "plt.legend([l2,l3,l4],['Grad CAM','Grad CAM++','Layer'])\n"
   ]
  },
  {
   "cell_type": "code",
   "execution_count": null,
   "metadata": {},
   "outputs": [],
   "source": [
    "x_index = np.arange(0,EcgLength_num)\n",
    "fig, axs = plt.subplots(nrows=6, ncols=2, sharex=True,sharey=True,figsize=(50,60), constrained_layout=True)\n",
    "ecg_data = (inputs[0]).to('cpu')\n",
    "for i,ax in enumerate(axs.flat):  # type: ignore\n",
    "    attention_value_each_timestep = layer_cam_vlue\n",
    "    #plot_y = x[1,i,:]*(4.88)\n",
    "    \n",
    "    plot_y = np.array(ecg_data[i]*3500.)\n",
    "    ECGplot.plot_multicolored_line(fig,ax,x = x_index,y= plot_y,color_depend=attention_value_each_timestep,cmap=\"jet\",y_name = str(lead_index[i])+\" Voltage(mV)\",title = lead_index[i])\n",
    "    plot_top_attention_points(fig,ax,x = x_index,y= plot_y,color_depend=attention_value_each_timestep,cmap=\"jet\",y_name = str(lead_index[i])+\" Voltage(mV)\",title = lead_index[i],top_num=500)"
   ]
  },
  {
   "cell_type": "code",
   "execution_count": null,
   "metadata": {},
   "outputs": [],
   "source": []
  },
  {
   "cell_type": "code",
   "execution_count": null,
   "metadata": {
    "notebookRunGroups": {
     "groupValue": "1"
    }
   },
   "outputs": [],
   "source": [
    "testmodel.eval()\n",
    "# 定义获取梯度的函数\n",
    "fmap_block = list()\n",
    "grad_block = list()\n",
    "\n",
    "def backward_hook(module, grad_in, grad_out):\n",
    "    grad_block.append(grad_out[0].detach())\n",
    "\n",
    "# 定义获取特征图的函数\n",
    "def farward_hook(module, input, output):\n",
    "    fmap_block.append(output)\n",
    "\n",
    "\n",
    "# 存放梯度和特征图\n",
    "# testmodel.layers2_list[0].register_forward_hook(farward_hook)\t#正向传播\n",
    "# testmodel.layers2_list[0].register_full_backward_hook(backward_hook)#反向传播\n",
    "testmodel.layer4.register_forward_hook(farward_hook)\t#正向传播\n",
    "testmodel.layer4.register_full_backward_hook(backward_hook)#反向传播\n",
    "\n",
    "\n",
    "itme = 12\n",
    "inputs,labels = test_Dataset.__getitem__(itme)\n",
    "\n",
    "labels = labels.unsqueeze(0) # 在首位添加1维作为batchsize\n",
    "inputs = inputs.unsqueeze(0) # 在首位添加1维作为batchsize\n",
    "\n",
    "inputs = inputs.to(DEVICE)\n",
    "labels = labels.to(DEVICE)  \n",
    "\n",
    "outputs = testmodel(inputs)\n",
    "_,pred = outputs.max(1)     # 求概率最大值对应的标签\n",
    "print(\"labels: {}\".format(labels))\n",
    "print(\"predict: {}\".format(pred))\n",
    "loss = outputs[0,pred]      # 网络对应于pred的类别的输出即为loss\n",
    "# loss = (testmodel.last_out)[0,pred]\n",
    "loss.backward(retain_graph=True)  #retain_graph=True，目的为是为保留该过程中计算的梯度，后续G网络更新时使用"
   ]
  },
  {
   "cell_type": "code",
   "execution_count": null,
   "metadata": {
    "notebookRunGroups": {
     "groupValue": "1"
    }
   },
   "outputs": [],
   "source": [
    "fmap = (fmap_block[0][0]).to('cpu').detach().numpy()\n",
    "gradmap = (grad_block[0][0]).to('cpu').detach().numpy()\n"
   ]
  },
  {
   "cell_type": "code",
   "execution_count": null,
   "metadata": {
    "notebookRunGroups": {
     "groupValue": "1"
    }
   },
   "outputs": [],
   "source": [
    "layer2d_vlue = cam.caculate_layer_cam_vlue_2d(fmap,gradmap)"
   ]
  },
  {
   "cell_type": "code",
   "execution_count": null,
   "metadata": {
    "notebookRunGroups": {
     "groupValue": "1"
    }
   },
   "outputs": [],
   "source": [
    "layer2d_vlue.shape"
   ]
  },
  {
   "cell_type": "code",
   "execution_count": null,
   "metadata": {},
   "outputs": [],
   "source": [
    "def plot_top_attention_points(fig,axs,x,y,color_depend,cmap = \"jet\",y_name = \"Voltage(mV)\",title=\"\",top_num = 100):\n",
    "    ax.plot(x,y, color='black',linewidth=0.5)\n",
    "    \n",
    "    top_idx=color_depend.argsort()[::-1][0:top_num]\n",
    "    ax.scatter(top_idx, y[top_idx],s=2,c='r')\n",
    "    #fig.colorbar(line, ax=axs)\n",
    "    axs.set_xlim(x.min(), x.max())\n",
    "    axs.set_ylim(-3500, +3500)\n",
    "\n",
    "    axs.set_aspect(0.2)#用于设置轴缩放的方面，即y-unit与x-unit的比率\n",
    "    axs.xaxis.set_major_locator(plt.MultipleLocator(100))# type: ignore # 100*0.002s=0.2s = 5格\n",
    "    axs.xaxis.set_minor_locator(plt.MultipleLocator(20)) # type: ignore # 20*0.002=0.004S = 1格\n",
    "    axs.yaxis.set_major_locator(plt.MultipleLocator(500))# type: ignore # 0.1uv*500 = 0.5ms = 5格\n",
    "    axs.yaxis.set_minor_locator(plt.MultipleLocator(100))# type: ignore # 0.1uv*100 =0.1ms = 1格 \n",
    "\n",
    "    #axs.xaxis.set_major_formatter(plt.NullFormatter()) #x轴不显示刻度值/lable per 0.2s\n",
    "    axs.xaxis.set_major_formatter(lambda x, pos: str(round(0.2*(x/100.0),2))) #x轴 lable per 0.2s\n",
    "    axs.yaxis.set_major_formatter(lambda x, pos: str(x/1000.0)) # label per '0.5 mv'，turn uV to mv\n",
    "\n",
    "    axs.grid(which='major', axis='x', linewidth=0.3, linestyle='-', color='b')\n",
    "    axs.grid(which='minor', axis='x', linewidth=0.1, linestyle='-', color='b')\n",
    "    axs.grid(which='major', axis='y', linewidth=0.3, linestyle='-', color='b')\n",
    "    axs.grid(which='minor', axis='y', linewidth=0.1, linestyle='-', color='b')\n",
    "    axs.set_ylabel(y_name)\n",
    "    axs.set_title(title)\n",
    "    axs.grid(True, which='both')"
   ]
  },
  {
   "cell_type": "code",
   "execution_count": null,
   "metadata": {
    "notebookRunGroups": {
     "groupValue": "1"
    }
   },
   "outputs": [],
   "source": [
    "channel_cam = layer2d_vlue.sum(axis=1)\n",
    "timestep_cam = layer2d_vlue.sum(axis=0)"
   ]
  },
  {
   "cell_type": "code",
   "execution_count": null,
   "metadata": {
    "notebookRunGroups": {
     "groupValue": "1"
    }
   },
   "outputs": [],
   "source": [
    "fig, ax = plt.subplots()\n",
    "ax.bar(lead_index, channel_cam)\n",
    "plt.show()"
   ]
  },
  {
   "cell_type": "code",
   "execution_count": null,
   "metadata": {},
   "outputs": [],
   "source": [
    "x_index = np.arange(0,EcgLength_num)\n",
    "fig, axs = plt.subplots(nrows=6, ncols=2, sharex=True,sharey=True,figsize=(50,60), constrained_layout=True)\n",
    "ecg_data = (inputs[0]).to('cpu')\n",
    "for i,ax in enumerate(axs.flat):  # type: ignore\n",
    "    attention_value_each_timestep = layer2d_vlue[i]\n",
    "    #plot_y = x[1,i,:]*(4.88)\n",
    "    \n",
    "    plot_y = np.array(ecg_data[i]*3500.)\n",
    "    ECGplot.plot_multicolored_line(fig,ax,x = x_index,y= plot_y,color_depend=attention_value_each_timestep,cmap=\"jet\",y_name = str(lead_index[i])+\" Voltage(mV)\",title = lead_index[i])\n",
    "    plot_top_attention_points(fig,ax,x = x_index,y= plot_y,color_depend=attention_value_each_timestep,cmap=\"jet\",y_name = str(lead_index[i])+\" Voltage(mV)\",title = lead_index[i],top_num=500)"
   ]
  },
  {
   "cell_type": "code",
   "execution_count": null,
   "metadata": {},
   "outputs": [],
   "source": []
  }
 ],
 "metadata": {
  "kernelspec": {
   "display_name": "Python 3.7.13 ('base')",
   "language": "python",
   "name": "python3"
  },
  "language_info": {
   "codemirror_mode": {
    "name": "ipython",
    "version": 3
   },
   "file_extension": ".py",
   "mimetype": "text/x-python",
   "name": "python",
   "nbconvert_exporter": "python",
   "pygments_lexer": "ipython3",
   "version": "3.7.13"
  },
  "orig_nbformat": 4,
  "vscode": {
   "interpreter": {
    "hash": "d4d1e4263499bec80672ea0156c357c1ee493ec2b1c70f0acce89fc37c4a6abe"
   }
  }
 },
 "nbformat": 4,
 "nbformat_minor": 2
}
