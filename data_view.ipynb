{
 "cells": [
  {
   "cell_type": "code",
   "execution_count": 1,
   "metadata": {},
   "outputs": [
    {
     "name": "stderr",
     "output_type": "stream",
     "text": [
      "/root/miniconda3/envs/ECG_torch_1.11/lib/python3.7/site-packages/tqdm/auto.py:21: TqdmWarning: IProgress not found. Please update jupyter and ipywidgets. See https://ipywidgets.readthedocs.io/en/stable/user_install.html\n",
      "  from .autonotebook import tqdm as notebook_tqdm\n"
     ]
    }
   ],
   "source": [
    "%load_ext autoreload\n",
    "%autoreload 2\n",
    "import ECGHandle\n",
    "\n",
    "from train_test_validat import *\n",
    "from self_attention import *\n",
    "import matplotlib.pyplot as plt\n",
    "import matplotlib\n",
    "\n",
    "import torch\n",
    "import torch.utils.data as Data\n",
    "from sklearn.metrics import confusion_matrix, ConfusionMatrixDisplay\n",
    "from sklearn.model_selection import StratifiedKFold\n",
    "from sklearn.metrics import confusion_matrix, accuracy_score, f1_score\n",
    "import random\n",
    "\n",
    "import pandas as pd\n",
    "from tqdm import tqdm\n",
    "from sklearn.metrics import roc_curve, auc,precision_recall_curve\n",
    "\n",
    "import time\n",
    "import math\n",
    "import os\n",
    "import gc\n",
    "from torch.utils.tensorboard import SummaryWriter\n",
    "\n",
    "\n",
    "def seed_torch(seed=2023):\n",
    "\trandom.seed(seed)\n",
    "\tos.environ['PYTHONHASHSEED'] = str(seed) # 为了禁止hash随机化，使得实验可复现\n",
    "\tnp.random.seed(seed)\n",
    "\ttorch.manual_seed(seed)\n",
    "\ttorch.cuda.manual_seed(seed)\n",
    "\ttorch.cuda.manual_seed_all(seed) # if you are using multi-GPU.\n",
    "\ttorch.backends.cudnn.benchmark = False \n",
    "\ttorch.backends.cudnn.deterministic = True\n",
    "    # torch.backends.cudnn.enabled = False\n",
    "    \n",
    "# 获取matplotlib的缓存目录\n",
    "cache_dir = matplotlib.get_cachedir()\n",
    "\n",
    "# 获取字体缓存文件的路径\n",
    "font_cache_path = os.path.join(cache_dir, 'fontlist-v310.json')\n",
    "\n",
    "# 如果字体缓存文件存在，就删除它\n",
    "if os.path.exists(font_cache_path):\n",
    "    os.remove(font_cache_path)\n",
    "plt.rcParams['font.sans-serif'] = ['SimHei'] #或者把\"SimHei\"换为\"KaiTi\"\n",
    "plt.rcParams['axes.unicode_minus'] = False  # 解决保存图像是负号'-'显示为方块的问题\n"
   ]
  },
  {
   "cell_type": "code",
   "execution_count": 2,
   "metadata": {},
   "outputs": [
    {
     "name": "stdout",
     "output_type": "stream",
     "text": [
      "\n",
      "\n",
      "            orginal   removed ages NaN ed \n",
      "   nums      53931           53931        \n",
      "\n",
      "\n",
      "   原始标签       HTN             NHTN        \n",
      "   nums       917            47520        \n",
      "\n",
      "\n",
      "  剔除没有补充诊断的样本      HTN             NHTN        \n",
      "     nums          903            46706        \n",
      "\n",
      "\n",
      "   更新标签       HTN             NHTN        \n",
      "   nums      14136           33473        \n",
      "\n",
      "\n",
      "     剔除除颤          HTN             NHTN        \n",
      "     nums         14123           33472        \n",
      "     剔除起搏          HTN             NHTN        \n",
      "     nums         13956           33363        \n",
      "     剔除房颤          HTN             NHTN        \n",
      "     nums         12449           32056        \n",
      "   剔除左束支传导阻滞       HTN             NHTN        \n",
      "     nums         12346           31981        \n",
      "   剔除左前分支阻滞        HTN             NHTN        \n",
      "     nums         12345           31981        \n",
      "      剔除心          HTN             NHTN        \n",
      "     nums          7033           26628        \n",
      "     剔除瓣膜          HTN             NHTN        \n",
      "     nums          7026           26616        \n",
      "     剔除动脉          HTN             NHTN        \n",
      "     nums          5539           25298        \n",
      "     剔除脉瓣          HTN             NHTN        \n",
      "     nums          5539           25298        \n",
      "     剔除尖瓣          HTN             NHTN        \n",
      "     nums          5506           25213        \n",
      "\n",
      "\n"
     ]
    }
   ],
   "source": [
    "data_root = '/workspace/data/Preprocess_HTN/datas_/'\n",
    "ALL_data = pd.read_csv(data_root+'/All_data_QC.csv',low_memory=False)\n",
    "\n",
    "'''清洗原始数据'''\n",
    "ALL_data = ALL_data[(~ALL_data['住院号'].isnull())] #剔除ID为Nan的数据\n",
    "ALL_data = ALL_data[ALL_data['住院号'].astype(str).map(len)==6] #剔除ALL_data中的ID不为6位数的数据\n",
    "ALL_data = ALL_data[(~ALL_data['Q'].isnull())&(ALL_data['Q']<1)]  #剔除QC为Nan的数据\n",
    "ALL_data = ALL_data[(~ALL_data['性别'].isnull())] #剔除性别为Nan的数据\n",
    "ALL_data = ALL_data[(~ALL_data['年龄'].isnull())] #剔除ID为Nan的数据\n",
    "ALL_data = ECGHandle.change_ages(ALL_data) #处理年龄中的‘岁’ 转为数字型\n",
    "ALL_data = ALL_data[((ALL_data['年龄'].apply(int))>17) ]#选取年龄大于17\n",
    "ALL_data = ALL_data[(ALL_data['申请部门'].str.contains('重症') == False)]#删除重症的\n",
    "\n",
    "ALL_data.loc[(ALL_data['临床诊断'].str.contains('高血压')==True),'label']= 1 # ‘临床诊断’含有高血压的label为1\n",
    "ALL_data.loc[~(ALL_data['label']==1),'label']= 0 #‘临床诊断’不含有高血压的label为0\n",
    "\n",
    "print('\\n')\n",
    "print(\"{:^10} {:^10} {:^20}\".format('原始标签','HTN','NHTN'))\n",
    "print(\"{:^10} {:^10} {:^20}\".format('nums',len(ALL_data[(ALL_data['label']==1)]),len(ALL_data[(ALL_data['label']==0)])))\n",
    "\n",
    "\n",
    "'''将补充诊断中所有诊断都加入临床诊断中,剔除没有补充诊断数据的ID'''\n",
    "Sup_diagnosis = pd.read_csv('补充诊断.csv',low_memory=False)\n",
    "Sup_diagnosis_grouped = Sup_diagnosis.groupby('住院号')['住院所有诊断'].agg(lambda x: ' '.join(map(str, x))).reset_index()\n",
    "#将`ALL_data`和`Sup_diagnosis_grouped`进行了合并，并将'临床诊断'和'住院所有诊断'字段的值合并为一个字符串。\n",
    "ALL_data['住院号'] = ALL_data['住院号'].astype(str)\n",
    "Sup_diagnosis_grouped['住院号'] = Sup_diagnosis_grouped['住院号'].astype(str)\n",
    "ALL_data = ALL_data[ALL_data['住院号'].isin(Sup_diagnosis_grouped['住院号'])]# 剔除ALL_data中没有Sup_diagnosis_grouped的数据\n",
    "print('\\n')\n",
    "print(\"{:^15} {:^10} {:^20}\".format('剔除没有补充诊断的样本','HTN','NHTN'))\n",
    "print(\"{:^15} {:^10} {:^20}\".format('nums',len(ALL_data[(ALL_data['label']==1)]),len(ALL_data[(ALL_data['label']==0)])))\n",
    "merged_data = pd.merge(ALL_data, Sup_diagnosis_grouped[['住院号', '住院所有诊断']], on='住院号', how='left')\n",
    "merged_data['临床诊断'] = merged_data.apply(lambda row: str(row['临床诊断']) + ' ' + str(row['住院所有诊断']), axis=1)\n",
    "merged_data = merged_data.drop('label', axis=1)\n",
    "merged_data = merged_data.drop('住院所有诊断', axis=1)\n",
    "ALL_data = merged_data\n",
    "ALL_data.loc[(ALL_data['临床诊断'].str.contains('高血压')==True),'label']= 1 # ‘临床诊断’含有高血压的label为1\n",
    "ALL_data.loc[~(ALL_data['label']==1),'label']= 0 #‘临床诊断’不含有高血压的label为0\n",
    "\n",
    "print('\\n')\n",
    "print(\"{:^10} {:^10} {:^20}\".format('更新标签','HTN','NHTN'))\n",
    "print(\"{:^10} {:^10} {:^20}\".format('nums',len(ALL_data[(ALL_data['label']==1)]),len(ALL_data[(ALL_data['label']==0)])))\n",
    "print('\\n')\n",
    "\n",
    "'''剔除含有特定诊断的数据'''\n",
    "diagnoses = ['除颤','起搏', '房颤', '左束支传导阻滞', '左前分支阻滞', '心','瓣膜','动脉','脉瓣','尖瓣']\n",
    "for diagnose in diagnoses:\n",
    "    ALL_data = ALL_data[~ALL_data['临床诊断'].str.contains(diagnose)]\n",
    "    print(\"{:^15} {:^10} {:^20}\".format('剔除'+diagnose,'HTN','NHTN'))\n",
    "    print(\"{:^15} {:^10} {:^20}\".format('nums',len(ALL_data[(ALL_data['label']==1)]),len(ALL_data[(ALL_data['label']==0)])))\n",
    "print('\\n')\n",
    "\n",
    "ALL_data = ALL_data.rename(columns={'住院号':'ID','年龄':'age','性别':'gender','姓名':'name'}) \n",
    "ALL_data['gender'].replace({'男': 1, '女': 2}, inplace=True)# Replace '男' with 1 and '女' with 2 in the 'gender' column of df\n",
    "ALL_data['label'] = pd.to_numeric(ALL_data['label'],errors='coerce', downcast='integer') #把label（diagnose）改成数值型\n",
    "ALL_data['age'] = pd.to_numeric(ALL_data['age'],errors='coerce', downcast='integer') #把label（diagnose）改成数值型\n",
    "ALL_data['gender'] = pd.to_numeric(ALL_data['gender'],errors='coerce', downcast='integer') #把label（diagnose）改成数值型"
   ]
  },
  {
   "cell_type": "code",
   "execution_count": 3,
   "metadata": {},
   "outputs": [
    {
     "data": {
      "text/plain": [
       "Index(['Unnamed: 0', 'index', '序号', 'name', 'gender', 'age', '检查时间', '申请部门',\n",
       "       '门诊号', 'ID', '急诊号', '体检号', '医嘱号', '临床诊断', '诊断', '特征', '心率', 'PR', 'RR',\n",
       "       'QRS', 'QT', 'QTc', '电轴', 'RV5', 'RV6', 'SV1', 'RS', '心律', '室率', '房率',\n",
       "       'P时限', 'ECG-心率', 'ECG-电轴', 'ECG-P时限', 'ECG-P-R', 'ECG-QRS', 'ECG-QT',\n",
       "       'ECG-QTc', 'ECG-RV5', 'ECG-SV1', 'ECG-R+S', '急诊号_1', '出生日期', 'year',\n",
       "       'ECGFilename', 'xmlPath', 'Q', 'label'],\n",
       "      dtype='object')"
      ]
     },
     "execution_count": 3,
     "metadata": {},
     "output_type": "execute_result"
    }
   ],
   "source": [
    "ALL_data.columns"
   ]
  },
  {
   "cell_type": "code",
   "execution_count": 4,
   "metadata": {},
   "outputs": [
    {
     "name": "stdout",
     "output_type": "stream",
     "text": [
      "\n",
      "\n",
      "   年份18       HTN             NHTN        \n",
      "   nums        23              35         \n",
      "\n",
      "\n",
      "   年份19       HTN             NHTN        \n",
      "   nums       242             2348        \n",
      "\n",
      "\n",
      "   年份20       HTN             NHTN        \n",
      "   nums       2917           12835        \n",
      "\n",
      "\n",
      "   年份21       HTN             NHTN        \n",
      "   nums       1883            7900        \n",
      "\n",
      "\n",
      "   年份22       HTN             NHTN        \n",
      "   nums       441             2095        \n"
     ]
    }
   ],
   "source": [
    "for year in ALL_data['year'].unique():\n",
    "    print('\\n')\n",
    "    print(\"{:^10} {:^10} {:^20}\".format('年份'+str(year),'HTN','NHTN'))\n",
    "    print(\"{:^10} {:^10} {:^20}\".format('nums',len(ALL_data[(ALL_data['year']==year) &(ALL_data['label']==1)]),len(ALL_data[(ALL_data['year']==year)&(ALL_data['label']==0)])))"
   ]
  },
  {
   "cell_type": "code",
   "execution_count": 5,
   "metadata": {},
   "outputs": [
    {
     "data": {
      "text/plain": [
       "<AxesSubplot:>"
      ]
     },
     "execution_count": 5,
     "metadata": {},
     "output_type": "execute_result"
    },
    {
     "name": "stderr",
     "output_type": "stream",
     "text": [
      "findfont: Font family ['sans-serif'] not found. Falling back to DejaVu Sans.\n",
      "findfont: Generic family 'sans-serif' not found because none of the following families were found: SimHei\n"
     ]
    },
    {
     "data": {
      "image/png": "[encoded data removed]",
      "text/plain": [
       "<Figure size 640x480 with 1 Axes>"
      ]
     },
     "metadata": {},
     "output_type": "display_data"
    }
   ],
   "source": [
    "ALL_data['age'].hist(bins=100,label='年龄')"
   ]
  },
  {
   "cell_type": "code",
   "execution_count": 6,
   "metadata": {},
   "outputs": [
    {
     "data": {
      "text/plain": [
       "<AxesSubplot:>"
      ]
     },
     "execution_count": 6,
     "metadata": {},
     "output_type": "execute_result"
    },
    {
     "data": {
      "image/png": "[encoded data removed]",
      "text/plain": [
       "<Figure size 640x480 with 1 Axes>"
      ]
     },
     "metadata": {},
     "output_type": "display_data"
    }
   ],
   "source": [
    "ALL_data['Q'].hist(bins=15)"
   ]
  },
  {
   "cell_type": "code",
   "execution_count": 7,
   "metadata": {},
   "outputs": [
    {
     "data": {
      "text/plain": [
       "<AxesSubplot:>"
      ]
     },
     "execution_count": 7,
     "metadata": {},
     "output_type": "execute_result"
    },
    {
     "data": {
      "image/png": "[encoded data removed]",
      "text/plain": [
       "<Figure size 640x480 with 1 Axes>"
      ]
     },
     "metadata": {},
     "output_type": "display_data"
    }
   ],
   "source": [
    "ALL_data['year'].hist(bins=30)"
   ]
  },
  {
   "cell_type": "code",
   "execution_count": 8,
   "metadata": {},
   "outputs": [],
   "source": [
    "def is_not_digit(n):\n",
    "    return not n.isdigit()\n",
    "mask = ALL_data['ID'].map(is_not_digit)\n",
    "filtered_data = ALL_data[mask]"
   ]
  },
  {
   "cell_type": "code",
   "execution_count": 9,
   "metadata": {},
   "outputs": [
    {
     "data": {
      "text/plain": [
       "Series([], Name: ID, dtype: object)"
      ]
     },
     "execution_count": 9,
     "metadata": {},
     "output_type": "execute_result"
    }
   ],
   "source": [
    "filtered_data['ID']"
   ]
  }
 ],
 "metadata": {
  "kernelspec": {
   "display_name": "base",
   "language": "python",
   "name": "python3"
  },
  "language_info": {
   "codemirror_mode": {
    "name": "ipython",
    "version": 3
   },
   "file_extension": ".py",
   "mimetype": "text/x-python",
   "name": "python",
   "nbconvert_exporter": "python",
   "pygments_lexer": "ipython3",
   "version": "3.7.16"
  },
  "orig_nbformat": 4,
  "vscode": {
   "interpreter": {
    "hash": "d4d1e4263499bec80672ea0156c357c1ee493ec2b1c70f0acce89fc37c4a6abe"
   }
  }
 },
 "nbformat": 4,
 "nbformat_minor": 2
}
