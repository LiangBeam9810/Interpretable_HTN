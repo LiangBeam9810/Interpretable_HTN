{
 "cells": [
  {
   "cell_type": "code",
   "execution_count": 10,
   "metadata": {},
   "outputs": [],
   "source": [
    "import ECGDataset \n",
    "import Models \n",
    "import Net\n",
    "from train_test_validat import *\n",
    "from self_attention import *\n",
    "import matplotlib.pyplot as plt\n",
    "import ecg_plot\n",
    "import cam\n",
    "import ECGplot\n",
    "import ECGHandle\n",
    "import torch\n",
    "import torch.utils.data as Data\n",
    "from sklearn.metrics import confusion_matrix, ConfusionMatrixDisplay\n",
    "from sklearn.model_selection import StratifiedKFold\n",
    "import random\n",
    "import pandas as pd\n",
    "from tqdm import tqdm\n",
    "\n",
    "import time\n",
    "import math\n",
    "import os\n",
    "import gc\n",
    "from torch.utils.tensorboard import SummaryWriter\n",
    "\n",
    "\n",
    "def seed_torch(seed=2023):\n",
    "\trandom.seed(seed)\n",
    "\tos.environ['PYTHONHASHSEED'] = str(seed) # 为了禁止hash随机化，使得实验可复现\n",
    "\tnp.random.seed(seed)\n",
    "\ttorch.manual_seed(seed)\n",
    "\ttorch.cuda.manual_seed(seed)\n",
    "\ttorch.cuda.manual_seed_all(seed) # if you are using multi-GPU.\n",
    "\ttorch.backends.cudnn.benchmark = False \n",
    "\ttorch.backends.cudnn.deterministic = True\n",
    "    # torch.backends.cudnn.enabled = False"
   ]
  },
  {
   "cell_type": "code",
   "execution_count": 11,
   "metadata": {},
   "outputs": [],
   "source": [
    "EcgChannles_num = 12\n",
    "EcgLength_num = 5000\n",
    "DEVICE = \"cpu\"\n",
    "seed_torch(2023)"
   ]
  },
  {
   "cell_type": "code",
   "execution_count": 12,
   "metadata": {},
   "outputs": [
    {
     "name": "stdout",
     "output_type": "stream",
     "text": [
      "\n",
      "\n",
      "            orginal   removed diagnose NaN\n",
      "   nums      200082          199997       \n",
      "              HTN             NHTN        \n",
      "   nums       3273           196724       \n",
      "\n",
      "\n",
      "            orginal      removed ID NaN   \n",
      "   nums      199997          199995       \n",
      "              HTN             NHTN        \n",
      "   nums       3273           196722       \n",
      "\n",
      "\n",
      "            orginal   filtered department \n",
      "   nums      199995          45571        \n",
      "              HTN             NHTN        \n",
      "   nums       3273           42298        \n",
      "\n",
      "\n",
      "            orginal      filtered ages    \n",
      "   nums      45571           43570        \n",
      "              HTN             NHTN        \n",
      "   nums       3220           40350        \n"
     ]
    }
   ],
   "source": [
    "data_root = '/workspace/data/Preprocess_HTN/datas_/'\n",
    "ALL_data = pd.read_csv(data_root+'/All_data_handled_ID_range_age_IDimputate.csv',low_memory=False)\n",
    "ALL_data = ECGHandle.change_label(ALL_data)\n",
    "ALL_data = ECGHandle.filter_ID(ALL_data)\n",
    "ALL_data = ECGHandle.filter_departmentORlabel(ALL_data,'外科')\n",
    "ALL_data = ECGHandle.filter_ages(ALL_data,18) \n"
   ]
  },
  {
   "cell_type": "code",
   "execution_count": 13,
   "metadata": {},
   "outputs": [
    {
     "name": "stdout",
     "output_type": "stream",
     "text": [
      "\n",
      "\n",
      "            orginal            QC         \n",
      "   nums      43570           15344        \n",
      "              HTN             NHTN        \n",
      "   nums       1477           13867        \n",
      "\n",
      "\n",
      "     reset num:       10  \n",
      "  ERR labels num:     27  \n",
      "            orginal      correct label    \n",
      "   nums      15344           15344        \n",
      "              HTN             NHTN        \n",
      "   nums       1513           13831        \n",
      "\n",
      "\n",
      "   ERR ages num:      831 \n",
      "            orginal       correct age     \n",
      "   nums      15344           15344        \n",
      "              HTN             NHTN        \n",
      "   nums       1513           13831        \n",
      "\n",
      "\n",
      "            orginal    remove diagnose起搏  \n",
      "   nums      15344           15278        \n",
      "              HTN             NHTN        \n",
      "   nums       1494           13784        \n",
      "           remove HTN     remove NHTN     \n",
      "   nums        19              47         \n",
      "\n",
      "\n",
      "            orginal    remove diagnose房颤  \n",
      "   nums      15278           14747        \n",
      "              HTN             NHTN        \n",
      "   nums       1432           13315        \n",
      "           remove HTN     remove NHTN     \n",
      "   nums        62             469         \n",
      "\n",
      "\n",
      "            orginal   remove diagnose左束支传导阻滞\n",
      "   nums      14747           14747        \n",
      "              HTN             NHTN        \n",
      "   nums       1432           13315        \n",
      "           remove HTN     remove NHTN     \n",
      "   nums        0               0          \n",
      "\n",
      "\n",
      "            orginal   remove diagnose左前分支阻滞\n",
      "   nums      14747           14598        \n",
      "              HTN             NHTN        \n",
      "   nums       1419           13179        \n",
      "           remove HTN     remove NHTN     \n",
      "   nums        13             136         \n"
     ]
    }
   ],
   "source": [
    "ALL_data = ECGHandle.filter_QC(ALL_data)\n",
    "ALL_data = ECGHandle.correct_label(ALL_data)\n",
    "ALL_data = ECGHandle.correct_age(ALL_data)\n",
    "ALL_data = ECGHandle.filter_diagnose(ALL_data,'起搏')\n",
    "ALL_data = ECGHandle.filter_diagnose(ALL_data,'房颤')\n",
    "ALL_data = ECGHandle.filter_diagnose(ALL_data,'左束支传导阻滞')\n",
    "ALL_data = ECGHandle.filter_diagnose(ALL_data,'左前分支阻滞')"
   ]
  },
  {
   "cell_type": "code",
   "execution_count": 14,
   "metadata": {},
   "outputs": [
    {
     "data": {
      "text/plain": [
       "11254"
      ]
     },
     "execution_count": 14,
     "metadata": {},
     "output_type": "execute_result"
    }
   ],
   "source": [
    "ALL_data[ALL_data['label'] == 0]['住院号'].unique().__len__()"
   ]
  },
  {
   "cell_type": "code",
   "execution_count": 15,
   "metadata": {},
   "outputs": [],
   "source": [
    "ALL_data = ALL_data.rename(columns={'住院号':'ID','年龄':'age','性别':'gender','姓名':'name'}) \n",
    "ALL_data_buffer = ALL_data.copy()\n",
    "seed_torch(2023)\n",
    "ALL_data_buffer = ALL_data_buffer.sample(frac=1).reset_index(drop=True) #打乱顺序\n",
    "# all_dataset = ECGHandle.ECG_Dataset(data_root,ALL_data_buffer,preprocess = True)\n",
    "####################################################################随机选取test\n",
    "test_df,tv_df = Pair_ID(ALL_data,0.2,Range_max=15,pair_num=1)\n",
    "test_dataset = ECGHandle.ECG_Dataset(data_root,test_df,preprocess = True)"
   ]
  },
  {
   "cell_type": "code",
   "execution_count": 25,
   "metadata": {},
   "outputs": [
    {
     "data": {
      "text/plain": [
       "tensor(1.0000)"
      ]
     },
     "execution_count": 25,
     "metadata": {},
     "output_type": "execute_result"
    }
   ],
   "source": [
    "test_dataset.datas[:,0].std()"
   ]
  },
  {
   "cell_type": "code",
   "execution_count": 26,
   "metadata": {},
   "outputs": [
    {
     "data": {
      "text/plain": [
       "tensor(1.2801e-09)"
      ]
     },
     "execution_count": 26,
     "metadata": {},
     "output_type": "execute_result"
    }
   ],
   "source": [
    "test_dataset.datas[:,0].mean()"
   ]
  },
  {
   "cell_type": "code",
   "execution_count": 8,
   "metadata": {},
   "outputs": [],
   "source": [
    "FOLDS = 5\n",
    "seed_torch(2022)\n",
    "tv_df = tv_df.sample(frac=1).reset_index(drop=True) #打乱顺序"
   ]
  },
  {
   "cell_type": "code",
   "execution_count": 9,
   "metadata": {},
   "outputs": [
    {
     "name": "stdout",
     "output_type": "stream",
     "text": [
      "Fold 0 of 5 :\n",
      "lead: 0\n",
      "test:{} tensor(1.0000) tensor(1.2801e-09)\n",
      "train:{} tensor(1.) tensor(-3.1651e-09)\n",
      "validat:{} tensor(1.0000) tensor(-1.8780e-09)\n",
      "lead: 1\n",
      "test:{} tensor(1.0000) tensor(-5.1206e-09)\n",
      "train:{} tensor(1.0000) tensor(2.5320e-09)\n",
      "validat:{} tensor(1.0000) tensor(1.9768e-09)\n",
      "lead: 2\n",
      "test:{} tensor(1.0000) tensor(-5.8521e-09)\n",
      "train:{} tensor(1.) tensor(6.9056e-10)\n",
      "validat:{} tensor(1.0000) tensor(-6.7213e-09)\n",
      "lead: 3\n",
      "test:{} tensor(1.0000) tensor(1.4630e-09)\n",
      "train:{} tensor(1.) tensor(3.1075e-09)\n",
      "validat:{} tensor(1.0000) tensor(1.9768e-09)\n",
      "lead: 4\n",
      "test:{} tensor(1.0000) tensor(7.3151e-10)\n",
      "train:{} tensor(1.) tensor(-2.3019e-09)\n",
      "validat:{} tensor(1.0000) tensor(1.7792e-09)\n",
      "lead: 5\n",
      "test:{} tensor(1.0000) tensor(0.)\n",
      "train:{} tensor(1.) tensor(4.8339e-09)\n",
      "validat:{} tensor(1.0000) tensor(9.8842e-10)\n",
      "lead: 6\n",
      "test:{} tensor(1.0000) tensor(6.4007e-10)\n",
      "train:{} tensor(1.0000) tensor(4.1433e-09)\n",
      "validat:{} tensor(1.0000) tensor(-2.6687e-09)\n",
      "lead: 7\n",
      "test:{} tensor(1.0000) tensor(-2.7432e-10)\n",
      "train:{} tensor(1.) tensor(-1.8415e-09)\n",
      "validat:{} tensor(1.0000) tensor(0.)\n",
      "lead: 8\n",
      "test:{} tensor(1.0000) tensor(3.6575e-09)\n",
      "train:{} tensor(1.0000) tensor(2.4169e-09)\n",
      "validat:{} tensor(1.0000) tensor(-1.9768e-10)\n",
      "lead: 9\n",
      "test:{} tensor(1.0000) tensor(3.6575e-10)\n",
      "train:{} tensor(1.0000) tensor(-2.5320e-09)\n",
      "validat:{} tensor(1.0000) tensor(-3.2124e-10)\n",
      "lead: 10\n",
      "test:{} tensor(1.0000) tensor(-7.3151e-10)\n",
      "train:{} tensor(1.0000) tensor(1.7408e-09)\n",
      "validat:{} tensor(1.0000) tensor(-1.7792e-09)\n",
      "lead: 11\n",
      "test:{} tensor(1.0000) tensor(1.8288e-09)\n",
      "train:{} tensor(1.) tensor(3.6830e-09)\n",
      "validat:{} tensor(1.0000) tensor(5.9305e-10)\n",
      "Fold 1 of 5 :\n",
      "lead: 0\n",
      "test:{} tensor(1.0000) tensor(1.2801e-09)\n",
      "train:{} tensor(1.) tensor(-1.0985e-09)\n",
      "validat:{} tensor(1.0000) tensor(-8.6231e-10)\n",
      "lead: 1\n",
      "test:{} tensor(1.0000) tensor(-5.1206e-09)\n",
      "train:{} tensor(1.) tensor(-1.5379e-09)\n",
      "validat:{} tensor(1.0000) tensor(6.4673e-10)\n",
      "lead: 2\n",
      "test:{} tensor(1.0000) tensor(-5.8521e-09)\n",
      "train:{} tensor(1.) tensor(1.7576e-09)\n",
      "validat:{} tensor(1.0000) tensor(5.1738e-09)\n",
      "lead: 3\n",
      "test:{} tensor(1.0000) tensor(1.4630e-09)\n",
      "train:{} tensor(1.) tensor(-1.3182e-09)\n",
      "validat:{} tensor(1.0000) tensor(0.)\n",
      "lead: 4\n",
      "test:{} tensor(1.0000) tensor(7.3151e-10)\n",
      "train:{} tensor(1.) tensor(1.5379e-09)\n",
      "validat:{} tensor(1.0000) tensor(-3.4492e-09)\n",
      "lead: 5\n",
      "test:{} tensor(1.0000) tensor(0.)\n",
      "train:{} tensor(1.0000) tensor(-1.5379e-09)\n",
      "validat:{} tensor(1.0000) tensor(-6.2787e-09)\n",
      "lead: 6\n",
      "test:{} tensor(1.0000) tensor(6.4007e-10)\n",
      "train:{} tensor(1.) tensor(-9.2274e-09)\n",
      "validat:{} tensor(1.0000) tensor(-2.5869e-09)\n",
      "lead: 7\n",
      "test:{} tensor(1.0000) tensor(-2.7432e-10)\n",
      "train:{} tensor(1.) tensor(2.1970e-10)\n",
      "validat:{} tensor(1.0000) tensor(0.)\n",
      "lead: 8\n",
      "test:{} tensor(1.0000) tensor(3.6575e-09)\n",
      "train:{} tensor(1.) tensor(-6.5910e-10)\n",
      "validat:{} tensor(1.0000) tensor(-8.6231e-10)\n",
      "lead: 9\n",
      "test:{} tensor(1.0000) tensor(3.6575e-10)\n",
      "train:{} tensor(1.) tensor(1.3182e-09)\n",
      "validat:{} tensor(1.0000) tensor(-4.3115e-10)\n",
      "lead: 10\n",
      "test:{} tensor(1.0000) tensor(-7.3151e-10)\n",
      "train:{} tensor(1.) tensor(-1.2083e-09)\n",
      "validat:{} tensor(1.0000) tensor(0.)\n",
      "lead: 11\n",
      "test:{} tensor(1.0000) tensor(1.8288e-09)\n",
      "train:{} tensor(1.) tensor(-3.2955e-10)\n",
      "validat:{} tensor(1.0000) tensor(1.3366e-08)\n",
      "Fold 2 of 5 :\n",
      "lead: 0\n",
      "test:{} tensor(1.0000) tensor(1.2801e-09)\n",
      "train:{} tensor(1.0000) tensor(1.1016e-09)\n",
      "validat:{} tensor(1.0000) tensor(-2.2144e-09)\n",
      "lead: 1\n",
      "test:{} tensor(1.0000) tensor(-5.1206e-09)\n",
      "train:{} tensor(1.) tensor(2.6438e-09)\n",
      "validat:{} tensor(1.0000) tensor(-3.1002e-09)\n",
      "lead: 2\n",
      "test:{} tensor(1.0000) tensor(-5.8521e-09)\n",
      "train:{} tensor(1.) tensor(3.0845e-09)\n",
      "validat:{} tensor(1.0000) tensor(3.1002e-09)\n",
      "lead: 3\n",
      "test:{} tensor(1.0000) tensor(1.4630e-09)\n",
      "train:{} tensor(1.) tensor(1.1016e-09)\n",
      "validat:{} tensor(1.0000) tensor(2.6573e-09)\n",
      "lead: 4\n",
      "test:{} tensor(1.0000) tensor(7.3151e-10)\n",
      "train:{} tensor(1.) tensor(-6.5545e-09)\n",
      "validat:{} tensor(1.0000) tensor(1.8269e-09)\n",
      "lead: 5\n",
      "test:{} tensor(1.0000) tensor(0.)\n",
      "train:{} tensor(1.) tensor(3.0845e-09)\n",
      "validat:{} tensor(1.0000) tensor(-1.3287e-09)\n",
      "lead: 6\n",
      "test:{} tensor(1.0000) tensor(6.4007e-10)\n",
      "train:{} tensor(1.) tensor(2.2032e-09)\n",
      "validat:{} tensor(1.0000) tensor(4.4289e-10)\n",
      "lead: 7\n",
      "test:{} tensor(1.0000) tensor(-2.7432e-10)\n",
      "train:{} tensor(1.) tensor(-1.5422e-09)\n",
      "validat:{} tensor(1.0000) tensor(6.6433e-10)\n",
      "lead: 8\n",
      "test:{} tensor(1.0000) tensor(3.6575e-09)\n",
      "train:{} tensor(1.) tensor(2.8641e-09)\n",
      "validat:{} tensor(1.0000) tensor(4.4289e-10)\n",
      "lead: 9\n",
      "test:{} tensor(1.0000) tensor(3.6575e-10)\n",
      "train:{} tensor(1.) tensor(-7.7112e-10)\n",
      "validat:{} tensor(1.0000) tensor(4.0967e-09)\n",
      "lead: 10\n",
      "test:{} tensor(1.0000) tensor(-7.3151e-10)\n",
      "train:{} tensor(1.) tensor(5.1637e-09)\n",
      "validat:{} tensor(1.0000) tensor(-6.6433e-10)\n",
      "lead: 11\n",
      "test:{} tensor(1.0000) tensor(1.8288e-09)\n",
      "train:{} tensor(1.) tensor(-1.8727e-09)\n",
      "validat:{} tensor(1.0000) tensor(1.4394e-09)\n",
      "Fold 3 of 5 :\n",
      "lead: 0\n",
      "test:{} tensor(1.0000) tensor(1.2801e-09)\n",
      "train:{} tensor(1.) tensor(-5.3954e-10)\n",
      "validat:{} tensor(1.0000) tensor(1.6592e-09)\n",
      "lead: 1\n",
      "test:{} tensor(1.0000) tensor(-5.1206e-09)\n",
      "train:{} tensor(1.) tensor(1.0791e-09)\n",
      "validat:{} tensor(1.0000) tensor(-4.7406e-09)\n",
      "lead: 2\n",
      "test:{} tensor(1.0000) tensor(-5.8521e-09)\n",
      "train:{} tensor(1.) tensor(1.4028e-09)\n",
      "validat:{} tensor(1.0000) tensor(-9.4812e-10)\n",
      "lead: 3\n",
      "test:{} tensor(1.0000) tensor(1.4630e-09)\n",
      "train:{} tensor(1.) tensor(-4.3163e-10)\n",
      "validat:{} tensor(1.0000) tensor(-5.9257e-10)\n",
      "lead: 4\n",
      "test:{} tensor(1.0000) tensor(7.3151e-10)\n",
      "train:{} tensor(1.) tensor(-7.0140e-10)\n",
      "validat:{} tensor(1.0000) tensor(3.7925e-09)\n",
      "lead: 5\n",
      "test:{} tensor(1.0000) tensor(0.)\n",
      "train:{} tensor(1.) tensor(-1.7265e-09)\n",
      "validat:{} tensor(1.0000) tensor(0.)\n",
      "lead: 6\n",
      "test:{} tensor(1.0000) tensor(6.4007e-10)\n",
      "train:{} tensor(1.) tensor(8.6326e-10)\n",
      "validat:{} tensor(1.0000) tensor(-1.7185e-09)\n",
      "lead: 7\n",
      "test:{} tensor(1.0000) tensor(-2.7432e-10)\n",
      "train:{} tensor(1.) tensor(-5.6112e-09)\n",
      "validat:{} tensor(1.0000) tensor(2.3703e-10)\n",
      "lead: 8\n",
      "test:{} tensor(1.0000) tensor(3.6575e-09)\n",
      "train:{} tensor(1.) tensor(9.7117e-10)\n",
      "validat:{} tensor(1.0000) tensor(1.1851e-10)\n",
      "lead: 9\n",
      "test:{} tensor(1.0000) tensor(3.6575e-10)\n",
      "train:{} tensor(1.) tensor(1.8884e-10)\n",
      "validat:{} tensor(1.0000) tensor(1.4222e-09)\n",
      "lead: 10\n",
      "test:{} tensor(1.0000) tensor(-7.3151e-10)\n",
      "train:{} tensor(1.) tensor(8.6326e-10)\n",
      "validat:{} tensor(1.0000) tensor(-2.9629e-10)\n",
      "lead: 11\n",
      "test:{} tensor(1.0000) tensor(1.8288e-09)\n",
      "train:{} tensor(1.) tensor(-3.2372e-09)\n",
      "validat:{} tensor(1.0000) tensor(1.7777e-09)\n",
      "Fold 4 of 5 :\n",
      "lead: 0\n",
      "test:{} tensor(1.0000) tensor(1.2801e-09)\n",
      "train:{} tensor(1.) tensor(-2.1738e-09)\n",
      "validat:{} tensor(1.0000) tensor(1.9778e-09)\n",
      "lead: 1\n",
      "test:{} tensor(1.0000) tensor(-5.1206e-09)\n",
      "train:{} tensor(1.) tensor(-3.1520e-09)\n",
      "validat:{} tensor(1.0000) tensor(1.9778e-09)\n",
      "lead: 2\n",
      "test:{} tensor(1.0000) tensor(-5.8521e-09)\n",
      "train:{} tensor(1.) tensor(1.7390e-09)\n",
      "validat:{} tensor(1.0000) tensor(2.7195e-09)\n",
      "lead: 3\n",
      "test:{} tensor(1.0000) tensor(1.4630e-09)\n",
      "train:{} tensor(1.) tensor(-1.3043e-09)\n",
      "validat:{} tensor(1.0000) tensor(1.9778e-09)\n",
      "lead: 4\n",
      "test:{} tensor(1.0000) tensor(7.3151e-10)\n",
      "train:{} tensor(1.) tensor(-1.7390e-09)\n",
      "validat:{} tensor(1.0000) tensor(2.9668e-09)\n",
      "lead: 5\n",
      "test:{} tensor(1.0000) tensor(0.)\n",
      "train:{} tensor(1.) tensor(-2.1738e-09)\n",
      "validat:{} tensor(1.0000) tensor(1.9778e-09)\n",
      "lead: 6\n",
      "test:{} tensor(1.0000) tensor(6.4007e-10)\n",
      "train:{} tensor(1.) tensor(-8.6950e-10)\n",
      "validat:{} tensor(1.0000) tensor(-4.9446e-10)\n",
      "lead: 7\n",
      "test:{} tensor(1.0000) tensor(-2.7432e-10)\n",
      "train:{} tensor(1.) tensor(-1.0869e-09)\n",
      "validat:{} tensor(1.0000) tensor(4.9446e-10)\n",
      "lead: 8\n",
      "test:{} tensor(1.0000) tensor(3.6575e-09)\n",
      "train:{} tensor(1.) tensor(-2.7172e-09)\n",
      "validat:{} tensor(1.0000) tensor(2.8432e-09)\n",
      "lead: 9\n",
      "test:{} tensor(1.0000) tensor(3.6575e-10)\n",
      "train:{} tensor(1.) tensor(-4.3475e-10)\n",
      "validat:{} tensor(1.0000) tensor(1.2362e-09)\n",
      "lead: 10\n",
      "test:{} tensor(1.0000) tensor(-7.3151e-10)\n",
      "train:{} tensor(1.) tensor(1.7934e-09)\n",
      "validat:{} tensor(1.0000) tensor(-7.4169e-10)\n",
      "lead: 11\n",
      "test:{} tensor(1.0000) tensor(1.8288e-09)\n",
      "train:{} tensor(1.) tensor(3.4780e-09)\n",
      "validat:{} tensor(1.0000) tensor(-1.7306e-09)\n"
     ]
    }
   ],
   "source": [
    "for fold in range(FOLDS):\n",
    "    print(\"Fold \"+str(fold)+\" of \"+str(FOLDS) + ' :')\n",
    "    tv_df_buffer = tv_df.copy()\n",
    "    HTN_tv_df = tv_df[(tv_df['label']==1) ].copy()\n",
    "    NHTN_tv_df = tv_df[(tv_df['label']==0) ].copy()\n",
    "    HTN_ID_tv_list = HTN_tv_df['ID'].unique().tolist() #tvset中所有的HTN的ID号\n",
    "    HTN_tv_size = HTN_tv_df['ID'].unique().__len__()\n",
    "    HTN_validate_size = int(HTN_tv_size//FOLDS)\n",
    "    validate_start_index = HTN_validate_size*fold #star index for validate\n",
    "    validate_df,tarin_df = Pair_ID(tv_df_buffer,0.2,star_index=validate_start_index,Range_max=15,pair_num=1)\n",
    "    validate_dataset = ECGHandle.ECG_Dataset(data_root,validate_df,preprocess = True)\n",
    "    \n",
    "    train_pair_df,_ = Pair_ID(tarin_df,1,star_index=0,Range_max=15,pair_num=1,shuffle=True)\n",
    "    train_dataset = ECGHandle.ECG_Dataset(data_root,train_pair_df ,preprocess = True)\n",
    "    for i in range(12):\n",
    "        print('lead:' ,i)\n",
    "        print('test:{}',test_dataset.datas[:,i,:].std(),test_dataset.datas[:,i,:].mean())\n",
    "        print('train:{}',train_dataset.datas[:,i,:].std(),train_dataset.datas[:,i,:].mean())\n",
    "        print('validat:{}',validate_dataset.datas[:,i,:].std(),validate_dataset.datas[:,i,:].mean())"
   ]
  },
  {
   "cell_type": "code",
   "execution_count": 34,
   "metadata": {},
   "outputs": [
    {
     "data": {
      "text/plain": [
       "263"
      ]
     },
     "execution_count": 34,
     "metadata": {},
     "output_type": "execute_result"
    }
   ],
   "source": [
    "test_df[test_df['label'] == 0]['ID'].__len__()"
   ]
  },
  {
   "cell_type": "code",
   "execution_count": 37,
   "metadata": {},
   "outputs": [
    {
     "data": {
      "text/plain": [
       "12916"
      ]
     },
     "execution_count": 37,
     "metadata": {},
     "output_type": "execute_result"
    }
   ],
   "source": [
    "tv_df[tv_df['label'] == 0]['ID'].__len__()"
   ]
  },
  {
   "cell_type": "code",
   "execution_count": null,
   "metadata": {},
   "outputs": [],
   "source": []
  }
 ],
 "metadata": {
  "kernelspec": {
   "display_name": "base",
   "language": "python",
   "name": "python3"
  },
  "language_info": {
   "codemirror_mode": {
    "name": "ipython",
    "version": 3
   },
   "file_extension": ".py",
   "mimetype": "text/x-python",
   "name": "python",
   "nbconvert_exporter": "python",
   "pygments_lexer": "ipython3",
   "version": "3.7.13"
  },
  "orig_nbformat": 4,
  "vscode": {
   "interpreter": {
    "hash": "d4d1e4263499bec80672ea0156c357c1ee493ec2b1c70f0acce89fc37c4a6abe"
   }
  }
 },
 "nbformat": 4,
 "nbformat_minor": 2
}
