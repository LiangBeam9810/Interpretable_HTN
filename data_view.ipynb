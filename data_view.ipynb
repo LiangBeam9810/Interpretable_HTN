{
 "cells": [
  {
   "cell_type": "code",
   "execution_count": 1,
   "metadata": {},
   "outputs": [],
   "source": [
    "import ECGDataset \n",
    "import Models \n",
    "import Net\n",
    "from train_test_validat import *\n",
    "from self_attention import *\n",
    "import matplotlib.pyplot as plt\n",
    "import ecg_plot\n",
    "import cam\n",
    "import ECGplot\n",
    "import ECGHandle\n",
    "import torch\n",
    "import torch.utils.data as Data\n",
    "from sklearn.metrics import confusion_matrix, ConfusionMatrixDisplay\n",
    "from sklearn.model_selection import StratifiedKFold\n",
    "import random\n",
    "import pandas as pd\n",
    "from tqdm import tqdm\n",
    "\n",
    "import time\n",
    "import math\n",
    "import os\n",
    "import gc\n",
    "from torch.utils.tensorboard import SummaryWriter\n",
    "\n",
    "\n",
    "def seed_torch(seed=2023):\n",
    "\trandom.seed(seed)\n",
    "\tos.environ['PYTHONHASHSEED'] = str(seed) # 为了禁止hash随机化，使得实验可复现\n",
    "\tnp.random.seed(seed)\n",
    "\ttorch.manual_seed(seed)\n",
    "\ttorch.cuda.manual_seed(seed)\n",
    "\ttorch.cuda.manual_seed_all(seed) # if you are using multi-GPU.\n",
    "\ttorch.backends.cudnn.benchmark = False \n",
    "\ttorch.backends.cudnn.deterministic = True\n",
    "    # torch.backends.cudnn.enabled = False"
   ]
  },
  {
   "cell_type": "code",
   "execution_count": 2,
   "metadata": {},
   "outputs": [],
   "source": [
    "EcgChannles_num = 12\n",
    "EcgLength_num = 5000\n",
    "DEVICE = \"cpu\"\n",
    "seed_torch(2023)"
   ]
  },
  {
   "cell_type": "code",
   "execution_count": 3,
   "metadata": {},
   "outputs": [
    {
     "name": "stdout",
     "output_type": "stream",
     "text": [
      "\n",
      "\n",
      "            orginal   removed diagnose NaN\n",
      "   nums      200082          199997       \n",
      "              HTN             NHTN        \n",
      "   nums       3273           196724       \n",
      "\n",
      "\n",
      "            orginal      removed ID NaN   \n",
      "   nums      199997          199995       \n",
      "              HTN             NHTN        \n",
      "   nums       3273           196722       \n",
      "\n",
      "\n",
      "            orginal   filtered department \n",
      "   nums      199995          45571        \n",
      "              HTN             NHTN        \n",
      "   nums       3273           42298        \n",
      "\n",
      "\n",
      "            orginal      filtered ages    \n",
      "   nums      45571           43570        \n",
      "              HTN             NHTN        \n",
      "   nums       3220           40350        \n"
     ]
    }
   ],
   "source": [
    "data_root = '/workspace/data/Preprocess_HTN/datas_/'\n",
    "ALL_data = pd.read_csv(data_root+'/All_data_handled_ID_range_age_IDimputate.csv',low_memory=False)\n",
    "ALL_data = ECGHandle.change_label(ALL_data)\n",
    "ALL_data = ECGHandle.filter_ID(ALL_data)\n",
    "ALL_data = ECGHandle.filter_departmentORlabel(ALL_data,'外科')\n",
    "ALL_data = ECGHandle.filter_ages(ALL_data,18) \n"
   ]
  },
  {
   "cell_type": "code",
   "execution_count": 4,
   "metadata": {},
   "outputs": [
    {
     "name": "stdout",
     "output_type": "stream",
     "text": [
      "\n",
      "\n",
      "            orginal            QC         \n",
      "   nums      43570           15344        \n",
      "              HTN             NHTN        \n",
      "   nums       1477           13867        \n",
      "\n",
      "\n",
      "     reset num:       10  \n",
      "  ERR labels num:     27  \n",
      "            orginal      correct label    \n",
      "   nums      15344           15344        \n",
      "              HTN             NHTN        \n",
      "   nums       1513           13831        \n",
      "\n",
      "\n",
      "   ERR ages num:      831 \n",
      "            orginal       correct age     \n",
      "   nums      15344           15344        \n",
      "              HTN             NHTN        \n",
      "   nums       1513           13831        \n",
      "\n",
      "\n",
      "            orginal    remove diagnose起搏  \n",
      "   nums      15344           15278        \n",
      "              HTN             NHTN        \n",
      "   nums       1494           13784        \n",
      "           remove HTN     remove NHTN     \n",
      "   nums        19              47         \n",
      "\n",
      "\n",
      "            orginal    remove diagnose房颤  \n",
      "   nums      15278           14747        \n",
      "              HTN             NHTN        \n",
      "   nums       1432           13315        \n",
      "           remove HTN     remove NHTN     \n",
      "   nums        62             469         \n",
      "\n",
      "\n",
      "            orginal   remove diagnose左束支传导阻滞\n",
      "   nums      14747           14747        \n",
      "              HTN             NHTN        \n",
      "   nums       1432           13315        \n",
      "           remove HTN     remove NHTN     \n",
      "   nums        0               0          \n",
      "\n",
      "\n",
      "            orginal   remove diagnose左前分支阻滞\n",
      "   nums      14747           14598        \n",
      "              HTN             NHTN        \n",
      "   nums       1419           13179        \n",
      "           remove HTN     remove NHTN     \n",
      "   nums        13             136         \n"
     ]
    }
   ],
   "source": [
    "ALL_data = ECGHandle.filter_QC(ALL_data)\n",
    "ALL_data = ECGHandle.correct_label(ALL_data)\n",
    "ALL_data = ECGHandle.correct_age(ALL_data)\n",
    "ALL_data = ECGHandle.filter_diagnose(ALL_data,'起搏')\n",
    "ALL_data = ECGHandle.filter_diagnose(ALL_data,'房颤')\n",
    "ALL_data = ECGHandle.filter_diagnose(ALL_data,'左束支传导阻滞')\n",
    "ALL_data = ECGHandle.filter_diagnose(ALL_data,'左前分支阻滞')"
   ]
  },
  {
   "cell_type": "code",
   "execution_count": 5,
   "metadata": {},
   "outputs": [],
   "source": [
    "ALL_data[ALL_data['label'] == 0]['住院号'].unique().__len__()\n",
    "ALL_data = ALL_data.rename(columns={'住院号':'ID','年龄':'age','性别':'gender','姓名':'name'}) \n",
    "ALL_data_buffer = ALL_data.copy()"
   ]
  },
  {
   "attachments": {},
   "cell_type": "markdown",
   "metadata": {},
   "source": [
    "## 常规操作"
   ]
  },
  {
   "cell_type": "code",
   "execution_count": null,
   "metadata": {},
   "outputs": [],
   "source": [
    "ALL_data = ALL_data.rename(columns={'住院号':'ID','年龄':'age','性别':'gender','姓名':'name'}) \n",
    "ALL_data_buffer = ALL_data.copy()\n",
    "seed_torch(2023)\n",
    "ALL_data_buffer = ALL_data_buffer.sample(frac=1).reset_index(drop=True) #打乱顺序\n",
    "# all_dataset = ECGHandle.ECG_Dataset(data_root,ALL_data_buffer,preprocess = True)\n",
    "####################################################################随机选取test\n",
    "test_df,tv_df = Pair_ID(ALL_data,0.2,Range_max=15,pair_num=1)\n",
    "test_dataset = ECGHandle.ECG_Dataset(data_root,test_df,preprocess = True)"
   ]
  },
  {
   "cell_type": "code",
   "execution_count": null,
   "metadata": {},
   "outputs": [],
   "source": [
    "Models_path = '/workspace/data/Interpretable_HTN/model/20230322_030450/20230322_030450/BestF1_0.pt'\n",
    "save_root = Models_path[:-3]+'/'    \n",
    "layervalue_root = save_root+'/layervalue/'    \n",
    "NET = [Net.MLBFNet_GUR_o(True,True,True,2,Dropout_rate=0.3), ] # type: ignore    \n",
    "criterion = torch.nn.CrossEntropyLoss()    \n",
    "testmodel = NET[0].to(DEVICE)    \n",
    "testmodel.load_state_dict(torch.load(Models_path))    \n",
    "test_dataloader = Data.DataLoader(dataset=test_dataset, batch_size=1, shuffle=False)      \n",
    "y_true,y_pred,y_out,test_loss,test_acc = eval_model(test_dataloader,criterion,testmodel,DEVICE) # 验证模型"
   ]
  },
  {
   "cell_type": "code",
   "execution_count": null,
   "metadata": {},
   "outputs": [],
   "source": [
    "np.array(y_out).shape"
   ]
  },
  {
   "cell_type": "code",
   "execution_count": null,
   "metadata": {},
   "outputs": [],
   "source": [
    "test_df_save = test_df.copy()\n",
    "test_df_save['predict HTN possibility'] = np.array(y_out)[:,1]\n",
    "print(test_df_save.head)"
   ]
  },
  {
   "cell_type": "code",
   "execution_count": null,
   "metadata": {},
   "outputs": [],
   "source": [
    "test_df_save[test_df_save['label']==1].__len__()"
   ]
  },
  {
   "cell_type": "code",
   "execution_count": null,
   "metadata": {},
   "outputs": [],
   "source": [
    "test_df_save.to_csv('./test.csv',encoding='utf_8_sig')"
   ]
  },
  {
   "cell_type": "code",
   "execution_count": null,
   "metadata": {},
   "outputs": [],
   "source": [
    "\n",
    "ALL_data.columns"
   ]
  },
  {
   "cell_type": "code",
   "execution_count": null,
   "metadata": {},
   "outputs": [],
   "source": [
    "duplicated_HTN_df = ALL_data[ALL_data.duplicated(subset=['ID'], keep=False) & (ALL_data['label']==1)& ( ~ ALL_data['检查时间'].isnull()) ]"
   ]
  },
  {
   "cell_type": "code",
   "execution_count": null,
   "metadata": {},
   "outputs": [],
   "source": [
    "duplicated_HTN_df.__len__()"
   ]
  },
  {
   "cell_type": "code",
   "execution_count": null,
   "metadata": {},
   "outputs": [],
   "source": [
    "duplicated_HTN_df['检查时间'] = pd.to_datetime(duplicated_HTN_df['检查时间'])"
   ]
  },
  {
   "cell_type": "code",
   "execution_count": null,
   "metadata": {},
   "outputs": [],
   "source": [
    "duplicated_HTN_df['date_diff'] = duplicated_HTN_df.groupby('ID')['检查时间'].apply(lambda x:abs( x.diff()).dt.total_seconds())"
   ]
  },
  {
   "cell_type": "code",
   "execution_count": null,
   "metadata": {},
   "outputs": [],
   "source": [
    "duplicated_HTN_ID_list_buffer = list(duplicated_HTN_df[duplicated_HTN_df['date_diff']>(31536000/2)]['ID'])\n",
    "print(duplicated_HTN_ID_list_buffer.__len__())"
   ]
  },
  {
   "cell_type": "code",
   "execution_count": null,
   "metadata": {},
   "outputs": [],
   "source": [
    "duplicated_HTN_df= ALL_data[ALL_data['ID'].isin(duplicated_HTN_ID_list_buffer)].copy()\n",
    "duplicated_HTN_dataset = ECGHandle.ECG_Dataset(data_root,duplicated_HTN_df,preprocess = True)"
   ]
  },
  {
   "cell_type": "code",
   "execution_count": null,
   "metadata": {},
   "outputs": [],
   "source": [
    "Models_path = '/workspace/data/Interpretable_HTN/model/20230322_030450/20230322_030450/BestF1_0.pt'\n",
    "save_root = Models_path[:-3]+'/'    \n",
    "layervalue_root = save_root+'/layervalue/'    \n",
    "NET = [Net.MLBFNet_GUR_o(True,True,True,2,Dropout_rate=0.3), ] # type: ignore    \n",
    "criterion = torch.nn.CrossEntropyLoss()    \n",
    "testmodel = NET[0].to(DEVICE)    \n",
    "testmodel.load_state_dict(torch.load(Models_path))    \n",
    "duplicated_HTN_dataloader = Data.DataLoader(dataset=duplicated_HTN_dataset, batch_size=1, shuffle=False)      \n",
    "y_true,y_pred,y_out,test_loss,test_acc = eval_model(duplicated_HTN_dataloader,criterion,testmodel,DEVICE) # 验证模型"
   ]
  },
  {
   "cell_type": "code",
   "execution_count": null,
   "metadata": {},
   "outputs": [],
   "source": [
    "duplicated_HTN_df['predict HTN possibility'] = np.array(y_out)[:,1]"
   ]
  },
  {
   "cell_type": "code",
   "execution_count": null,
   "metadata": {},
   "outputs": [],
   "source": [
    "duplicated_HTN_df[duplicated_HTN_df['predict HTN possibility']<0.5]['ID'].unique().tolist()"
   ]
  },
  {
   "cell_type": "code",
   "execution_count": null,
   "metadata": {},
   "outputs": [],
   "source": [
    "duplicated_HTN_df.to_csv('./duplicated_HTN_间隔半年以上.csv',encoding='utf_8_sig')"
   ]
  },
  {
   "cell_type": "code",
   "execution_count": null,
   "metadata": {},
   "outputs": [],
   "source": [
    "jpg_path = './jpg/duplicated_HTN/'\n",
    "for index in range(duplicated_HTN_dataset.__len__()):#test_dataset.__len__()\n",
    "    info =duplicated_HTN_dataset.infos.iloc[index]\n",
    "    file_name = info['ID']+'_'+info['ECGFilename']\n",
    "    ID = info['ID']\n",
    "    date = info['检查时间']\n",
    "    age = info['age']\n",
    "    label = info['label']\n",
    "    ECG,labels = duplicated_HTN_dataset.__getitem__(index)\n",
    "    ECG = ECG*5000 #恢复\n",
    "    ecg_plot.plot(ECG*4.88/1000, sample_rate = 500, title = 'ID:'+str(ID)+' '+ 'label: '+ str(label) +' '+'Date: '+str(date)+' '+'age: '+str(age)  ,row_height= 10,show_grid=True,show_separate_line=True)\n",
    "    ecg_plot.save_as_jpg(file_name,jpg_path)"
   ]
  },
  {
   "attachments": {},
   "cell_type": "markdown",
   "metadata": {},
   "source": [
    "## 测试集上分类错误的NHTN"
   ]
  },
  {
   "cell_type": "code",
   "execution_count": null,
   "metadata": {},
   "outputs": [],
   "source": [
    "ERR_NHTN_df = test_df_save[ (test_df_save['label']==0) & (test_df_save['predict HTN possibility']>=0.5) ]\n",
    "print(ERR_NHTN_df)"
   ]
  },
  {
   "cell_type": "code",
   "execution_count": null,
   "metadata": {},
   "outputs": [],
   "source": [
    "ERR_NHTN_df.to_csv('./ERR_NHTN.csv',encoding='utf_8_sig')"
   ]
  },
  {
   "attachments": {},
   "cell_type": "markdown",
   "metadata": {},
   "source": [
    "## std & mean check"
   ]
  },
  {
   "cell_type": "code",
   "execution_count": null,
   "metadata": {},
   "outputs": [],
   "source": [
    "FOLDS = 5\n",
    "seed_torch(2023)\n",
    "tv_df = tv_df.sample(frac=1).reset_index(drop=True) #打乱顺序"
   ]
  },
  {
   "cell_type": "code",
   "execution_count": null,
   "metadata": {},
   "outputs": [],
   "source": [
    "for fold in range(FOLDS):\n",
    "    print(\"Fold \"+str(fold)+\" of \"+str(FOLDS) + ' :')\n",
    "    tv_df_buffer = tv_df.copy()\n",
    "    HTN_tv_df = tv_df[(tv_df['label']==1) ].copy()\n",
    "    NHTN_tv_df = tv_df[(tv_df['label']==0) ].copy()\n",
    "    HTN_ID_tv_list = HTN_tv_df['ID'].unique().tolist() #tvset中所有的HTN的ID号\n",
    "    HTN_tv_size = HTN_tv_df['ID'].unique().__len__()\n",
    "    HTN_validate_size = int(HTN_tv_size//FOLDS)\n",
    "    validate_start_index = HTN_validate_size*fold #star index for validate\n",
    "    validate_df,tarin_df = Pair_ID(tv_df_buffer,0.2,star_index=validate_start_index,Range_max=15,pair_num=1)\n",
    "    validate_dataset = ECGHandle.ECG_Dataset(data_root,validate_df,preprocess = True)\n",
    "    \n",
    "    train_pair_df,_ = Pair_ID(tarin_df,1,star_index=0,Range_max=15,pair_num=1,shuffle=True)\n",
    "    train_dataset = ECGHandle.ECG_Dataset(data_root,train_pair_df ,preprocess = True)\n",
    "    for i in range(12):\n",
    "        print('lead:' ,i)\n",
    "        print('test:{}',test_dataset.datas[:,i,:].std(),test_dataset.datas[:,i,:].mean())\n",
    "        print('train:{}',train_dataset.datas[:,i,:].std(),train_dataset.datas[:,i,:].mean())\n",
    "        print('validat:{}',validate_dataset.datas[:,i,:].std(),validate_dataset.datas[:,i,:].mean())"
   ]
  },
  {
   "cell_type": "code",
   "execution_count": null,
   "metadata": {},
   "outputs": [],
   "source": [
    "test_df[test_df['label'] == 0]['ID'].__len__()"
   ]
  },
  {
   "cell_type": "code",
   "execution_count": null,
   "metadata": {},
   "outputs": [],
   "source": [
    "tv_df[tv_df['label'] == 0]['ID'].__len__()"
   ]
  },
  {
   "attachments": {},
   "cell_type": "markdown",
   "metadata": {},
   "source": [
    "## 查看训练集、测试集、验证集的年龄、性别分布是否有差别"
   ]
  },
  {
   "cell_type": "code",
   "execution_count": null,
   "metadata": {},
   "outputs": [],
   "source": [
    "ALL_data.columns"
   ]
  },
  {
   "cell_type": "code",
   "execution_count": null,
   "metadata": {},
   "outputs": [],
   "source": [
    "ALL_data.hist(column='age', by='gender')"
   ]
  },
  {
   "cell_type": "code",
   "execution_count": null,
   "metadata": {},
   "outputs": [],
   "source": [
    "test_df.hist(column='age', by='gender')"
   ]
  },
  {
   "cell_type": "code",
   "execution_count": null,
   "metadata": {},
   "outputs": [],
   "source": [
    "seed_torch(2023)\n",
    "test_df,tv_df = Pair_ID(ALL_data,0.2,Range_max=15,pair_num=1)\n",
    "FOLDS = 5\n",
    "seed_torch(2020)\n",
    "tv_df = tv_df.sample(frac=1).reset_index(drop=True) #打乱顺序\n",
    "for fold in range(FOLDS):\n",
    "    print(\"Fold \"+str(fold)+\" of \"+str(FOLDS) + ' :')\n",
    "    tv_df_buffer = tv_df.copy()\n",
    "    HTN_tv_df = tv_df[(tv_df['label']==1) ].copy()\n",
    "    NHTN_tv_df = tv_df[(tv_df['label']==0) ].copy()\n",
    "    HTN_ID_tv_list = HTN_tv_df['ID'].unique().tolist() #tvset中所有的HTN的ID号\n",
    "    HTN_tv_size = HTN_tv_df['ID'].unique().__len__()\n",
    "    HTN_validate_size = int(HTN_tv_size//FOLDS)\n",
    "    validate_start_index = HTN_validate_size*fold #star index for validate\n",
    "    validate_df,tarin_df = Pair_ID(tv_df_buffer,0.2,star_index=validate_start_index,Range_max=15,pair_num=1)\n",
    "    \n",
    "    train_pair_df,_ = Pair_ID(tarin_df,1,star_index=0,Range_max=15,pair_num=1,shuffle=True)\n",
    "    validate_df.hist(column='age', by='gender')\n",
    "    tarin_df.hist(column='age', by='gender')"
   ]
  },
  {
   "attachments": {},
   "cell_type": "markdown",
   "metadata": {},
   "source": [
    "#### 按照[18, 30, 40, 50, 60, 70, 110]年龄分组"
   ]
  },
  {
   "cell_type": "code",
   "execution_count": 7,
   "metadata": {},
   "outputs": [
    {
     "data": {
      "text/plain": [
       "array([<AxesSubplot:title={'center':'0'}>,\n",
       "       <AxesSubplot:title={'center':'1'}>], dtype=object)"
      ]
     },
     "execution_count": 7,
     "metadata": {},
     "output_type": "execute_result"
    },
    {
     "data": {
      "image/png": "[encoded data removed]",
      "text/plain": [
       "<Figure size 432x288 with 2 Axes>"
      ]
     },
     "metadata": {
      "needs_background": "light"
     },
     "output_type": "display_data"
    }
   ],
   "source": [
    "# 按照指定的区间进行分组\n",
    "bins = [18, 40, 60, 80, 110]\n",
    "labels = ['18-40', '41-60', '61-80', '81-110']\n",
    "ALL_data['agegroup'] = pd.cut(ALL_data['age'], bins=bins, labels=labels)\n",
    "ALL_data.hist('agegroup',by = 'label',sharex=True)"
   ]
  },
  {
   "cell_type": "code",
   "execution_count": 12,
   "metadata": {},
   "outputs": [
    {
     "data": {
      "text/plain": [
       "array([<AxesSubplot:title={'center':'0'}>,\n",
       "       <AxesSubplot:title={'center':'1'}>], dtype=object)"
      ]
     },
     "execution_count": 12,
     "metadata": {},
     "output_type": "execute_result"
    },
    {
     "data": {
      "image/png": "[encoded data removed]",
      "text/plain": [
       "<Figure size 432x288 with 2 Axes>"
      ]
     },
     "metadata": {
      "needs_background": "light"
     },
     "output_type": "display_data"
    }
   ],
   "source": [
    "# 按照指定的区间进行分组\n",
    "bins = [18, 30, 40, 50, 60, 70, 80,110]\n",
    "labels = ['18-30', '31-40', '41-50', '51-60', '61-70', '71-80','81-110']\n",
    "ALL_data['agegroup'] = pd.cut(ALL_data['age'], bins=bins, labels=labels)\n",
    "ALL_data.hist(column='agegroup',by = 'label',sharex=True)"
   ]
  },
  {
   "cell_type": "code",
   "execution_count": 49,
   "metadata": {},
   "outputs": [],
   "source": [
    "HTN_df = ALL_data[(ALL_data['label']==1) ].drop_duplicates(subset=['ID'],keep = 'first').copy()"
   ]
  },
  {
   "cell_type": "code",
   "execution_count": 19,
   "metadata": {},
   "outputs": [
    {
     "name": "stdout",
     "output_type": "stream",
     "text": [
      "lack sample like : Pandas(Index=176158, _1=173812, _2=173812, index=490, 序号=491, name='刘正坤', gender='女', age=92, 检查时间=nan, 申请部门=nan, 门诊号=nan, ID='480505', 急诊号=nan, 体检号=nan, 医嘱号=nan, 临床诊断='高血压病3级（极高危）', 诊断=nan, 特征=nan, 心率=nan, PR=179.0, RR=nan, QRS=93.0, QT=441.0, QTc=450.0, 电轴='-5.0', RV5=1.93, RV6=1.55, SV1=1.47, RS=3.4, 心律='窦性', 室率='62', 房率='62', P时限=103.0, _33=nan, _34=nan, _35=nan, _36=nan, _37=nan, _38=nan, _39=nan, _40=nan, _41=nan, _42=nan, 急诊号_1=nan, 出生日期='1926-11-14', year=0, ECGFilename='00-1-491', xmlPath='/workspace/data/Preprocess_HTN/00/00/HTN/xml/491.xml', Q=0.0, label=1, agegroup='81-110')\n",
      "lack sample like : Pandas(Index=64857, _1=62408, _2=62408, index=22361, 序号=22362, name='潘世明', gender='男', age=97, 检查时间='2020-04-15 04:21:14', 申请部门='干部保健一科一区', 门诊号=nan, ID='807057', 急诊号=nan, 体检号=nan, 医嘱号=807057001.0, 临床诊断='高血压病3级（极高危）', 诊断='1.窦性心律\\n2.心电轴左偏', 特征='PⅠ、Ⅱ直立，PavR倒置。\\n心电轴<-30°', 心率=61.0, PR=197.0, RR=1004.0, QRS=102.0, QT=446.0, QTc=445.0, 电轴='-37', RV5=0.59, RV6=0.5, SV1=0.91, RS=1.5, 心律='窦性', 室率='61', 房率='61', P时限=115.0, _33=61.0, _34=-37.0, _35=124.0, _36=197.0, _37=102.0, _38=456.0, _39=459.0, _40=0.59, _41=0.91, _42=1.5, 急诊号_1=nan, 出生日期=nan, year=20, ECGFilename='20-22362', xmlPath='/workspace/data/Preprocess_HTN/2020/2020/22362/1.xml', Q=0.0, label=1, agegroup='81-110')\n",
      "lack sample like : Pandas(Index=46484, _1=44035, _2=44035, index=3988, 序号=3989, name='叶钱', gender='男', age=93, 检查时间='2020-07-07 15:47:48', 申请部门='干部保健一科一区', 门诊号=nan, ID='272796', 急诊号=nan, 体检号=nan, 医嘱号=272796015.0, 临床诊断='高血压3级', 诊断='1.窦性心动过缓伴不齐\\n2.不完全性右束支阻滞', 特征='PⅠ、Ⅱ直立，PavR倒置，P波、P－R间期、ST-T无异常改变，心率<60次/分。P-P间期差别>0.12s，同导联P波形态、方向、波幅及P-R间期相同。\\nV1呈rSr＇型，r＇> r，QRS<0.12s。', 心率=nan, PR=183.0, RR=1046.0, QRS=98.0, QT=413.0, QTc=404.0, 电轴='-6', RV5=1.35, RV6=nan, SV1=0.32, RS=1.67, 心律='窦性', 室率='57', 房率='57', P时限=80.0, _33=57.0, _34=-6.0, _35=128.0, _36=183.0, _37=98.0, _38=413.0, _39=404.0, _40=1.35, _41=0.32, _42=1.67, 急诊号_1=nan, 出生日期=nan, year=20, ECGFilename='20-3989', xmlPath='/workspace/data/Preprocess_HTN/2020/2020/3989/1.xml', Q=0.0, label=1, agegroup='81-110')\n",
      "lack sample like : Pandas(Index=135976, _1=133543, _2=133543, index=281, 序号=282, name='云明', gender='女', age=95, 检查时间='2022-03-17 10:53:21', 申请部门='干部保健一科二区', 门诊号=nan, ID='614875', 急诊号=nan, 体检号=nan, 医嘱号=614875006.0, 临床诊断='高血压病3级（极高危）', 诊断='1. 窦性心律 \\n2. 正常心电图', 特征='PⅠ、Ⅱ直立，PavR倒置，P波、P－R间期、QRS波、ST-T无异常改变。', 心率=64.0, PR=161.0, RR=937.0, QRS=92.0, QT=382.0, QTc=397.0, 电轴='24.0', RV5=1.22, RV6=0.93, SV1=0.57, RS=1.79, 心律='窦性', 室率='64', 房率='64', P时限=100.0, _33=64.0, _34=24.0, _35=118.0, _36=161.0, _37=92.0, _38=382.0, _39=397.0, _40=1.22, _41=0.57, _42=1.79, 急诊号_1=nan, 出生日期=nan, year=22, ECGFilename='22-282', xmlPath='/workspace/data/Preprocess_HTN/2022/282/1.xml', Q=0.0, label=1, agegroup='81-110')\n",
      "lack sample like : Pandas(Index=198269, _1=173690, _2=173690, index=368, 序号=369, name='李文友', gender='男', age=95, 检查时间=nan, 申请部门=nan, 门诊号=nan, ID='271826', 急诊号=nan, 体检号=nan, 医嘱号=nan, 临床诊断='高血压2级', 诊断=nan, 特征=nan, 心率=nan, PR=nan, RR=nan, QRS=83.0, QT=399.0, QTc=458.0, 电轴='44.0', RV5=1.64, RV6=1.18, SV1=0.3, RS=1.94, 心律='异位', 室率='79±', 房率='500±', P时限=nan, _33=nan, _34=nan, _35=nan, _36=nan, _37=nan, _38=nan, _39=nan, _40=nan, _41=nan, _42=nan, 急诊号_1=nan, 出生日期='1924-05-01', year=0, ECGFilename='00-1-369', xmlPath='/workspace/data/Preprocess_HTN/00/00/HTN/xml/369.xml', Q=0.0, label=1, agegroup='81-110')\n",
      "lack sample like : Pandas(Index=14, _1=173324, _2=173324, index=2, 序号=3, name='杨端', gender='男', age=92, 检查时间=nan, 申请部门=nan, 门诊号=nan, ID='202301264', 急诊号=nan, 体检号=nan, 医嘱号=nan, 临床诊断='高血压病', 诊断=nan, 特征=nan, 心率=nan, PR=198.0, RR=nan, QRS=103.0, QT=368.0, QTc=420.0, 电轴='53.0', RV5=2.42, RV6=1.55, SV1=0.6, RS=3.02, 心律='窦性', 室率='78', 房率='78', P时限=100.0, _33=nan, _34=nan, _35=nan, _36=nan, _37=nan, _38=nan, _39=nan, _40=nan, _41=nan, _42=nan, 急诊号_1=nan, 出生日期='1924-08-13', year=0, ECGFilename='00-1-3', xmlPath='/workspace/data/Preprocess_HTN/00/00/HTN/xml/3.xml', Q=0.0, label=1, agegroup='81-110')\n",
      "180\n",
      "180\n",
      "180\n",
      "180\n",
      "180\n",
      "lack sample like : Pandas(Index=131104, _1=128668, _2=128668, index=53, 序号=54, name='何志华', gender='女', age=91, 检查时间='2021-12-28 16:52:16', 申请部门='重症医学科病房', 门诊号=nan, ID='813818', 急诊号=nan, 体检号=nan, 医嘱号=813818009.0, 临床诊断='高血压', 诊断='1.窦性心律\\n2.室性早搏 \\n3.交界性逸搏', 特征='PⅠ、Ⅱ直立，PavR倒置。\\n各导联见提前宽大畸形QRS波群≥0.12s，其前无相关P波，QRS主波与T波方向相反，代偿间歇完全。\\n各导联在长间歇后见室上性QRS波群，P在QRS前，P-R<0.12s，逆P在QRS后，R-P＇<0.20s。', 心率=80.0, PR=191.0, RR=750.0, QRS=82.0, QT=358.0, QTc=413.0, 电轴='87.0', RV5=0.22, RV6=1.28, SV1=0.68, RS=0.9, 心律='窦性', 室率='80', 房率='80', P时限=66.0, _33=80.0, _34=87.0, _35=66.0, _36=191.0, _37=82.0, _38=358.0, _39=413.0, _40=0.22, _41=0.68, _42=0.9, 急诊号_1=nan, 出生日期=nan, year=21, ECGFilename='21-12-54', xmlPath='/workspace/data/Preprocess_HTN/2021/2021-12/54/1.xml', Q=0.0, label=1, agegroup='81-110')\n",
      "lack sample like : Pandas(Index=108384, _1=105937, _2=105937, index=890, 序号=891, name='张建霞', gender='女', age=92, 检查时间='2021-06-12 12:48:44', 申请部门='干部保健一科二区', 门诊号=nan, ID='425878', 急诊号=nan, 体检号=nan, 医嘱号=425878017.0, 临床诊断='高血压', 诊断='1.窦性心律\\n2.逆钟向转位', 特征='PⅠ、Ⅱ直立，PavR倒置。\\nV1-V6呈Rs，R/S>1。', 心率=67.0, PR=166.0, RR=895.0, QRS=116.0, QT=412.0, QTc=436.0, 电轴='44.0', RV5=1.73, RV6=1.33, SV1=0.48, RS=2.21, 心律='窦性', 室率='67', 房率='67', P时限=116.0, _33=67.0, _34=44.0, _35=126.0, _36=168.0, _37=117.0, _38=425.0, _39=450.0, _40=1.73, _41=0.48, _42=2.21, 急诊号_1=nan, 出生日期=nan, year=21, ECGFilename='21-6-891', xmlPath='/workspace/data/Preprocess_HTN/2021/2021-6/891/1.xml', Q=0.0, label=1, agegroup='81-110')\n",
      "lack sample like : Pandas(Index=171510, _1=169077, _2=169077, index=35815, 序号=35817, name='陈荣珠', gender='男', age=96, 检查时间='2022-03-25 17:22:10', 申请部门='干部保健二科一区', 门诊号=nan, ID='294587', 急诊号=nan, 体检号=nan, 医嘱号=294587008.0, 临床诊断='高血压3级', 诊断='1.窦性心律\\n2.左心室高电压', 特征='PⅠ、Ⅱ直立，PavR倒置。\\nRV5>2.5mv RV5 mv+SV1>4.0 mv(>14岁,男)', 心率=66.0, PR=170.0, RR=909.0, QRS=99.0, QT=416.0, QTc=436.0, 电轴='-9.0', RV5=2.95, RV6=2.57, SV1=0.84, RS=3.79, 心律='窦性', 室率='66', 房率='66', P时限=106.0, _33=0.0, _34=0.0, _35=0.0, _36=0.0, _37=0.0, _38=0.0, _39=0.0, _40=0.0, _41=0.0, _42=0.0, 急诊号_1=nan, 出生日期=nan, year=22, ECGFilename='22-35817', xmlPath='/workspace/data/Preprocess_HTN/2022/35817/1.xml', Q=0.0, label=1, agegroup='81-110')\n",
      "lack sample like : Pandas(Index=123369, _1=120923, _2=120923, index=602, 序号=603, name='季凯', gender='女', age=91, 检查时间='2021-10-18 08:56:49', 申请部门='干部保健一科二区', 门诊号=nan, ID='840655', 急诊号=nan, 体检号=nan, 医嘱号=840655002.0, 临床诊断='高血压2级', 诊断='1.窦性心律\\n2.异常Q波', 特征='PⅠ、Ⅱ直立，PavR倒置。\\nV1、V2导联QRS呈QS型, .', 心率=68.0, PR=200.0, RR=882.0, QRS=96.0, QT=435.0, QTc=465.0, 电轴='-25.0', RV5=0.83, RV6=0.76, SV1=0.88, RS=1.71, 心律='窦性', 室率='68', 房率='68', P时限=112.0, _33=68.0, _34=-25.0, _35=122.0, _36=201.0, _37=96.0, _38=435.0, _39=465.0, _40=0.83, _41=0.88, _42=1.71, 急诊号_1=nan, 出生日期=nan, year=21, ECGFilename='21-10-603', xmlPath='/workspace/data/Preprocess_HTN/2021/2021-10/603/1.xml', Q=0.0, label=1, agegroup='81-110')\n",
      "lack sample like : Pandas(Index=198281, _1=173968, _2=173968, index=646, 序号=647, name='陈菊生', gender='女', age=95, 检查时间=nan, 申请部门=nan, 门诊号=nan, ID='271367', 急诊号=nan, 体检号=nan, 医嘱号=nan, 临床诊断='高血压病', 诊断=nan, 特征=nan, 心率=nan, PR=nan, RR=nan, QRS=91.0, QT=292.0, QTc=410.0, 电轴='-23.0', RV5=0.36, RV6=0.39, SV1=0.3, RS=0.66, 心律='异位', 室率='118', 房率='500±', P时限=nan, _33=nan, _34=nan, _35=nan, _36=nan, _37=nan, _38=nan, _39=nan, _40=nan, _41=nan, _42=nan, 急诊号_1=nan, 出生日期='1924-10-13', year=0, ECGFilename='00-1-647', xmlPath='/workspace/data/Preprocess_HTN/00/00/HTN/xml/647.xml', Q=0.0, label=1, agegroup='81-110')\n",
      "lack sample like : Pandas(Index=175987, _1=173628, _2=173628, index=306, 序号=307, name='卓彩霞', gender='女', age=92, 检查时间=nan, 申请部门=nan, 门诊号=nan, ID='303893', 急诊号=nan, 体检号=nan, 医嘱号=nan, 临床诊断='高血压病3级（极高危）', 诊断=nan, 特征=nan, 心率=nan, PR=164.0, RR=nan, QRS=91.0, QT=344.0, QTc=442.0, 电轴='-28.0', RV5=1.08, RV6=0.59, SV1=0.91, RS=1.99, 心律='窦性', 室率='99', 房率='99', P时限=95.0, _33=nan, _34=nan, _35=nan, _36=nan, _37=nan, _38=nan, _39=nan, _40=nan, _41=nan, _42=nan, 急诊号_1=nan, 出生日期='1926-11-14', year=0, ECGFilename='00-1-307', xmlPath='/workspace/data/Preprocess_HTN/00/00/HTN/xml/307.xml', Q=0.0, label=1, agegroup='81-110')\n",
      "lack sample like : Pandas(Index=148146, _1=145713, _2=145713, index=12451, 序号=12452, name='李如绥', gender='男', age=95, 检查时间='2022-04-18 08:58:31', 申请部门='干部保健二科三区', 门诊号=nan, ID='297125', 急诊号=nan, 体检号=nan, 医嘱号=297125011.0, 临床诊断='高血压病3级（极高危）', 诊断='1. 窦性心律 \\n2. 正常心电图', 特征='PⅠ、Ⅱ直立，PavR倒置，P波、P－R间期、QRS波、ST-T无异常改变。', 心率=66.0, PR=172.0, RR=909.0, QRS=104.0, QT=416.0, QTc=439.0, 电轴='1.0', RV5=1.35, RV6=0.81, SV1=0.63, RS=1.98, 心律='窦性', 室率='66', 房率='66', P时限=100.0, _33=0.0, _34=0.0, _35=0.0, _36=0.0, _37=0.0, _38=0.0, _39=0.0, _40=0.0, _41=0.0, _42=0.0, 急诊号_1=nan, 出生日期=nan, year=22, ECGFilename='22-12452', xmlPath='/workspace/data/Preprocess_HTN/2022/12452/1.xml', Q=0.0, label=1, agegroup='81-110')\n"
     ]
    }
   ],
   "source": [
    "from sklearn.model_selection import train_test_split\n",
    "# 按照agerange和gender进行分层抽样\n",
    "\n",
    "NHTN_df = ALL_data[(ALL_data['label']==0) ].drop_duplicates(subset=['ID'],keep = 'first').copy()\n",
    "HTN_df = ALL_data[(ALL_data['label']==1) ].drop_duplicates(subset=['ID'],keep = 'first').copy()\n",
    "TV_HTN_df, test_HTN_df = train_test_split(HTN_df, test_size=0.2, stratify=HTN_df[['agegroup', 'gender']])\n",
    "test_ID_list = pair_HTN(test_HTN_df.drop_duplicates(['ID'],keep='first'),NHTN_df.drop_duplicates(['ID'],keep='first'),\n",
    "                            Range_max=2,\n",
    "                            pair_num=1,\n",
    "                            shuffle=True)['ID'].tolist()#按照年龄和性别对每个ID号去配对 (先去除重复ID)\n",
    "pair_index = ALL_data[[True if i in test_ID_list else False for i in ALL_data['ID']]].index\n",
    "test_df = ALL_data.loc[pair_index].copy()\n",
    "left_index = ALL_data[[False if i in test_ID_list else True for i in ALL_data['ID']]].index #不在test_ID_list的ID 即为tv的\n",
    "TV_df = ALL_data.loc[left_index].copy()\n",
    "\n",
    "\n",
    "\n",
    "TV_NHTN_df = TV_df[(TV_df['label']==0) ].drop_duplicates(subset=['ID'],keep = 'first').copy()\n",
    "TV_HTN_df = TV_df[(TV_df['label']==1) ].drop_duplicates(subset=['ID'],keep = 'first').copy()\n",
    "fold_len= float((TV_HTN_df.__len__())//5) #每一fold的HTN的长度\n",
    "TV_HTN_buffer = TV_HTN_df.copy()\n",
    "\n",
    "validat_HTN_df_subsets = []\n",
    "for i in range(4):\n",
    "    TV_HTN_buffer, subset = train_test_split(TV_HTN_buffer, test_size=fold_len/(TV_HTN_buffer.__len__()), stratify=TV_HTN_buffer[['agegroup', 'gender']])\n",
    "    print(subset.__len__())\n",
    "    validat_HTN_df_subsets.append(subset)\n",
    "print(TV_HTN_buffer.__len__())\n",
    "validat_HTN_df_subsets.append(TV_HTN_buffer)\n",
    "\n",
    "validat_ID_list_subsets = []\n",
    "for i in range(validat_HTN_df_subsets.__len__()):\n",
    "    i_ID_list = pair_HTN(validat_HTN_df_subsets[i].drop_duplicates(['ID'],keep='first'),\n",
    "                         TV_NHTN_df.drop_duplicates(['ID'],keep='first'),\n",
    "                            Range_max=2,\n",
    "                            pair_num=1,\n",
    "                            shuffle=True)['ID'].tolist()#按照年龄和性别对每个ID号去配对 (先去除重复ID)\n",
    "    validat_ID_list_subsets.append(i_ID_list)\n"
   ]
  },
  {
   "cell_type": "code",
   "execution_count": 20,
   "metadata": {},
   "outputs": [
    {
     "name": "stdout",
     "output_type": "stream",
     "text": [
      "          Fold 0 of 5 :\n",
      "lack sample like : Pandas(Index=69625, _1=67176, _2=67176, index=27129, 序号=27130, name='苏碧羡', gender='女', age=94, 检查时间='2020-08-31 12:37:40', 申请部门='中医科病房', 门诊号=nan, ID='280452', 急诊号=nan, 体检号=nan, 医嘱号=280452007.0, 临床诊断='高血压3级', 诊断='1.窦性心律\\n2.室性早搏 \\n3.T波改变', 特征='PⅠ、Ⅱ直立，PavR倒置。\\n各导联见提前宽大畸形QRS波群≥0.12s，其前无相关P波，QRS主波与T波方向相反，代偿间歇完全。\\nT：Ⅰ、aVL、Ⅱ、Ⅲ、aVF、V4、V5、V6 低平', 心率=71.0, PR=120.0, RR=874.0, QRS=96.0, QT=453.0, QTc=485.0, 电轴='46', RV5=1.16, RV6=0.7, SV1=0.58, RS=1.74, 心律='窦性', 室率='71', 房率='71', P时限=80.0, _33=71.0, _34=46.0, _35=34.0, _36=97.0, _37=96.0, _38=453.0, _39=494.0, _40=1.16, _41=0.58, _42=1.74, 急诊号_1=nan, 出生日期=nan, year=20, ECGFilename='20-27130', xmlPath='/workspace/data/Preprocess_HTN/2020/2020/27130/1.xml', Q=0.0, label=1, agegroup='81-110')\n",
      "lack sample like : Pandas(Index=148146, _1=145713, _2=145713, index=12451, 序号=12452, name='李如绥', gender='男', age=95, 检查时间='2022-04-18 08:58:31', 申请部门='干部保健二科三区', 门诊号=nan, ID='297125', 急诊号=nan, 体检号=nan, 医嘱号=297125011.0, 临床诊断='高血压病3级（极高危）', 诊断='1. 窦性心律 \\n2. 正常心电图', 特征='PⅠ、Ⅱ直立，PavR倒置，P波、P－R间期、QRS波、ST-T无异常改变。', 心率=66.0, PR=172.0, RR=909.0, QRS=104.0, QT=416.0, QTc=439.0, 电轴='1.0', RV5=1.35, RV6=0.81, SV1=0.63, RS=1.98, 心律='窦性', 室率='66', 房率='66', P时限=100.0, _33=0.0, _34=0.0, _35=0.0, _36=0.0, _37=0.0, _38=0.0, _39=0.0, _40=0.0, _41=0.0, _42=0.0, 急诊号_1=nan, 出生日期=nan, year=22, ECGFilename='22-12452', xmlPath='/workspace/data/Preprocess_HTN/2022/12452/1.xml', Q=0.0, label=1, agegroup='81-110')\n",
      "          Fold 1 of 5 :\n",
      "          Fold 2 of 5 :\n",
      "lack sample like : Pandas(Index=171510, _1=169077, _2=169077, index=35815, 序号=35817, name='陈荣珠', gender='男', age=96, 检查时间='2022-03-25 17:22:10', 申请部门='干部保健二科一区', 门诊号=nan, ID='294587', 急诊号=nan, 体检号=nan, 医嘱号=294587008.0, 临床诊断='高血压3级', 诊断='1.窦性心律\\n2.左心室高电压', 特征='PⅠ、Ⅱ直立，PavR倒置。\\nRV5>2.5mv RV5 mv+SV1>4.0 mv(>14岁,男)', 心率=66.0, PR=170.0, RR=909.0, QRS=99.0, QT=416.0, QTc=436.0, 电轴='-9.0', RV5=2.95, RV6=2.57, SV1=0.84, RS=3.79, 心律='窦性', 室率='66', 房率='66', P时限=106.0, _33=0.0, _34=0.0, _35=0.0, _36=0.0, _37=0.0, _38=0.0, _39=0.0, _40=0.0, _41=0.0, _42=0.0, 急诊号_1=nan, 出生日期=nan, year=22, ECGFilename='22-35817', xmlPath='/workspace/data/Preprocess_HTN/2022/35817/1.xml', Q=0.0, label=1, agegroup='81-110')\n",
      "          Fold 3 of 5 :\n",
      "lack sample like : Pandas(Index=51660, _1=49211, _2=49211, index=9164, 序号=9165, name='张思纯', gender='女', age=93, 检查时间='2020-07-20 11:19:12', 申请部门='干部保健二科一区', 门诊号=nan, ID='815354', 急诊号=nan, 体检号=nan, 医嘱号=815354002.0, 临床诊断='高血压病2级（高危）', 诊断='1. 窦性心律 \\n2. 正常心电图', 特征='PⅠ、Ⅱ直立，PavR倒置，P波、P－R间期、QRS波、ST-T无异常改变。', 心率=72.0, PR=167.0, RR=814.0, QRS=89.0, QT=408.0, QTc=452.0, 电轴='12', RV5=1.88, RV6=1.17, SV1=0.97, RS=2.85, 心律='窦性', 室率='72', 房率='72', P时限=80.0, _33=72.0, _34=12.0, _35=84.0, _36=167.0, _37=89.0, _38=408.0, _39=449.0, _40=1.88, _41=0.97, _42=2.85, 急诊号_1=nan, 出生日期=nan, year=20, ECGFilename='20-9165', xmlPath='/workspace/data/Preprocess_HTN/2020/2020/9165/1.xml', Q=0.0, label=1, agegroup='81-110')\n",
      "          Fold 4 of 5 :\n",
      "lack sample like : Pandas(Index=171510, _1=169077, _2=169077, index=35815, 序号=35817, name='陈荣珠', gender='男', age=96, 检查时间='2022-03-25 17:22:10', 申请部门='干部保健二科一区', 门诊号=nan, ID='294587', 急诊号=nan, 体检号=nan, 医嘱号=294587008.0, 临床诊断='高血压3级', 诊断='1.窦性心律\\n2.左心室高电压', 特征='PⅠ、Ⅱ直立，PavR倒置。\\nRV5>2.5mv RV5 mv+SV1>4.0 mv(>14岁,男)', 心率=66.0, PR=170.0, RR=909.0, QRS=99.0, QT=416.0, QTc=436.0, 电轴='-9.0', RV5=2.95, RV6=2.57, SV1=0.84, RS=3.79, 心律='窦性', 室率='66', 房率='66', P时限=106.0, _33=0.0, _34=0.0, _35=0.0, _36=0.0, _37=0.0, _38=0.0, _39=0.0, _40=0.0, _41=0.0, _42=0.0, 急诊号_1=nan, 出生日期=nan, year=22, ECGFilename='22-35817', xmlPath='/workspace/data/Preprocess_HTN/2022/35817/1.xml', Q=0.0, label=1, agegroup='81-110')\n"
     ]
    },
    {
     "data": {
      "image/png": "[encoded data removed]",
      "text/plain": [
       "<Figure size 432x288 with 2 Axes>"
      ]
     },
     "metadata": {
      "needs_background": "light"
     },
     "output_type": "display_data"
    },
    {
     "data": {
      "image/png": "[encoded data removed]",
      "text/plain": [
       "<Figure size 432x288 with 2 Axes>"
      ]
     },
     "metadata": {
      "needs_background": "light"
     },
     "output_type": "display_data"
    },
    {
     "data": {
      "image/png": "[encoded data removed]",
      "text/plain": [
       "<Figure size 432x288 with 2 Axes>"
      ]
     },
     "metadata": {
      "needs_background": "light"
     },
     "output_type": "display_data"
    },
    {
     "data": {
      "image/png": "[encoded data removed]",
      "text/plain": [
       "<Figure size 432x288 with 2 Axes>"
      ]
     },
     "metadata": {
      "needs_background": "light"
     },
     "output_type": "display_data"
    },
    {
     "data": {
      "image/png": "[encoded data removed]",
      "text/plain": [
       "<Figure size 432x288 with 2 Axes>"
      ]
     },
     "metadata": {
      "needs_background": "light"
     },
     "output_type": "display_data"
    },
    {
     "data": {
      "image/png": "[encoded data removed]",
      "text/plain": [
       "<Figure size 432x288 with 2 Axes>"
      ]
     },
     "metadata": {
      "needs_background": "light"
     },
     "output_type": "display_data"
    },
    {
     "data": {
      "image/png": "[encoded data removed]",
      "text/plain": [
       "<Figure size 432x288 with 2 Axes>"
      ]
     },
     "metadata": {
      "needs_background": "light"
     },
     "output_type": "display_data"
    },
    {
     "data": {
      "image/png": "[encoded data removed]",
      "text/plain": [
       "<Figure size 432x288 with 2 Axes>"
      ]
     },
     "metadata": {
      "needs_background": "light"
     },
     "output_type": "display_data"
    },
    {
     "data": {
      "image/png": "[encoded data removed]",
      "text/plain": [
       "<Figure size 432x288 with 2 Axes>"
      ]
     },
     "metadata": {
      "needs_background": "light"
     },
     "output_type": "display_data"
    },
    {
     "data": {
      "image/png": "[encoded data removed]",
      "text/plain": [
       "<Figure size 432x288 with 2 Axes>"
      ]
     },
     "metadata": {
      "needs_background": "light"
     },
     "output_type": "display_data"
    }
   ],
   "source": [
    "for fold in range(5):\n",
    "    print(\" \"*10+ \"Fold \"+str(fold)+\" of \"+str(5) + ' :')\n",
    "\n",
    "    pair_index = TV_df[[True if i in validat_ID_list_subsets[fold] else False for i in TV_df['ID']]].index\n",
    "    validate_df = TV_df.loc[pair_index].copy()\n",
    "    left_index = TV_df[[False if i in validat_ID_list_subsets[fold] else True for i in TV_df['ID']]].index #不在test_ID_list的ID 即为tv的\n",
    "    train_df = TV_df.loc[left_index].copy()\n",
    "    train_pair_df,_ = Pair_ID(train_df,1,star_index=0,Range_max=5,pair_num=1,shuffle=True)\n",
    "\n",
    "    validate_df.hist('age',by = 'label',sharex=True)\n",
    "    train_pair_df.hist('age',by = 'label',sharex=True)"
   ]
  },
  {
   "cell_type": "code",
   "execution_count": 21,
   "metadata": {},
   "outputs": [
    {
     "data": {
      "text/plain": [
       "array([<AxesSubplot:title={'center':'0'}>,\n",
       "       <AxesSubplot:title={'center':'1'}>], dtype=object)"
      ]
     },
     "execution_count": 21,
     "metadata": {},
     "output_type": "execute_result"
    },
    {
     "data": {
      "image/png": "[encoded data removed]",
      "text/plain": [
       "<Figure size 432x288 with 2 Axes>"
      ]
     },
     "metadata": {
      "needs_background": "light"
     },
     "output_type": "display_data"
    }
   ],
   "source": [
    "test_df.hist('age',by = 'label',sharex=True)"
   ]
  },
  {
   "attachments": {},
   "cell_type": "markdown",
   "metadata": {},
   "source": [
    "## plot"
   ]
  },
  {
   "cell_type": "code",
   "execution_count": null,
   "metadata": {},
   "outputs": [],
   "source": [
    "jpg_path = './jpg/'\n",
    "for index in range(test_dataset.__len__()):#test_dataset.__len__()\n",
    "    info =test_dataset.infos.iloc[index]\n",
    "    file_name = info['ECGFilename']\n",
    "    ID = info['ID']\n",
    "    date = info['检查时间']\n",
    "    age = info['age']\n",
    "    label = info['label']\n",
    "    ECG,labels = test_dataset.__getitem__(index)\n",
    "    ECG = ECG*5000 #恢复\n",
    "    ecg_plot.plot(ECG*4.88/1000, sample_rate = 500, title = 'ID:'+str(ID)+' '+ 'label: '+ str(label) +' '+'Date: '+str(date)+' '+'age: '+str(age)  ,row_height= 10,show_grid=True,show_separate_line=True)\n",
    "    ecg_plot.save_as_jpg(file_name,jpg_path)"
   ]
  },
  {
   "cell_type": "code",
   "execution_count": null,
   "metadata": {},
   "outputs": [],
   "source": []
  },
  {
   "cell_type": "code",
   "execution_count": null,
   "metadata": {},
   "outputs": [],
   "source": []
  }
 ],
 "metadata": {
  "kernelspec": {
   "display_name": "base",
   "language": "python",
   "name": "python3"
  },
  "language_info": {
   "codemirror_mode": {
    "name": "ipython",
    "version": 3
   },
   "file_extension": ".py",
   "mimetype": "text/x-python",
   "name": "python",
   "nbconvert_exporter": "python",
   "pygments_lexer": "ipython3",
   "version": "3.7.13"
  },
  "orig_nbformat": 4,
  "vscode": {
   "interpreter": {
    "hash": "d4d1e4263499bec80672ea0156c357c1ee493ec2b1c70f0acce89fc37c4a6abe"
   }
  }
 },
 "nbformat": 4,
 "nbformat_minor": 2
}
