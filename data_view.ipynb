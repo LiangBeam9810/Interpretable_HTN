{
 "cells": [
  {
   "cell_type": "code",
   "execution_count": 1,
   "metadata": {},
   "outputs": [
    {
     "name": "stderr",
     "output_type": "stream",
     "text": [
      "/root/miniconda3/envs/ECG_torch_1.11/lib/python3.7/site-packages/tqdm/auto.py:21: TqdmWarning: IProgress not found. Please update jupyter and ipywidgets. See https://ipywidgets.readthedocs.io/en/stable/user_install.html\n",
      "  from .autonotebook import tqdm as notebook_tqdm\n"
     ]
    }
   ],
   "source": [
    "%load_ext autoreload\n",
    "%autoreload 2\n",
    "import ECGHandle\n",
    "\n",
    "from train_test_validat import *\n",
    "from self_attention import *\n",
    "import matplotlib.pyplot as plt\n",
    "\n",
    "import torch\n",
    "import torch.utils.data as Data\n",
    "from sklearn.metrics import confusion_matrix, ConfusionMatrixDisplay\n",
    "from sklearn.model_selection import StratifiedKFold\n",
    "from sklearn.metrics import confusion_matrix, accuracy_score, f1_score\n",
    "import random\n",
    "\n",
    "import pandas as pd\n",
    "from tqdm import tqdm\n",
    "from sklearn.metrics import roc_curve, auc,precision_recall_curve\n",
    "\n",
    "import time\n",
    "import math\n",
    "import os\n",
    "import gc\n",
    "from torch.utils.tensorboard import SummaryWriter\n",
    "\n",
    "\n",
    "def seed_torch(seed=2023):\n",
    "\trandom.seed(seed)\n",
    "\tos.environ['PYTHONHASHSEED'] = str(seed) # 为了禁止hash随机化，使得实验可复现\n",
    "\tnp.random.seed(seed)\n",
    "\ttorch.manual_seed(seed)\n",
    "\ttorch.cuda.manual_seed(seed)\n",
    "\ttorch.cuda.manual_seed_all(seed) # if you are using multi-GPU.\n",
    "\ttorch.backends.cudnn.benchmark = False \n",
    "\ttorch.backends.cudnn.deterministic = True\n",
    "    # torch.backends.cudnn.enabled = False\n",
    "    \n",
    "fontdict = {'family' : 'Times New Roman', 'size' : 10}\n",
    "plt.rc('font',family='Times New Roman')\n",
    "plt.rcParams['font.sans-serif'] = ['SimHei'] #或者把\"SimHei\"换为\"KaiTi\"\n",
    "plt.rcParams['axes.unicode_minus'] = False  # 解决保存图像是负号'-'显示为方块的问题\n",
    "    "
   ]
  },
  {
   "cell_type": "code",
   "execution_count": 21,
   "metadata": {},
   "outputs": [
    {
     "name": "stdout",
     "output_type": "stream",
     "text": [
      "\n",
      "\n",
      "            orginal   removed diagnose NaN ed\n",
      "   nums      200082          199997       \n",
      "              HTN             NHTN        \n",
      "   nums       3273           196724       \n",
      "\n",
      "\n",
      "            orginal    removed ID NaN ed  \n",
      "   nums      199997          199995       \n",
      "              HTN             NHTN        \n",
      "   nums       3273           196722       \n",
      "\n",
      "\n",
      "            orginal           QCed        \n",
      "   nums      199995          72845        \n",
      "              HTN             NHTN        \n",
      "   nums       1497           71348        \n",
      "\n",
      "\n",
      "            orginal      filtered ages    \n",
      "   nums      72845           69819        \n",
      "              HTN             NHTN        \n",
      "   nums       1477           68342        \n",
      "\n",
      "\n",
      "   原始标签       HTN             NHTN        \n",
      "   nums       1432           66723        \n",
      "\n",
      "\n",
      "  剔除补充诊断没有的ID      HTN             NHTN        \n",
      "     nums          1356           63570        \n",
      "\n",
      "\n",
      "            orginal   removed diagnose NaN ed\n",
      "   nums      64926           64926        \n",
      "              HTN             NHTN        \n",
      "   nums      18545           46381        \n",
      "\n",
      "\n",
      "   更新标签       HTN             NHTN        \n",
      "   nums      18545           46381        \n",
      "\n",
      "\n",
      "     剔除起搏          HTN             NHTN        \n",
      "     nums         18310           46186        \n",
      "     剔除房颤          HTN             NHTN        \n",
      "     nums         16274           44309        \n",
      "   剔除左束支传导阻滞       HTN             NHTN        \n",
      "     nums         16131           44195        \n",
      "   剔除左前分支阻滞        HTN             NHTN        \n",
      "     nums         16130           44195        \n",
      "      剔除心          HTN             NHTN        \n",
      "     nums          8857           36089        \n",
      "     剔除旁瓣          HTN             NHTN        \n",
      "     nums          8857           36089        \n",
      "     剔除动脉          HTN             NHTN        \n",
      "     nums          6906           34266        \n",
      "     剔除脉瓣          HTN             NHTN        \n",
      "     nums          6904           34249        \n",
      "     剔除尖瓣          HTN             NHTN        \n",
      "     nums          6861           34117        \n"
     ]
    }
   ],
   "source": [
    "data_root = '/workspace/data/Preprocess_HTN/datas_/'\n",
    "ALL_data = pd.read_csv(data_root+'/All_data_handled_ID_range_age_IDimputate.csv',low_memory=False)\n",
    "ALL_data = ECGHandle.change_label(ALL_data) # 剔除labelNan的数据，将label转换为0,1\n",
    "ALL_data = ECGHandle.filter_ID(ALL_data)  #剔除ID为Nan的数据\n",
    "ALL_data = ECGHandle.filter_QC(ALL_data)  #剔除QC为Nan的数据\n",
    "ALL_data = ECGHandle.filter_ages(ALL_data,18) #剔除年龄大于18的数据\n",
    "ALL_data = ALL_data[ALL_data['住院号'].astype(str).map(len)==6] #剔除ALL_data中的ID不为6位数的数据\n",
    "print('\\n')\n",
    "print(\"{:^10} {:^10} {:^20}\".format('原始标签','HTN','NHTN'))\n",
    "print(\"{:^10} {:^10} {:^20}\".format('nums',len(ALL_data[(ALL_data['label']==1)]),len(ALL_data[(ALL_data['label']==0)])))\n",
    "\n",
    "'''将补充诊断中所有诊断都加入临床诊断中,剔除没有补充诊断数据的ID'''\n",
    "Sup_diagnosis = pd.read_csv('补充诊断.csv',low_memory=False)\n",
    "Sup_diagnosis_grouped = Sup_diagnosis.groupby('住院号')['住院所有诊断'].agg(lambda x: ' '.join(map(str, x))).reset_index()\n",
    "#将`ALL_data`和`Sup_diagnosis_grouped`进行了合并，并将'临床诊断'和'住院所有诊断'字段的值合并为一个字符串。\n",
    "ALL_data['住院号'] = ALL_data['住院号'].astype(str)\n",
    "Sup_diagnosis_grouped['住院号'] = Sup_diagnosis_grouped['住院号'].astype(str)\n",
    "ALL_data = ALL_data[ALL_data['住院号'].isin(Sup_diagnosis_grouped['住院号'])]# 剔除ALL_data中住院号不在Sup_diagnosis_grouped中的数据\n",
    "print('\\n')\n",
    "print(\"{:^15} {:^10} {:^20}\".format('剔除补充诊断没有的ID','HTN','NHTN'))\n",
    "print(\"{:^15} {:^10} {:^20}\".format('nums',len(ALL_data[(ALL_data['label']==1)]),len(ALL_data[(ALL_data['label']==0)])))\n",
    "\n",
    "merged_data = pd.merge(ALL_data, Sup_diagnosis_grouped[['住院号', '住院所有诊断']], on='住院号', how='left')\n",
    "merged_data['临床诊断'] = merged_data.apply(lambda row: str(row['临床诊断']) + ' ' + str(row['住院所有诊断']), axis=1)\n",
    "merged_data = merged_data.drop('label', axis=1)\n",
    "merged_data = merged_data.drop('住院所有诊断', axis=1)\n",
    "ALL_data = ECGHandle.change_label(merged_data)\n",
    "\n",
    "print('\\n')\n",
    "print(\"{:^10} {:^10} {:^20}\".format('更新标签','HTN','NHTN'))\n",
    "print(\"{:^10} {:^10} {:^20}\".format('nums',len(ALL_data[(ALL_data['label']==1)]),len(ALL_data[(ALL_data['label']==0)])))\n",
    "print('\\n')\n",
    "'''剔除含有特定诊断的数据'''\n",
    "diagnoses = ['起搏', '房颤', '左束支传导阻滞', '左前分支阻滞', '心', '旁瓣','动脉','脉瓣','尖瓣']\n",
    "for diagnose in diagnoses:\n",
    "    ALL_data = ALL_data[~ALL_data['临床诊断'].str.contains(diagnose)]\n",
    "    print(\"{:^15} {:^10} {:^20}\".format('剔除'+diagnose,'HTN','NHTN'))\n",
    "    print(\"{:^15} {:^10} {:^20}\".format('nums',len(ALL_data[(ALL_data['label']==1)]),len(ALL_data[(ALL_data['label']==0)])))"
   ]
  },
  {
   "cell_type": "code",
   "execution_count": 24,
   "metadata": {},
   "outputs": [
    {
     "data": {
      "text/plain": [
       "Index(['Unnamed: 0', 'Unnamed: 0.1', 'index', '序号', '姓名', '性别', '年龄', '检查时间',\n",
       "       '申请部门', '门诊号', '住院号', '急诊号', '体检号', '医嘱号', '临床诊断', '诊断', '特征', '心率',\n",
       "       'PR', 'RR', 'QRS', 'QT', 'QTc', '电轴', 'RV5', 'RV6', 'SV1', 'RS', '心律',\n",
       "       '室率', '房率', 'P时限', 'ECG-心率', 'ECG-电轴', 'ECG-P时限', 'ECG-P-R', 'ECG-QRS',\n",
       "       'ECG-QT', 'ECG-QTc', 'ECG-RV5', 'ECG-SV1', 'ECG-R+S', '急诊号_1', '出生日期',\n",
       "       'year', 'ECGFilename', 'xmlPath', 'Q', 'label'],\n",
       "      dtype='object')"
      ]
     },
     "execution_count": 24,
     "metadata": {},
     "output_type": "execute_result"
    }
   ],
   "source": [
    "ALL_data.columns"
   ]
  },
  {
   "cell_type": "code",
   "execution_count": 26,
   "metadata": {},
   "outputs": [
    {
     "name": "stdout",
     "output_type": "stream",
     "text": [
      "\n",
      "\n",
      "   年份18       HTN             NHTN        \n",
      "   nums        23              37         \n",
      "\n",
      "\n",
      "   年份19       HTN             NHTN        \n",
      "   nums       248             2392        \n",
      "\n",
      "\n",
      "   年份20       HTN             NHTN        \n",
      "   nums       3023           13118        \n",
      "\n",
      "\n",
      "   年份21       HTN             NHTN        \n",
      "   nums       2091            8673        \n",
      "\n",
      "\n",
      "   年份22       HTN             NHTN        \n",
      "   nums       488             2313        \n",
      "\n",
      "\n",
      "   年份0        HTN             NHTN        \n",
      "   nums       988             7584        \n"
     ]
    }
   ],
   "source": [
    "for year in ALL_data['year'].unique():\n",
    "    print('\\n')\n",
    "    print(\"{:^10} {:^10} {:^20}\".format('年份'+str(year),'HTN','NHTN'))\n",
    "    print(\"{:^10} {:^10} {:^20}\".format('nums',len(ALL_data[(ALL_data['year']==year) &(ALL_data['label']==1)]),len(ALL_data[(ALL_data['year']==year)&(ALL_data['label']==0)])))"
   ]
  },
  {
   "cell_type": "code",
   "execution_count": 17,
   "metadata": {},
   "outputs": [
    {
     "data": {
      "text/plain": [
       "<AxesSubplot:>"
      ]
     },
     "execution_count": 17,
     "metadata": {},
     "output_type": "execute_result"
    },
    {
     "data": {
      "image/png": "[encoded data removed]",
      "text/plain": [
       "<Figure size 640x480 with 1 Axes>"
      ]
     },
     "metadata": {},
     "output_type": "display_data"
    }
   ],
   "source": [
    "ALL_data['年龄'].hist(bins=100)"
   ]
  },
  {
   "cell_type": "code",
   "execution_count": 18,
   "metadata": {},
   "outputs": [
    {
     "data": {
      "text/plain": [
       "<AxesSubplot:>"
      ]
     },
     "execution_count": 18,
     "metadata": {},
     "output_type": "execute_result"
    },
    {
     "data": {
      "image/png": "[encoded data removed]",
      "text/plain": [
       "<Figure size 640x480 with 1 Axes>"
      ]
     },
     "metadata": {},
     "output_type": "display_data"
    }
   ],
   "source": [
    "ALL_data['Q'].hist(bins=15)"
   ]
  },
  {
   "cell_type": "code",
   "execution_count": 19,
   "metadata": {},
   "outputs": [
    {
     "data": {
      "text/plain": [
       "<AxesSubplot:>"
      ]
     },
     "execution_count": 19,
     "metadata": {},
     "output_type": "execute_result"
    },
    {
     "data": {
      "image/png": "[encoded data removed]",
      "text/plain": [
       "<Figure size 640x480 with 1 Axes>"
      ]
     },
     "metadata": {},
     "output_type": "display_data"
    }
   ],
   "source": [
    "ALL_data['year'].hist(bins=30)"
   ]
  },
  {
   "cell_type": "code",
   "execution_count": 20,
   "metadata": {},
   "outputs": [],
   "source": [
    "def is_not_digit(n):\n",
    "    return not n.isdigit()\n",
    "mask = ALL_data['住院号'].map(is_not_digit)\n",
    "filtered_data = ALL_data[mask]"
   ]
  },
  {
   "cell_type": "code",
   "execution_count": 21,
   "metadata": {},
   "outputs": [
    {
     "data": {
      "text/plain": [
       "5869     R18730923\n",
       "7124     R18822211\n",
       "7125     R18822211\n",
       "7126     R18822211\n",
       "8120     R18794841\n",
       "           ...    \n",
       "52028    R18642436\n",
       "52043    R18642436\n",
       "52044    R18642436\n",
       "66639    R18515467\n",
       "68678    R18518288\n",
       "Name: 住院号, Length: 128, dtype: object"
      ]
     },
     "execution_count": 21,
     "metadata": {},
     "output_type": "execute_result"
    }
   ],
   "source": [
    "filtered_data['住院号']"
   ]
  }
 ],
 "metadata": {
  "kernelspec": {
   "display_name": "base",
   "language": "python",
   "name": "python3"
  },
  "language_info": {
   "codemirror_mode": {
    "name": "ipython",
    "version": 3
   },
   "file_extension": ".py",
   "mimetype": "text/x-python",
   "name": "python",
   "nbconvert_exporter": "python",
   "pygments_lexer": "ipython3",
   "version": "3.7.16"
  },
  "orig_nbformat": 4,
  "vscode": {
   "interpreter": {
    "hash": "d4d1e4263499bec80672ea0156c357c1ee493ec2b1c70f0acce89fc37c4a6abe"
   }
  }
 },
 "nbformat": 4,
 "nbformat_minor": 2
}
