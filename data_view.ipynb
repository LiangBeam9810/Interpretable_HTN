{
 "cells": [
  {
   "cell_type": "code",
   "execution_count": 1,
   "metadata": {},
   "outputs": [],
   "source": [
    "import ECGDataset \n",
    "import Models \n",
    "import Net\n",
    "from train_test_validat import *\n",
    "from self_attention import *\n",
    "import matplotlib.pyplot as plt\n",
    "import ecg_plot\n",
    "import cam\n",
    "import ECGplot\n",
    "import ECGHandle\n",
    "import torch\n",
    "import torch.utils.data as Data\n",
    "from sklearn.metrics import confusion_matrix, ConfusionMatrixDisplay\n",
    "from sklearn.model_selection import StratifiedKFold\n",
    "import random\n",
    "import pandas as pd\n",
    "from tqdm import tqdm\n",
    "\n",
    "import time\n",
    "import math\n",
    "import os\n",
    "import gc\n",
    "from torch.utils.tensorboard import SummaryWriter\n",
    "\n",
    "\n",
    "def seed_torch(seed=2023):\n",
    "\trandom.seed(seed)\n",
    "\tos.environ['PYTHONHASHSEED'] = str(seed) # 为了禁止hash随机化，使得实验可复现\n",
    "\tnp.random.seed(seed)\n",
    "\ttorch.manual_seed(seed)\n",
    "\ttorch.cuda.manual_seed(seed)\n",
    "\ttorch.cuda.manual_seed_all(seed) # if you are using multi-GPU.\n",
    "\ttorch.backends.cudnn.benchmark = False \n",
    "\ttorch.backends.cudnn.deterministic = True\n",
    "    # torch.backends.cudnn.enabled = False"
   ]
  },
  {
   "cell_type": "code",
   "execution_count": 2,
   "metadata": {},
   "outputs": [],
   "source": [
    "EcgChannles_num = 12\n",
    "EcgLength_num = 5000\n",
    "DEVICE = \"cpu\"\n",
    "seed_torch(2023)"
   ]
  },
  {
   "cell_type": "code",
   "execution_count": 20,
   "metadata": {},
   "outputs": [
    {
     "name": "stdout",
     "output_type": "stream",
     "text": [
      "\n",
      "\n",
      "            orginal   removed diagnose NaN\n",
      "   nums      200082          199997       \n",
      "              HTN             NHTN        \n",
      "   nums       3273           196724       \n",
      "\n",
      "\n",
      "            orginal      removed ID NaN   \n",
      "   nums      199997          199995       \n",
      "              HTN             NHTN        \n",
      "   nums       3273           196722       \n",
      "\n",
      "\n",
      "            orginal   filtered department \n",
      "   nums      199995          45571        \n",
      "              HTN             NHTN        \n",
      "   nums       3273           42298        \n",
      "\n",
      "\n",
      "            orginal      filtered ages    \n",
      "   nums      45571           43570        \n",
      "              HTN             NHTN        \n",
      "   nums       3220           40350        \n"
     ]
    }
   ],
   "source": [
    "data_root = '/workspace/data/Preprocess_HTN/datas_/'\n",
    "ALL_data = pd.read_csv(data_root+'/All_data_handled_ID_range_age_IDimputate.csv',low_memory=False)\n",
    "ALL_data = ECGHandle.change_label(ALL_data)\n",
    "ALL_data = ECGHandle.filter_ID(ALL_data)\n",
    "ALL_data = ECGHandle.filter_departmentORlabel(ALL_data,'外科')\n",
    "ALL_data = ECGHandle.filter_ages(ALL_data,18) \n"
   ]
  },
  {
   "cell_type": "code",
   "execution_count": 21,
   "metadata": {},
   "outputs": [
    {
     "name": "stdout",
     "output_type": "stream",
     "text": [
      "\n",
      "\n",
      "            orginal            QC         \n",
      "   nums      43570           15344        \n",
      "              HTN             NHTN        \n",
      "   nums       1477           13867        \n",
      "\n",
      "\n",
      "     reset num:       10  \n",
      "  ERR labels num:     27  \n",
      "            orginal      correct label    \n",
      "   nums      15344           15344        \n",
      "              HTN             NHTN        \n",
      "   nums       1513           13831        \n",
      "\n",
      "\n",
      "   ERR ages num:      831 \n",
      "            orginal       correct age     \n",
      "   nums      15344           15344        \n",
      "              HTN             NHTN        \n",
      "   nums       1513           13831        \n",
      "\n",
      "\n",
      "            orginal    remove diagnose起搏  \n",
      "   nums      15344           15278        \n",
      "              HTN             NHTN        \n",
      "   nums       1494           13784        \n",
      "           remove HTN     remove NHTN     \n",
      "   nums        19              47         \n",
      "\n",
      "\n",
      "            orginal    remove diagnose房颤  \n",
      "   nums      15278           14747        \n",
      "              HTN             NHTN        \n",
      "   nums       1432           13315        \n",
      "           remove HTN     remove NHTN     \n",
      "   nums        62             469         \n",
      "\n",
      "\n",
      "            orginal   remove diagnose左束支传导阻滞\n",
      "   nums      14747           14747        \n",
      "              HTN             NHTN        \n",
      "   nums       1432           13315        \n",
      "           remove HTN     remove NHTN     \n",
      "   nums        0               0          \n",
      "\n",
      "\n",
      "            orginal   remove diagnose左前分支阻滞\n",
      "   nums      14747           14598        \n",
      "              HTN             NHTN        \n",
      "   nums       1419           13179        \n",
      "           remove HTN     remove NHTN     \n",
      "   nums        13             136         \n"
     ]
    }
   ],
   "source": [
    "ALL_data = ECGHandle.filter_QC(ALL_data)\n",
    "ALL_data = ECGHandle.correct_label(ALL_data)\n",
    "ALL_data = ECGHandle.correct_age(ALL_data)\n",
    "ALL_data = ECGHandle.filter_diagnose(ALL_data,'起搏')\n",
    "ALL_data = ECGHandle.filter_diagnose(ALL_data,'房颤')\n",
    "ALL_data = ECGHandle.filter_diagnose(ALL_data,'左束支传导阻滞')\n",
    "ALL_data = ECGHandle.filter_diagnose(ALL_data,'左前分支阻滞')"
   ]
  },
  {
   "cell_type": "code",
   "execution_count": 22,
   "metadata": {},
   "outputs": [],
   "source": [
    "ALL_data[ALL_data['label'] == 0]['住院号'].unique().__len__()\n",
    "ALL_data = ALL_data.rename(columns={'住院号':'ID','年龄':'age','性别':'gender','姓名':'name'}) \n",
    "ALL_data_buffer = ALL_data.copy()"
   ]
  },
  {
   "attachments": {},
   "cell_type": "markdown",
   "metadata": {},
   "source": [
    "## 常规操作"
   ]
  },
  {
   "cell_type": "code",
   "execution_count": null,
   "metadata": {},
   "outputs": [],
   "source": [
    "ALL_data = ALL_data.rename(columns={'住院号':'ID','年龄':'age','性别':'gender','姓名':'name'}) \n",
    "ALL_data_buffer = ALL_data.copy()\n",
    "seed_torch(2023)\n",
    "ALL_data_buffer = ALL_data_buffer.sample(frac=1).reset_index(drop=True) #打乱顺序\n",
    "# all_dataset = ECGHandle.ECG_Dataset(data_root,ALL_data_buffer,preprocess = True)\n",
    "####################################################################随机选取test\n",
    "test_df,tv_df = Pair_ID(ALL_data,0.2,Range_max=15,pair_num=1)\n",
    "test_dataset = ECGHandle.ECG_Dataset(data_root,test_df,preprocess = True)"
   ]
  },
  {
   "cell_type": "code",
   "execution_count": null,
   "metadata": {},
   "outputs": [],
   "source": [
    "Models_path = '/workspace/data/Interpretable_HTN/model/20230322_030450/20230322_030450/BestF1_0.pt'\n",
    "save_root = Models_path[:-3]+'/'    \n",
    "layervalue_root = save_root+'/layervalue/'    \n",
    "NET = [Net.MLBFNet_GUR_o(True,True,True,2,Dropout_rate=0.3), ] # type: ignore    \n",
    "criterion = torch.nn.CrossEntropyLoss()    \n",
    "testmodel = NET[0].to(DEVICE)    \n",
    "testmodel.load_state_dict(torch.load(Models_path))    \n",
    "test_dataloader = Data.DataLoader(dataset=test_dataset, batch_size=1, shuffle=False)      \n",
    "y_true,y_pred,y_out,test_loss,test_acc = eval_model(test_dataloader,criterion,testmodel,DEVICE) # 验证模型"
   ]
  },
  {
   "cell_type": "code",
   "execution_count": null,
   "metadata": {},
   "outputs": [],
   "source": [
    "np.array(y_out).shape"
   ]
  },
  {
   "cell_type": "code",
   "execution_count": null,
   "metadata": {},
   "outputs": [],
   "source": [
    "test_df_save = test_df.copy()\n",
    "test_df_save['predict HTN possibility'] = np.array(y_out)[:,1]\n",
    "print(test_df_save.head)"
   ]
  },
  {
   "cell_type": "code",
   "execution_count": null,
   "metadata": {},
   "outputs": [],
   "source": [
    "test_df_save[test_df_save['label']==1].__len__()"
   ]
  },
  {
   "cell_type": "code",
   "execution_count": null,
   "metadata": {},
   "outputs": [],
   "source": [
    "test_df_save.to_csv('./test.csv',encoding='utf_8_sig')"
   ]
  },
  {
   "cell_type": "code",
   "execution_count": null,
   "metadata": {},
   "outputs": [],
   "source": [
    "\n",
    "ALL_data.columns"
   ]
  },
  {
   "cell_type": "code",
   "execution_count": null,
   "metadata": {},
   "outputs": [],
   "source": [
    "duplicated_HTN_df = ALL_data[ALL_data.duplicated(subset=['ID'], keep=False) & (ALL_data['label']==1)& ( ~ ALL_data['检查时间'].isnull()) ]"
   ]
  },
  {
   "cell_type": "code",
   "execution_count": null,
   "metadata": {},
   "outputs": [],
   "source": [
    "duplicated_HTN_df.__len__()"
   ]
  },
  {
   "cell_type": "code",
   "execution_count": null,
   "metadata": {},
   "outputs": [],
   "source": [
    "duplicated_HTN_df['检查时间'] = pd.to_datetime(duplicated_HTN_df['检查时间'])"
   ]
  },
  {
   "cell_type": "code",
   "execution_count": null,
   "metadata": {},
   "outputs": [],
   "source": [
    "duplicated_HTN_df['date_diff'] = duplicated_HTN_df.groupby('ID')['检查时间'].apply(lambda x:abs( x.diff()).dt.total_seconds())"
   ]
  },
  {
   "cell_type": "code",
   "execution_count": null,
   "metadata": {},
   "outputs": [],
   "source": [
    "duplicated_HTN_ID_list_buffer = list(duplicated_HTN_df[duplicated_HTN_df['date_diff']>(31536000/2)]['ID'])\n",
    "print(duplicated_HTN_ID_list_buffer.__len__())"
   ]
  },
  {
   "cell_type": "code",
   "execution_count": null,
   "metadata": {},
   "outputs": [],
   "source": [
    "duplicated_HTN_df= ALL_data[ALL_data['ID'].isin(duplicated_HTN_ID_list_buffer)].copy()\n",
    "duplicated_HTN_dataset = ECGHandle.ECG_Dataset(data_root,duplicated_HTN_df,preprocess = True)"
   ]
  },
  {
   "cell_type": "code",
   "execution_count": null,
   "metadata": {},
   "outputs": [],
   "source": [
    "Models_path = '/workspace/data/Interpretable_HTN/model/20230322_030450/20230322_030450/BestF1_0.pt'\n",
    "save_root = Models_path[:-3]+'/'    \n",
    "layervalue_root = save_root+'/layervalue/'    \n",
    "NET = [Net.MLBFNet_GUR_o(True,True,True,2,Dropout_rate=0.3), ] # type: ignore    \n",
    "criterion = torch.nn.CrossEntropyLoss()    \n",
    "testmodel = NET[0].to(DEVICE)    \n",
    "testmodel.load_state_dict(torch.load(Models_path))    \n",
    "duplicated_HTN_dataloader = Data.DataLoader(dataset=duplicated_HTN_dataset, batch_size=1, shuffle=False)      \n",
    "y_true,y_pred,y_out,test_loss,test_acc = eval_model(duplicated_HTN_dataloader,criterion,testmodel,DEVICE) # 验证模型"
   ]
  },
  {
   "cell_type": "code",
   "execution_count": null,
   "metadata": {},
   "outputs": [],
   "source": [
    "duplicated_HTN_df['predict HTN possibility'] = np.array(y_out)[:,1]"
   ]
  },
  {
   "cell_type": "code",
   "execution_count": null,
   "metadata": {},
   "outputs": [],
   "source": [
    "duplicated_HTN_df[duplicated_HTN_df['predict HTN possibility']<0.5]['ID'].unique().tolist()"
   ]
  },
  {
   "cell_type": "code",
   "execution_count": null,
   "metadata": {},
   "outputs": [],
   "source": [
    "duplicated_HTN_df.to_csv('./duplicated_HTN_间隔半年以上.csv',encoding='utf_8_sig')"
   ]
  },
  {
   "cell_type": "code",
   "execution_count": null,
   "metadata": {},
   "outputs": [],
   "source": [
    "jpg_path = './jpg/duplicated_HTN/'\n",
    "for index in range(duplicated_HTN_dataset.__len__()):#test_dataset.__len__()\n",
    "    info =duplicated_HTN_dataset.infos.iloc[index]\n",
    "    file_name = info['ID']+'_'+info['ECGFilename']\n",
    "    ID = info['ID']\n",
    "    date = info['检查时间']\n",
    "    age = info['age']\n",
    "    label = info['label']\n",
    "    ECG,labels = duplicated_HTN_dataset.__getitem__(index)\n",
    "    ECG = ECG*5000 #恢复\n",
    "    ecg_plot.plot(ECG*4.88/1000, sample_rate = 500, title = 'ID:'+str(ID)+' '+ 'label: '+ str(label) +' '+'Date: '+str(date)+' '+'age: '+str(age)  ,row_height= 10,show_grid=True,show_separate_line=True)\n",
    "    ecg_plot.save_as_jpg(file_name,jpg_path)"
   ]
  },
  {
   "attachments": {},
   "cell_type": "markdown",
   "metadata": {},
   "source": [
    "## 测试集上分类错误的NHTN"
   ]
  },
  {
   "cell_type": "code",
   "execution_count": null,
   "metadata": {},
   "outputs": [],
   "source": [
    "ERR_NHTN_df = test_df_save[ (test_df_save['label']==0) & (test_df_save['predict HTN possibility']>=0.5) ]\n",
    "print(ERR_NHTN_df)"
   ]
  },
  {
   "cell_type": "code",
   "execution_count": null,
   "metadata": {},
   "outputs": [],
   "source": [
    "ERR_NHTN_df.to_csv('./ERR_NHTN.csv',encoding='utf_8_sig')"
   ]
  },
  {
   "attachments": {},
   "cell_type": "markdown",
   "metadata": {},
   "source": [
    "## std & mean check"
   ]
  },
  {
   "cell_type": "code",
   "execution_count": null,
   "metadata": {},
   "outputs": [],
   "source": [
    "FOLDS = 5\n",
    "seed_torch(2023)\n",
    "tv_df = tv_df.sample(frac=1).reset_index(drop=True) #打乱顺序"
   ]
  },
  {
   "cell_type": "code",
   "execution_count": null,
   "metadata": {},
   "outputs": [],
   "source": [
    "for fold in range(FOLDS):\n",
    "    print(\"Fold \"+str(fold)+\" of \"+str(FOLDS) + ' :')\n",
    "    tv_df_buffer = tv_df.copy()\n",
    "    HTN_tv_df = tv_df[(tv_df['label']==1) ].copy()\n",
    "    NHTN_tv_df = tv_df[(tv_df['label']==0) ].copy()\n",
    "    HTN_ID_tv_list = HTN_tv_df['ID'].unique().tolist() #tvset中所有的HTN的ID号\n",
    "    HTN_tv_size = HTN_tv_df['ID'].unique().__len__()\n",
    "    HTN_validate_size = int(HTN_tv_size//FOLDS)\n",
    "    validate_start_index = HTN_validate_size*fold #star index for validate\n",
    "    validate_df,tarin_df = Pair_ID(tv_df_buffer,0.2,star_index=validate_start_index,Range_max=15,pair_num=1)\n",
    "    validate_dataset = ECGHandle.ECG_Dataset(data_root,validate_df,preprocess = True)\n",
    "    \n",
    "    train_pair_df,_ = Pair_ID(tarin_df,1,star_index=0,Range_max=15,pair_num=1,shuffle=True)\n",
    "    train_dataset = ECGHandle.ECG_Dataset(data_root,train_pair_df ,preprocess = True)\n",
    "    for i in range(12):\n",
    "        print('lead:' ,i)\n",
    "        print('test:{}',test_dataset.datas[:,i,:].std(),test_dataset.datas[:,i,:].mean())\n",
    "        print('train:{}',train_dataset.datas[:,i,:].std(),train_dataset.datas[:,i,:].mean())\n",
    "        print('validat:{}',validate_dataset.datas[:,i,:].std(),validate_dataset.datas[:,i,:].mean())"
   ]
  },
  {
   "cell_type": "code",
   "execution_count": null,
   "metadata": {},
   "outputs": [],
   "source": [
    "test_df[test_df['label'] == 0]['ID'].__len__()"
   ]
  },
  {
   "cell_type": "code",
   "execution_count": null,
   "metadata": {},
   "outputs": [],
   "source": [
    "tv_df[tv_df['label'] == 0]['ID'].__len__()"
   ]
  },
  {
   "attachments": {},
   "cell_type": "markdown",
   "metadata": {},
   "source": [
    "## 查看训练集、测试集、验证集的年龄、性别分布是否有差别"
   ]
  },
  {
   "cell_type": "code",
   "execution_count": null,
   "metadata": {},
   "outputs": [],
   "source": [
    "ALL_data.columns"
   ]
  },
  {
   "cell_type": "code",
   "execution_count": null,
   "metadata": {},
   "outputs": [],
   "source": [
    "ALL_data.hist(column='age', by='gender')"
   ]
  },
  {
   "cell_type": "code",
   "execution_count": null,
   "metadata": {},
   "outputs": [],
   "source": [
    "test_df.hist(column='age', by='gender')"
   ]
  },
  {
   "cell_type": "code",
   "execution_count": null,
   "metadata": {},
   "outputs": [],
   "source": [
    "seed_torch(2023)\n",
    "test_df,tv_df = Pair_ID(ALL_data,0.2,Range_max=15,pair_num=1)\n",
    "FOLDS = 5\n",
    "seed_torch(2020)\n",
    "tv_df = tv_df.sample(frac=1).reset_index(drop=True) #打乱顺序\n",
    "for fold in range(FOLDS):\n",
    "    print(\"Fold \"+str(fold)+\" of \"+str(FOLDS) + ' :')\n",
    "    tv_df_buffer = tv_df.copy()\n",
    "    HTN_tv_df = tv_df[(tv_df['label']==1) ].copy()\n",
    "    NHTN_tv_df = tv_df[(tv_df['label']==0) ].copy()\n",
    "    HTN_ID_tv_list = HTN_tv_df['ID'].unique().tolist() #tvset中所有的HTN的ID号\n",
    "    HTN_tv_size = HTN_tv_df['ID'].unique().__len__()\n",
    "    HTN_validate_size = int(HTN_tv_size//FOLDS)\n",
    "    validate_start_index = HTN_validate_size*fold #star index for validate\n",
    "    validate_df,tarin_df = Pair_ID(tv_df_buffer,0.2,star_index=validate_start_index,Range_max=15,pair_num=1)\n",
    "    \n",
    "    train_pair_df,_ = Pair_ID(tarin_df,1,star_index=0,Range_max=15,pair_num=1,shuffle=True)\n",
    "    validate_df.hist(column='age', by='gender')\n",
    "    tarin_df.hist(column='age', by='gender')"
   ]
  },
  {
   "attachments": {},
   "cell_type": "markdown",
   "metadata": {},
   "source": [
    "#### 按照[18, 30, 40, 50, 60, 70, 110]年龄分组"
   ]
  },
  {
   "cell_type": "code",
   "execution_count": 34,
   "metadata": {},
   "outputs": [],
   "source": [
    "# 按照指定的区间进行分组\n",
    "bins = [18, 30, 40, 50, 60, 70, 110]\n",
    "labels = ['18-30', '31-40', '41-50', '51-60', '61-70', '70-110']\n",
    "ALL_data['agegroup'] = pd.cut(ALL_data['age'], bins=bins, labels=labels)"
   ]
  },
  {
   "cell_type": "code",
   "execution_count": 35,
   "metadata": {},
   "outputs": [],
   "source": [
    "from sklearn.model_selection import train_test_split\n",
    "# 按照agerange和gender进行分层抽样\n",
    "train, test = train_test_split(ALL_data, test_size=0.2, stratify=ALL_data[['agegroup', 'gender']])"
   ]
  },
  {
   "cell_type": "code",
   "execution_count": 36,
   "metadata": {},
   "outputs": [
    {
     "data": {
      "text/plain": [
       "11678"
      ]
     },
     "execution_count": 36,
     "metadata": {},
     "output_type": "execute_result"
    }
   ],
   "source": [
    "train.__len__()"
   ]
  },
  {
   "cell_type": "code",
   "execution_count": 37,
   "metadata": {},
   "outputs": [],
   "source": [
    "# 再次对训练集进行分层抽样，得到4份子集\n",
    "subsets = []\n",
    "for i in range(4):\n",
    "    subset, train = train_test_split(train, test_size=0.2, stratify=train[['agegroup', 'gender']])\n",
    "    subsets.append(subset)"
   ]
  },
  {
   "attachments": {},
   "cell_type": "markdown",
   "metadata": {},
   "source": [
    "## plot"
   ]
  },
  {
   "cell_type": "code",
   "execution_count": null,
   "metadata": {},
   "outputs": [],
   "source": [
    "ALL_data.head()"
   ]
  },
  {
   "cell_type": "code",
   "execution_count": null,
   "metadata": {},
   "outputs": [],
   "source": [
    "np.histogram(ALL_data[ALL_data['label']==1]['年龄'].to_numpy(),np.arange(20,100,10),density = True)"
   ]
  },
  {
   "cell_type": "code",
   "execution_count": null,
   "metadata": {},
   "outputs": [],
   "source": [
    "np.histogram(ALL_data[ALL_data['label']==0]['年龄'].to_numpy(),np.arange(20,100,10),density = True)"
   ]
  },
  {
   "cell_type": "code",
   "execution_count": null,
   "metadata": {},
   "outputs": [],
   "source": [
    "def filled_hist(ax, edges, values, bottoms=None, orientation='v',\n",
    "                **kwargs):\n",
    "    \"\"\"\n",
    "    Draw a histogram as a stepped patch.\n",
    "\n",
    "    Parameters\n",
    "    ----------\n",
    "    ax : Axes\n",
    "        The axes to plot to\n",
    "\n",
    "    edges : array\n",
    "        A length n+1 array giving the left edges of each bin and the\n",
    "        right edge of the last bin.\n",
    "\n",
    "    values : array\n",
    "        A length n array of bin counts or values\n",
    "\n",
    "    bottoms : float or array, optional\n",
    "        A length n array of the bottom of the bars.  If None, zero is used.\n",
    "\n",
    "    orientation : {'v', 'h'}\n",
    "       Orientation of the histogram.  'v' (default) has\n",
    "       the bars increasing in the positive y-direction.\n",
    "\n",
    "    **kwargs\n",
    "        Extra keyword arguments are passed through to `.fill_between`.\n",
    "\n",
    "    Returns\n",
    "    -------\n",
    "    ret : PolyCollection\n",
    "        Artist added to the Axes\n",
    "    \"\"\"\n",
    "    print(orientation)\n",
    "    if orientation not in 'hv':\n",
    "        raise ValueError(f\"orientation must be in {{'h', 'v'}} \"\n",
    "                         f\"not {orientation}\")\n",
    "\n",
    "    kwargs.setdefault('step', 'post')\n",
    "    kwargs.setdefault('alpha', 0.7)\n",
    "    edges = np.asarray(edges)\n",
    "    values = np.asarray(values)\n",
    "    if len(edges) - 1 != len(values):\n",
    "        raise ValueError(f'Must provide one more bin edge than value not: ',\n",
    "                         len(edges), len(values))\n",
    "\n",
    "    if bottoms is None:\n",
    "        bottoms = 0\n",
    "    bottoms = np.broadcast_to(bottoms, values.shape)\n",
    "\n",
    "    values = np.append(values, values[-1])\n",
    "    bottoms = np.append(bottoms, bottoms[-1])\n",
    "    if orientation == 'h':\n",
    "        return ax.fill_betweenx(edges, values, bottoms,\n",
    "                                **kwargs)\n",
    "    elif orientation == 'v':\n",
    "        return ax.fill_between(edges, values, bottoms,\n",
    "                               **kwargs)\n",
    "    else:\n",
    "        raise AssertionError(\"you should never be here\")"
   ]
  },
  {
   "cell_type": "code",
   "execution_count": null,
   "metadata": {},
   "outputs": [],
   "source": [
    "fig, (ax1,ax2) = plt.subplots(1,2,tight_layout=True)\n",
    "\n",
    "ALL_data[(ALL_data['label']==1)&(ALL_data['性别']=='男')].年龄.plot.hist(stacked=True, bins=25, alpha=0.5,density=1,label = 'HTN',ax=ax1)\n",
    "ALL_data[(ALL_data['label']==1)&(ALL_data['性别']=='女')].年龄.plot.hist(stacked=True, bins=25, alpha=0.5,density=1,label = 'HTN',ax=ax1)\n",
    "ALL_data[(ALL_data['label']==0)&(ALL_data['性别']=='男')].年龄.plot.hist(stacked=True, bins=25, alpha=0.5,density=1,label = 'NHTN',ax=ax1)\n",
    "ALL_data[(ALL_data['label']==0)&(ALL_data['性别']=='女')].年龄.plot.hist(stacked=True, bins=25, alpha=0.5,density=1,label = 'NHTN',ax=ax1)\n",
    "\n",
    "ax2 = ALL_data[ALL_data['label']==1].年龄.plot.hist(stacked=True, bins=25, alpha=0.5,density=1,label = 'HTN',ax=ax2)\n",
    "ax2 = ALL_data[ALL_data['label']==0].年龄.plot.hist(stacked=True, bins=25, alpha=0.5,density=1,label = 'NHTN',ax=ax2)"
   ]
  },
  {
   "cell_type": "code",
   "execution_count": null,
   "metadata": {},
   "outputs": [],
   "source": [
    "from scipy.stats import norm\n",
    "\n",
    "fig, ax = plt.subplots(tight_layout=True)\n",
    "n_bins = 50\n",
    "\n",
    "data = ALL_data[ALL_data['label']==1]['年龄'].to_numpy()\n",
    "# 拟合数据的正态分布参数: mu, std\n",
    "mu, std = norm.fit (data)\n",
    "ax.hist (data, n_bins, density=True,alpha = 0.5)\n",
    "# 计算并绘制概率密度函数\n",
    "xmin, xmax = plt.xlim ()\n",
    "x = np.linspace (xmin, xmax, 100)\n",
    "p = norm.pdf (x, mu, std)\n",
    "ax.plot (x,p,'k',linewidth=1)\n",
    "\n",
    "data = ALL_data[ALL_data['label']==0]['年龄'].to_numpy()\n",
    "# 拟合数据的正态分布参数: mu, std\n",
    "mu, std = norm.fit (data)\n",
    "ax.hist (data, n_bins, density=True,alpha = 0.5)\n",
    "# 计算并绘制概率密度函数\n",
    "xmin, xmax = plt.xlim ()\n",
    "x = np.linspace (xmin, xmax, 100)\n",
    "p = norm.pdf (x, mu, std)\n",
    "ax.plot (x,p,'k',linewidth=1)\n",
    "\n",
    "\n",
    "\n",
    "plt.show()"
   ]
  },
  {
   "cell_type": "code",
   "execution_count": null,
   "metadata": {},
   "outputs": [],
   "source": [
    "from scipy.stats import norm\n",
    "\n",
    "fig, ax = plt.subplots(tight_layout=True)\n",
    "n_bins = 50\n",
    "\n",
    "data = ALL_data[ALL_data['label']==1]['年龄'].to_numpy()\n",
    "\n",
    "y1,x1 = np.histogram(data,bins=30,density =True)\n",
    "ax.bar(x1[1:],y1)\n",
    "\n",
    "data = ALL_data[ALL_data['label']==0]['年龄'].to_numpy()\n",
    "y2,x2 = np.histogram(data,bins=30,density =True)\n",
    "ax.bar(x2[1:],y2,align='center')\n",
    "\n",
    "# # 拟合数据的正态分布参数: mu, std\n",
    "# mu, std = norm.fit (data)\n",
    "# # 计算并绘制概率密度函数\n",
    "# xmin, xmax = plt.xlim ()\n",
    "# x = np.linspace (xmin, xmax, 100)\n",
    "# p = norm.pdf (x, mu, std)\n",
    "# ax.plot (x,p,'k',linewidth=1)\n",
    "\n",
    "\n",
    "\n",
    "\n",
    "\n",
    "plt.show()"
   ]
  },
  {
   "cell_type": "code",
   "execution_count": null,
   "metadata": {},
   "outputs": [],
   "source": [
    "jpg_path = './jpg/'\n",
    "for index in range(test_dataset.__len__()):#test_dataset.__len__()\n",
    "    info =test_dataset.infos.iloc[index]\n",
    "    file_name = info['ECGFilename']\n",
    "    ID = info['ID']\n",
    "    date = info['检查时间']\n",
    "    age = info['age']\n",
    "    label = info['label']\n",
    "    ECG,labels = test_dataset.__getitem__(index)\n",
    "    ECG = ECG*5000 #恢复\n",
    "    ecg_plot.plot(ECG*4.88/1000, sample_rate = 500, title = 'ID:'+str(ID)+' '+ 'label: '+ str(label) +' '+'Date: '+str(date)+' '+'age: '+str(age)  ,row_height= 10,show_grid=True,show_separate_line=True)\n",
    "    ecg_plot.save_as_jpg(file_name,jpg_path)"
   ]
  },
  {
   "cell_type": "code",
   "execution_count": null,
   "metadata": {},
   "outputs": [],
   "source": []
  },
  {
   "cell_type": "code",
   "execution_count": null,
   "metadata": {},
   "outputs": [],
   "source": []
  }
 ],
 "metadata": {
  "kernelspec": {
   "display_name": "base",
   "language": "python",
   "name": "python3"
  },
  "language_info": {
   "codemirror_mode": {
    "name": "ipython",
    "version": 3
   },
   "file_extension": ".py",
   "mimetype": "text/x-python",
   "name": "python",
   "nbconvert_exporter": "python",
   "pygments_lexer": "ipython3",
   "version": "3.7.13"
  },
  "orig_nbformat": 4,
  "vscode": {
   "interpreter": {
    "hash": "d4d1e4263499bec80672ea0156c357c1ee493ec2b1c70f0acce89fc37c4a6abe"
   }
  }
 },
 "nbformat": 4,
 "nbformat_minor": 2
}
