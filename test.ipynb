{
 "cells": [
  {
   "cell_type": "code",
   "execution_count": 36,
   "metadata": {},
   "outputs": [
    {
     "name": "stdout",
     "output_type": "stream",
     "text": [
      "The autoreload extension is already loaded. To reload it, use:\n",
      "  %reload_ext autoreload\n",
      "cuda:0\n",
      "105375\n",
      "              HTN        NHTN   \n",
      "   nums       1871      103504  \n",
      "\n",
      "\n",
      "            orginal            QC         \n",
      "   nums      105375          92596        \n",
      "              HTN        NHTN   \n",
      "   nums       1742      90854   \n",
      "\n",
      "\n",
      "            orginal   filtered department \n",
      "   nums      92596           19432        \n",
      "              HTN        NHTN   \n",
      "   nums       1742      17690   \n",
      "\n",
      "\n",
      "            orginal     removed ages NaN  \n",
      "   nums      19432           19432        \n",
      "              HTN        NHTN   \n",
      "   nums       1742      17690   \n",
      "\n",
      "\n",
      "            orginal      filtered ages    \n",
      "   nums      19432           18852        \n",
      "              HTN        NHTN   \n",
      "   nums       1712      17140   \n",
      "\n",
      "\n",
      "            orginal   removed diagnose NaN\n",
      "   nums      18852           18848        \n",
      "              HTN        NHTN   \n",
      "   nums       1712      17136   \n",
      "\n",
      "\n",
      "ERR labels num: 49\n",
      "\n",
      "\n",
      "            orginal    removed duplicated \n",
      "   nums      18848           18848        \n",
      "              HTN        NHTN   \n",
      "   nums       1761       1761   \n",
      "\n",
      "\n",
      "              HTN        NHTN   \n",
      "   ALL        1761      17087   \n",
      " testset      496        7299   \n",
      " T&V set      1265       9788   \n",
      "              HTN        NHTN   \n",
      " TestSet      496        7299   \n",
      "  TVSet       1265       9788   \n",
      "   ALL        1761      17087   \n"
     ]
    }
   ],
   "source": [
    "%load_ext autoreload\n",
    "%autoreload 1\n",
    "%aimport ECGDataset\n",
    "%aimport Models\n",
    "%aimport Net\n",
    "%aimport train_test_validat\n",
    "%aimport ecg_plot\n",
    "%aimport logger\n",
    "import ECGDataset \n",
    "import Models \n",
    "import Net\n",
    "from train_test_validat import *\n",
    "from self_attention import *\n",
    "import matplotlib.pyplot as plt\n",
    "import ecg_plot\n",
    "\n",
    "import torch\n",
    "import torch.utils.data as Data\n",
    "import torch.nn as nn\n",
    "import torch.nn.functional as F\n",
    "from torch.autograd import Variable\n",
    "\n",
    "from sklearn.metrics import confusion_matrix, ConfusionMatrixDisplay\n",
    "from sklearn.model_selection import StratifiedKFold\n",
    "import random\n",
    "import pandas as pd\n",
    "\n",
    "import time\n",
    "import math\n",
    "import os\n",
    "import gc\n",
    "import random\n",
    "\n",
    "\n",
    "import sys\n",
    "import logger\n",
    "\n",
    "\n",
    "from torch.utils.tensorboard import SummaryWriter\n",
    "\n",
    "\n",
    "time_str = time.strftime(\"%Y%m%d_%H%M%S\", time.localtime()) \n",
    "model_path = './model/'+time_str\n",
    "log_path = './logs/'+  time_str\n",
    "\n",
    "EcgChannles_num = 12\n",
    "EcgLength_num = 5000\n",
    "DEVICE = torch.device(\"cuda:0\" if torch.cuda.is_available() else \"cpu\")\n",
    "print(DEVICE)\n",
    "\n",
    "BATCH_SIZE = 160\n",
    "\n",
    "FOLDS = 5\n",
    "EPOCHS = 100  \n",
    "PATIENCE = 10\n",
    "LR = 0.01\n",
    "    \n",
    "ALLDataset = ECGDataset.ECG_Dataset_Init('/workspace/data/Preprocess_HTN/data_like_pxl//',filter_age= 18,filter_department='外科',rebuild_flage=False)\n",
    "ALLDataset.report()  # type: ignore\n",
    "    \n"
   ]
  },
  {
   "cell_type": "code",
   "execution_count": 2,
   "metadata": {},
   "outputs": [],
   "source": [
    "testdf = ALLDataset.INFOsDf.copy()"
   ]
  },
  {
   "cell_type": "code",
   "execution_count": 3,
   "metadata": {},
   "outputs": [
    {
     "data": {
      "text/html": [
       "<div>\n",
       "<style scoped>\n",
       "    .dataframe tbody tr th:only-of-type {\n",
       "        vertical-align: middle;\n",
       "    }\n",
       "\n",
       "    .dataframe tbody tr th {\n",
       "        vertical-align: top;\n",
       "    }\n",
       "\n",
       "    .dataframe thead th {\n",
       "        text-align: right;\n",
       "    }\n",
       "</style>\n",
       "<table border=\"1\" class=\"dataframe\">\n",
       "  <thead>\n",
       "    <tr style=\"text-align: right;\">\n",
       "      <th></th>\n",
       "      <th>num</th>\n",
       "      <th>name</th>\n",
       "      <th>ages</th>\n",
       "      <th>gender</th>\n",
       "      <th>diagnose</th>\n",
       "      <th>department</th>\n",
       "      <th>ID</th>\n",
       "      <th>date</th>\n",
       "      <th>ecgFN</th>\n",
       "      <th>q_sum</th>\n",
       "    </tr>\n",
       "  </thead>\n",
       "  <tbody>\n",
       "    <tr>\n",
       "      <th>21045</th>\n",
       "      <td>508</td>\n",
       "      <td>李添福</td>\n",
       "      <td>56</td>\n",
       "      <td>男</td>\n",
       "      <td>1</td>\n",
       "      <td></td>\n",
       "      <td></td>\n",
       "      <td></td>\n",
       "      <td>00-508_56-1_HTN.npy</td>\n",
       "      <td>0</td>\n",
       "    </tr>\n",
       "    <tr>\n",
       "      <th>21057</th>\n",
       "      <td>509</td>\n",
       "      <td>李添福</td>\n",
       "      <td>56</td>\n",
       "      <td>男</td>\n",
       "      <td>1</td>\n",
       "      <td></td>\n",
       "      <td></td>\n",
       "      <td></td>\n",
       "      <td>00-509_56-1_HTN.npy</td>\n",
       "      <td>0</td>\n",
       "    </tr>\n",
       "    <tr>\n",
       "      <th>21400</th>\n",
       "      <td>537</td>\n",
       "      <td>陈庆荣</td>\n",
       "      <td>78</td>\n",
       "      <td>男</td>\n",
       "      <td>1</td>\n",
       "      <td></td>\n",
       "      <td></td>\n",
       "      <td></td>\n",
       "      <td>00-537_78-1_HTN.npy</td>\n",
       "      <td>0</td>\n",
       "    </tr>\n",
       "    <tr>\n",
       "      <th>21497</th>\n",
       "      <td>545</td>\n",
       "      <td>陈瑞慧</td>\n",
       "      <td>36</td>\n",
       "      <td>女</td>\n",
       "      <td>1</td>\n",
       "      <td></td>\n",
       "      <td></td>\n",
       "      <td></td>\n",
       "      <td>00-545_36-0_HTN.npy</td>\n",
       "      <td>0</td>\n",
       "    </tr>\n",
       "    <tr>\n",
       "      <th>19957</th>\n",
       "      <td>419</td>\n",
       "      <td>林志海</td>\n",
       "      <td>42</td>\n",
       "      <td>男</td>\n",
       "      <td>1</td>\n",
       "      <td></td>\n",
       "      <td></td>\n",
       "      <td></td>\n",
       "      <td>00-419_42-1_HTN.npy</td>\n",
       "      <td>1</td>\n",
       "    </tr>\n",
       "    <tr>\n",
       "      <th>...</th>\n",
       "      <td>...</td>\n",
       "      <td>...</td>\n",
       "      <td>...</td>\n",
       "      <td>...</td>\n",
       "      <td>...</td>\n",
       "      <td>...</td>\n",
       "      <td>...</td>\n",
       "      <td>...</td>\n",
       "      <td>...</td>\n",
       "      <td>...</td>\n",
       "    </tr>\n",
       "    <tr>\n",
       "      <th>18506</th>\n",
       "      <td>300</td>\n",
       "      <td>万秋菊</td>\n",
       "      <td>72</td>\n",
       "      <td>女</td>\n",
       "      <td>1</td>\n",
       "      <td></td>\n",
       "      <td></td>\n",
       "      <td></td>\n",
       "      <td>00-300_72-0_HTN.npy</td>\n",
       "      <td>10</td>\n",
       "    </tr>\n",
       "    <tr>\n",
       "      <th>18530</th>\n",
       "      <td>302</td>\n",
       "      <td>万秋菊</td>\n",
       "      <td>72</td>\n",
       "      <td>女</td>\n",
       "      <td>1</td>\n",
       "      <td></td>\n",
       "      <td></td>\n",
       "      <td></td>\n",
       "      <td>00-302_72-0_HTN.npy</td>\n",
       "      <td>0</td>\n",
       "    </tr>\n",
       "    <tr>\n",
       "      <th>18554</th>\n",
       "      <td>304</td>\n",
       "      <td>万秋菊</td>\n",
       "      <td>72</td>\n",
       "      <td>女</td>\n",
       "      <td>1</td>\n",
       "      <td></td>\n",
       "      <td></td>\n",
       "      <td></td>\n",
       "      <td>00-304_72-0_HTN.npy</td>\n",
       "      <td>1</td>\n",
       "    </tr>\n",
       "    <tr>\n",
       "      <th>18601</th>\n",
       "      <td>308</td>\n",
       "      <td>范志洪</td>\n",
       "      <td>36</td>\n",
       "      <td>男</td>\n",
       "      <td>1</td>\n",
       "      <td></td>\n",
       "      <td></td>\n",
       "      <td></td>\n",
       "      <td>00-308_36-1_HTN.npy</td>\n",
       "      <td>0</td>\n",
       "    </tr>\n",
       "    <tr>\n",
       "      <th>18651</th>\n",
       "      <td>312</td>\n",
       "      <td>范志洪</td>\n",
       "      <td>36</td>\n",
       "      <td>男</td>\n",
       "      <td>1</td>\n",
       "      <td></td>\n",
       "      <td></td>\n",
       "      <td></td>\n",
       "      <td>00-312_36-1_HTN.npy</td>\n",
       "      <td>0</td>\n",
       "    </tr>\n",
       "  </tbody>\n",
       "</table>\n",
       "<p>105 rows × 10 columns</p>\n",
       "</div>"
      ],
      "text/plain": [
       "       num name  ages gender  diagnose department ID date  \\\n",
       "21045  508  李添福    56      男         1                      \n",
       "21057  509  李添福    56      男         1                      \n",
       "21400  537  陈庆荣    78      男         1                      \n",
       "21497  545  陈瑞慧    36      女         1                      \n",
       "19957  419  林志海    42      男         1                      \n",
       "...    ...  ...   ...    ...       ...        ... ..  ...   \n",
       "18506  300  万秋菊    72      女         1                      \n",
       "18530  302  万秋菊    72      女         1                      \n",
       "18554  304  万秋菊    72      女         1                      \n",
       "18601  308  范志洪    36      男         1                      \n",
       "18651  312  范志洪    36      男         1                      \n",
       "\n",
       "                     ecgFN q_sum  \n",
       "21045  00-508_56-1_HTN.npy     0  \n",
       "21057  00-509_56-1_HTN.npy     0  \n",
       "21400  00-537_78-1_HTN.npy     0  \n",
       "21497  00-545_36-0_HTN.npy     0  \n",
       "19957  00-419_42-1_HTN.npy     1  \n",
       "...                    ...   ...  \n",
       "18506  00-300_72-0_HTN.npy    10  \n",
       "18530  00-302_72-0_HTN.npy     0  \n",
       "18554  00-304_72-0_HTN.npy     1  \n",
       "18601  00-308_36-1_HTN.npy     0  \n",
       "18651  00-312_36-1_HTN.npy     0  \n",
       "\n",
       "[105 rows x 10 columns]"
      ]
     },
     "execution_count": 3,
     "metadata": {},
     "output_type": "execute_result"
    }
   ],
   "source": [
    "df1 = testdf[testdf['ID']=='']\n",
    "df1 = df1.sort_values(by=['diagnose'], ascending=[False]) #按照诊断排序，HTN在前\n",
    "df1[df1.duplicated(subset=['name','ages','gender'])]"
   ]
  },
  {
   "cell_type": "code",
   "execution_count": 24,
   "metadata": {},
   "outputs": [],
   "source": [
    "df2 = testdf[~(testdf['ID']=='')]\n",
    "df2 = df2.sort_values(by=['diagnose'], ascending=[False]) #按照诊断排序，HTN在前\n",
    "df2_0 = df2[df2['diagnose']==0] #所有非高血压\n",
    "df2_1 = df2[df2['diagnose']==1] #所有高血压\n",
    "\n",
    "duplicated_index = df2_0[[True if i in df2_1['ID'].tolist() else False for i in df2_0['ID']]].index\n",
    "df2.loc[duplicated_index,'diagnose'] = 1\n"
   ]
  },
  {
   "cell_type": "code",
   "execution_count": 13,
   "metadata": {},
   "outputs": [],
   "source": [
    "df2 = df2.sort_values(by=['diagnose'], ascending=[False]) #按照诊断排序，HTN在前\n",
    "df2_0 = df2[df2['diagnose']==0] #所有非高血压\n",
    "df2_1 = df2[df2['diagnose']==1] #所有高血压\n",
    "\n",
    "duplicated_index = df2_0[[True if i in df2_1['ID'].tolist() else False for i in df2_0['ID']]].index"
   ]
  },
  {
   "cell_type": "code",
   "execution_count": 2,
   "metadata": {},
   "outputs": [
    {
     "data": {
      "text/plain": [
       "<AxesSubplot:>"
      ]
     },
     "execution_count": 2,
     "metadata": {},
     "output_type": "execute_result"
    },
    {
     "data": {
      "image/png": "[encoded data removed]",
      "text/plain": [
       "<Figure size 432x288 with 1 Axes>"
      ]
     },
     "metadata": {
      "needs_background": "light"
     },
     "output_type": "display_data"
    }
   ],
   "source": [
    "ALLDataset.testDf[(ALLDataset.testDf['diagnose']==1)]['ages'].hist(color='b', alpha=0.5, bins=50)\n",
    "ALLDataset.testDf[(ALLDataset.testDf['diagnose']==0)]['ages'].hist(color='r', alpha=0.5, bins=50)"
   ]
  },
  {
   "cell_type": "code",
   "execution_count": 3,
   "metadata": {},
   "outputs": [
    {
     "data": {
      "text/plain": [
       "<AxesSubplot:>"
      ]
     },
     "execution_count": 3,
     "metadata": {},
     "output_type": "execute_result"
    },
    {
     "data": {
      "image/png": "[encoded data removed]",
      "text/plain": [
       "<Figure size 432x288 with 1 Axes>"
      ]
     },
     "metadata": {
      "needs_background": "light"
     },
     "output_type": "display_data"
    }
   ],
   "source": [
    "ALLDataset.tvDf[(ALLDataset.tvDf['diagnose']==1)]['ages'].hist(color='b', alpha=0.5, bins=50)\n",
    "ALLDataset.tvDf[(ALLDataset.tvDf['diagnose']==0)]['ages'].hist(color='r', alpha=0.5, bins=50)"
   ]
  },
  {
   "cell_type": "code",
   "execution_count": 4,
   "metadata": {},
   "outputs": [
    {
     "data": {
      "text/plain": [
       "<AxesSubplot:ylabel='Density'>"
      ]
     },
     "execution_count": 4,
     "metadata": {},
     "output_type": "execute_result"
    },
    {
     "data": {
      "image/png": "[encoded data removed]",
      "text/plain": [
       "<Figure size 432x288 with 1 Axes>"
      ]
     },
     "metadata": {
      "needs_background": "light"
     },
     "output_type": "display_data"
    }
   ],
   "source": [
    "ALLDataset.testDf[(ALLDataset.testDf['diagnose']==1)]['ages'].plot(kind='kde',color='b')\n",
    "ALLDataset.testDf[(ALLDataset.testDf['diagnose']==0)]['ages'].plot(kind='kde',color='r')"
   ]
  },
  {
   "cell_type": "code",
   "execution_count": 5,
   "metadata": {},
   "outputs": [
    {
     "data": {
      "text/plain": [
       "<AxesSubplot:ylabel='Density'>"
      ]
     },
     "execution_count": 5,
     "metadata": {},
     "output_type": "execute_result"
    },
    {
     "data": {
      "image/png": "[encoded data removed]",
      "text/plain": [
       "<Figure size 432x288 with 1 Axes>"
      ]
     },
     "metadata": {
      "needs_background": "light"
     },
     "output_type": "display_data"
    }
   ],
   "source": [
    "ALLDataset.tvDf[(ALLDataset.tvDf['diagnose']==1)]['ages'].plot(kind='kde',color='b')\n",
    "ALLDataset.tvDf[(ALLDataset.tvDf['diagnose']==0)]['ages'].plot(kind='kde',color='r')"
   ]
  },
  {
   "cell_type": "code",
   "execution_count": 6,
   "metadata": {},
   "outputs": [],
   "source": [
    "def pair_HTN(INPUT_HTN_Df,INPUT_NHTN_Df,Range_max = 10,shuffle = False):\n",
    "    HTN_Df = ((INPUT_HTN_Df).copy())\n",
    "    NHTN_Df = ((INPUT_NHTN_Df).copy())#即抽即删,抽出一条删一条\n",
    "    if(shuffle): #打乱\n",
    "        HTN_Df = (HTN_Df.sample(frac=1))\n",
    "        NHTN_Df = (NHTN_Df.sample(frac=1))\n",
    "    # pair_Df = INFOs_df = pd.DataFrame(index=range(len(HTN_Df)*2),columns=HTN_Df.columns)   #所有的HNT和抽取出来的NHTN都存放入其中\n",
    "    pair_Df = HTN_Df #先将所有HTN存放入其中\n",
    "    index = len(HTN_Df)\n",
    "    for info in HTN_Df.itertuples():\n",
    "        age = info.ages\n",
    "        gender = info.gender\n",
    "        candidate_NHTN_Df = pd.DataFrame()\n",
    "        \n",
    "        for Range in range(1,Range_max): # 在 ±Range_max 范围内搜寻ages，且gender相同的NHTN样本\n",
    "            candidate_NHTN_Df = NHTN_Df[(NHTN_Df['ages']>age-Range)&(NHTN_Df['ages']<age+Range)&(NHTN_Df['gender']==gender)]\n",
    "            if(len(candidate_NHTN_Df) > 0):\n",
    "                break\n",
    "        \n",
    "        if(len(candidate_NHTN_Df)<1):# ±Range_max 范围内都没有，那么就从所有NHTN样本（删除掉之前被抽到的）中抽一个\n",
    "            print(\"lack sample like :\",info)\n",
    "            candidate_NHTN_Df = NHTN_Df\n",
    "        NHTN_data_buff = candidate_NHTN_Df.sample(n=1) #从candida中随机抽样一个\n",
    "        # pair_Df.iloc[index] = NHTN_data_buff.iloc[0]\n",
    "        pair_Df = pair_Df.append(NHTN_data_buff)\n",
    "        # print(age,',',NHTN_data_buff['ages'])\n",
    "        # print(NHTN_data_buff.index)\n",
    "        NHTN_Df = NHTN_Df.drop(index= (NHTN_data_buff.index))\n",
    "        index = index +1\n",
    "    return pair_Df\n",
    "        \n",
    "            "
   ]
  },
  {
   "cell_type": "code",
   "execution_count": 7,
   "metadata": {},
   "outputs": [
    {
     "name": "stderr",
     "output_type": "stream",
     "text": [
      "100%|██████████| 340/340 [00:17<00:00, 19.54it/s]\n",
      "100%|██████████| 340/340 [00:15<00:00, 21.69it/s]\n",
      "100%|██████████| 340/340 [00:15<00:00, 21.50it/s]\n",
      "100%|██████████| 340/340 [00:12<00:00, 26.25it/s]\n",
      "100%|██████████| 340/340 [00:12<00:00, 26.56it/s]\n"
     ]
    }
   ],
   "source": [
    "testsize = len(ALLDataset.tvDf[(ALLDataset.tvDf['diagnose']==1)])//5\n",
    "# print(testsize)\n",
    "for i in range(5):\n",
    "    All_df = ALLDataset.tvDf.copy()    \n",
    "    validate_pair_Df = pair_HTN(All_df[(All_df['diagnose']==1)].iloc[testsize*i:testsize*i+testsize],All_df[(All_df['diagnose']==0)],Range_max = 15)\n",
    "    validate_dataset = ECGDataset.ECG_Dataset('/workspace/data/Preprocess_HTN/data_like_pxl//',validate_pair_Df)\n",
    "    All_df = All_df.drop(index= validate_pair_Df.index)    #删掉validate_pair_Df\n",
    "    train_pair_Df_ = pair_HTN(All_df[(All_df['diagnose']==1)],All_df[(All_df['diagnose']==0)],Range_max = 15)\n",
    "    \n",
    "    "
   ]
  },
  {
   "cell_type": "code",
   "execution_count": 9,
   "metadata": {},
   "outputs": [],
   "source": [
    "Model = Net.MLBFNet(2)"
   ]
  },
  {
   "cell_type": "code",
   "execution_count": 10,
   "metadata": {},
   "outputs": [
    {
     "ename": "ValueError",
     "evalue": "not enough values to unpack (expected 3, got 2)",
     "output_type": "error",
     "traceback": [
      "\u001b[0;31m---------------------------------------------------------------------------\u001b[0m",
      "\u001b[0;31mValueError\u001b[0m                                Traceback (most recent call last)",
      "\u001b[0;32m/tmp/ipykernel_27193/3472941787.py\u001b[0m in \u001b[0;36m<module>\u001b[0;34m\u001b[0m\n\u001b[1;32m      1\u001b[0m \u001b[0mx\u001b[0m\u001b[0;34m,\u001b[0m\u001b[0my\u001b[0m \u001b[0;34m=\u001b[0m \u001b[0mvalidate_dataset\u001b[0m\u001b[0;34m.\u001b[0m\u001b[0m__getitem__\u001b[0m\u001b[0;34m(\u001b[0m\u001b[0;36m0\u001b[0m\u001b[0;34m)\u001b[0m\u001b[0;34m\u001b[0m\u001b[0;34m\u001b[0m\u001b[0m\n\u001b[0;32m----> 2\u001b[0;31m \u001b[0mModel\u001b[0m\u001b[0;34m(\u001b[0m\u001b[0mx\u001b[0m\u001b[0;34m)\u001b[0m\u001b[0;34m\u001b[0m\u001b[0;34m\u001b[0m\u001b[0m\n\u001b[0m",
      "\u001b[0;32m/opt/conda/lib/python3.7/site-packages/torch/nn/modules/module.py\u001b[0m in \u001b[0;36m_call_impl\u001b[0;34m(self, *input, **kwargs)\u001b[0m\n\u001b[1;32m   1128\u001b[0m         if not (self._backward_hooks or self._forward_hooks or self._forward_pre_hooks or _global_backward_hooks\n\u001b[1;32m   1129\u001b[0m                 or _global_forward_hooks or _global_forward_pre_hooks):\n\u001b[0;32m-> 1130\u001b[0;31m             \u001b[0;32mreturn\u001b[0m \u001b[0mforward_call\u001b[0m\u001b[0;34m(\u001b[0m\u001b[0;34m*\u001b[0m\u001b[0minput\u001b[0m\u001b[0;34m,\u001b[0m \u001b[0;34m**\u001b[0m\u001b[0mkwargs\u001b[0m\u001b[0;34m)\u001b[0m\u001b[0;34m\u001b[0m\u001b[0;34m\u001b[0m\u001b[0m\n\u001b[0m\u001b[1;32m   1131\u001b[0m         \u001b[0;31m# Do not call functions when jit is used\u001b[0m\u001b[0;34m\u001b[0m\u001b[0;34m\u001b[0m\u001b[0;34m\u001b[0m\u001b[0m\n\u001b[1;32m   1132\u001b[0m         \u001b[0mfull_backward_hooks\u001b[0m\u001b[0;34m,\u001b[0m \u001b[0mnon_full_backward_hooks\u001b[0m \u001b[0;34m=\u001b[0m \u001b[0;34m[\u001b[0m\u001b[0;34m]\u001b[0m\u001b[0;34m,\u001b[0m \u001b[0;34m[\u001b[0m\u001b[0;34m]\u001b[0m\u001b[0;34m\u001b[0m\u001b[0;34m\u001b[0m\u001b[0m\n",
      "\u001b[0;32m/workspace/data/Interpretable_HTN/Net.py\u001b[0m in \u001b[0;36mforward\u001b[0;34m(self, x)\u001b[0m\n\u001b[1;32m    359\u001b[0m         \u001b[0mself\u001b[0m\u001b[0;34m.\u001b[0m\u001b[0msoftmax\u001b[0m \u001b[0;34m=\u001b[0m \u001b[0mnn\u001b[0m\u001b[0;34m.\u001b[0m\u001b[0mSoftmax\u001b[0m\u001b[0;34m(\u001b[0m\u001b[0;34m-\u001b[0m\u001b[0;36m1\u001b[0m\u001b[0;34m)\u001b[0m\u001b[0;34m\u001b[0m\u001b[0;34m\u001b[0m\u001b[0m\n\u001b[1;32m    360\u001b[0m     \u001b[0;32mdef\u001b[0m \u001b[0mforward\u001b[0m\u001b[0;34m(\u001b[0m\u001b[0mself\u001b[0m\u001b[0;34m,\u001b[0m \u001b[0mx\u001b[0m\u001b[0;34m)\u001b[0m\u001b[0;34m:\u001b[0m\u001b[0;34m\u001b[0m\u001b[0;34m\u001b[0m\u001b[0m\n\u001b[0;32m--> 361\u001b[0;31m         \u001b[0mbatch_size\u001b[0m\u001b[0;34m,\u001b[0m \u001b[0mchannels\u001b[0m\u001b[0;34m,\u001b[0m\u001b[0mseq_len\u001b[0m \u001b[0;34m=\u001b[0m \u001b[0mx\u001b[0m\u001b[0;34m.\u001b[0m\u001b[0mshape\u001b[0m\u001b[0;34m\u001b[0m\u001b[0;34m\u001b[0m\u001b[0m\n\u001b[0m\u001b[1;32m    362\u001b[0m         \u001b[0;31m#x = x+(Models.create_1d_absolute_sin_cos_embedding(batch_size,channels,seq_len)).to(x.device)#位置编码\u001b[0m\u001b[0;34m\u001b[0m\u001b[0;34m\u001b[0m\u001b[0;34m\u001b[0m\u001b[0m\n\u001b[1;32m    363\u001b[0m         \u001b[0;32mif\u001b[0m\u001b[0;34m(\u001b[0m\u001b[0mself\u001b[0m\u001b[0;34m.\u001b[0m\u001b[0mmark\u001b[0m\u001b[0;34m)\u001b[0m\u001b[0;34m:\u001b[0m\u001b[0;34m\u001b[0m\u001b[0;34m\u001b[0m\u001b[0m\n",
      "\u001b[0;31mValueError\u001b[0m: not enough values to unpack (expected 3, got 2)"
     ]
    }
   ],
   "source": [
    "x,y = validate_dataset.__getitem__(0)\n",
    "Model(x)"
   ]
  },
  {
   "cell_type": "code",
   "execution_count": null,
   "metadata": {},
   "outputs": [],
   "source": [
    "from scipy.signal import butter, lfilter"
   ]
  },
  {
   "cell_type": "code",
   "execution_count": null,
   "metadata": {},
   "outputs": [],
   "source": [
    "filter_lowcut = 1.0\n",
    "filter_highcut = 47.0\n",
    "filter_order = 1"
   ]
  },
  {
   "cell_type": "code",
   "execution_count": null,
   "metadata": {},
   "outputs": [],
   "source": [
    "\n",
    "def bandpass_filter(data, lowcut, highcut, signal_freq, filter_order):\n",
    "        \"\"\"\n",
    "        Method responsible for creating and applying Butterworth filter.\n",
    "        :param deque data: raw data\n",
    "        :param float lowcut: filter lowcut frequency value\n",
    "        :param float highcut: filter highcut frequency value\n",
    "        :param int signal_freq: signal frequency in samples per second (Hz)\n",
    "        :param int filter_order: filter order\n",
    "        :return array: filtered data\n",
    "        \"\"\"\n",
    "        nyquist_freq = 0.5 * signal_freq\n",
    "        low = lowcut / nyquist_freq\n",
    "        high = highcut / nyquist_freq\n",
    "        b, a = butter(filter_order, [low, high], btype=\"band\")\n",
    "        y = lfilter(b, a, data)\n",
    "        return y"
   ]
  },
  {
   "cell_type": "code",
   "execution_count": null,
   "metadata": {},
   "outputs": [],
   "source": [
    "X,Y = test_dataset.__getitem__(0)\n",
    "ecg_plot.plot(X/100,500,(test_dataset.info(0)).tolist(),columns=2,row_height= 8,show_grid=True,show_separate_line=True)  # type: ignore"
   ]
  },
  {
   "cell_type": "code",
   "execution_count": null,
   "metadata": {},
   "outputs": [],
   "source": [
    "X_filtet = bandpass_filter(X, lowcut=filter_lowcut, highcut=filter_highcut, signal_freq=500, filter_order=filter_order)# type: ignore  "
   ]
  },
  {
   "cell_type": "code",
   "execution_count": null,
   "metadata": {},
   "outputs": [],
   "source": [
    "ecg_plot.plot(X_filtet/100,500,(test_dataset.info(0)).tolist(),columns=2,row_height= 8,show_grid=True,show_separate_line=True)  # type: ignore"
   ]
  },
  {
   "cell_type": "code",
   "execution_count": null,
   "metadata": {},
   "outputs": [],
   "source": []
  }
 ],
 "metadata": {
  "kernelspec": {
   "display_name": "Python 3.9.13 ('base')",
   "language": "python",
   "name": "python3"
  },
  "language_info": {
   "codemirror_mode": {
    "name": "ipython",
    "version": 3
   },
   "file_extension": ".py",
   "mimetype": "text/x-python",
   "name": "python",
   "nbconvert_exporter": "python",
   "pygments_lexer": "ipython3",
   "version": "3.7.13"
  },
  "orig_nbformat": 4,
  "vscode": {
   "interpreter": {
    "hash": "d4d1e4263499bec80672ea0156c357c1ee493ec2b1c70f0acce89fc37c4a6abe"
   }
  }
 },
 "nbformat": 4,
 "nbformat_minor": 2
}
